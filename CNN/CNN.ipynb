{
  "cells": [
    {
      "cell_type": "code",
      "execution_count": 63,
      "metadata": {
        "id": "DqtxBfkhxoc-"
      },
      "outputs": [],
      "source": [
        "import matplotlib.pyplot as plt\n",
        "import librosa\n",
        "import librosa.display\n",
        "import numpy as np\n",
        "import pandas as pd\n",
        "import os\n",
        "import IPython.display as ipd\n",
        "from IPython.display import clear_output\n",
        "%matplotlib inline"
      ]
    },
    {
      "cell_type": "code",
      "execution_count": 13,
      "metadata": {
        "id": "y7KP6FRfx1B6"
      },
      "outputs": [],
      "source": [
        "root_path=\"C:/Users/sarib/Desktop/Gohm/SpeechRecognition/database\""
      ]
    },
    {
      "cell_type": "code",
      "execution_count": 66,
      "metadata": {
        "id": "o9JrjZZqx35h"
      },
      "outputs": [],
      "source": [
        "def get_spectrogram(file):\n",
        "    signal, sample_rate = librosa.load(file)\n",
        "    ipd.Audio(file)\n",
        "    melspectrogram = librosa.feature.melspectrogram(signal)\n",
        "    S_DB = librosa.power_to_db(melspectrogram, ref=np.max)\n",
        "    return S_DB"
      ]
    },
    {
      "cell_type": "code",
      "execution_count": 15,
      "metadata": {
        "colab": {
          "base_uri": "https://localhost:8080/"
        },
        "id": "5IUr6UgeyGBB",
        "outputId": "515b1768-c23d-4db3-e270-3bfb0e928749"
      },
      "outputs": [
        {
          "data": {
            "text/plain": [
              "(128, 44)"
            ]
          },
          "execution_count": 15,
          "metadata": {},
          "output_type": "execute_result"
        }
      ],
      "source": [
        "ac=get_spectrogram('C:/Users/sarib/Desktop/Gohm/SpeechRecognition/database/ac/ac_AHCG_FYAOGEJ.wav')\n",
        "ac.shape"
      ]
    },
    {
      "cell_type": "code",
      "execution_count": 64,
      "metadata": {
        "colab": {
          "base_uri": "https://localhost:8080/",
          "height": 283
        },
        "id": "k8kQR8ggBycl",
        "outputId": "b56da804-589f-4f8e-adff-2cadea7e864d"
      },
      "outputs": [
        {
          "data": {
            "image/png": "[encoded data removed]",
            "text/plain": [
              "<Figure size 432x288 with 2 Axes>"
            ]
          },
          "metadata": {
            "needs_background": "light"
          },
          "output_type": "display_data"
        }
      ],
      "source": [
        "S_DB = librosa.power_to_db(ac, ref=np.max)\n",
        "librosa.display.specshow(S_DB, x_axis='time', y_axis='mel');\n",
        "plt.colorbar(format='%+2.0f dB');"
      ]
    },
    {
      "cell_type": "code",
      "execution_count": 65,
      "metadata": {
        "colab": {
          "base_uri": "https://localhost:8080/"
        },
        "id": "US8QmqAlCNuE",
        "outputId": "8b58070f-459a-461f-97cc-ee621bf40c0f"
      },
      "outputs": [
        {
          "data": {
            "text/plain": [
              "(128, 44)"
            ]
          },
          "execution_count": 65,
          "metadata": {},
          "output_type": "execute_result"
        }
      ],
      "source": [
        "S_DB.shape"
      ]
    },
    {
      "cell_type": "code",
      "execution_count": 67,
      "metadata": {
        "colab": {
          "base_uri": "https://localhost:8080/"
        },
        "id": "dC8CX-zoyPSv",
        "outputId": "f2cb05f5-3232-4be2-fe9a-14399fe01100"
      },
      "outputs": [
        {
          "data": {
            "text/plain": [
              "(128, 44)"
            ]
          },
          "execution_count": 67,
          "metadata": {},
          "output_type": "execute_result"
        }
      ],
      "source": [
        "asagi=get_spectrogram('C:/Users/sarib/Desktop/Gohm/SpeechRecognition/database/asagi/asagi_AHCG_WFMOQIR.wav')\n",
        "asagi.shape"
      ]
    },
    {
      "cell_type": "code",
      "execution_count": 68,
      "metadata": {
        "id": "1OhvgHSnyqgU"
      },
      "outputs": [],
      "source": [
        "extracted_feataures =[]\n",
        "for root, directories, files in os.walk(root_path):\n",
        "    for file_names in files:\n",
        "        if root is not root_path:\n",
        "            #print(os.path.join(root,file_names))\n",
        "            data = get_spectrogram(os.path.join(root,file_names))\n",
        "            extracted_feataures.append([data,os.path.basename(os.path.normpath(root))])"
      ]
    },
    {
      "cell_type": "code",
      "execution_count": 69,
      "metadata": {
        "colab": {
          "base_uri": "https://localhost:8080/",
          "height": 206
        },
        "id": "SEIC-Ivu0NG0",
        "outputId": "c0cb4e81-5349-45ba-a654-0f13e0808931"
      },
      "outputs": [
        {
          "data": {
            "text/html": [
              "\n",
              "  <div id=\"df-e9ad651e-2e3b-40a8-aaad-e33f61cb3a30\">\n",
              "    <div class=\"colab-df-container\">\n",
              "      <div>\n",
              "<style scoped>\n",
              "    .dataframe tbody tr th:only-of-type {\n",
              "        vertical-align: middle;\n",
              "    }\n",
              "\n",
              "    .dataframe tbody tr th {\n",
              "        vertical-align: top;\n",
              "    }\n",
              "\n",
              "    .dataframe thead th {\n",
              "        text-align: right;\n",
              "    }\n",
              "</style>\n",
              "<table border=\"1\" class=\"dataframe\">\n",
              "  <thead>\n",
              "    <tr style=\"text-align: right;\">\n",
              "      <th></th>\n",
              "      <th>melspectrogram</th>\n",
              "      <th>word</th>\n",
              "    </tr>\n",
              "  </thead>\n",
              "  <tbody>\n",
              "    <tr>\n",
              "      <th>0</th>\n",
              "      <td>[[-42.529427, -46.076447, -55.382362, -53.8832...</td>\n",
              "      <td>ac</td>\n",
              "    </tr>\n",
              "    <tr>\n",
              "      <th>1</th>\n",
              "      <td>[[-70.20584, -53.14595, -46.734535, -47.519524...</td>\n",
              "      <td>ac</td>\n",
              "    </tr>\n",
              "    <tr>\n",
              "      <th>2</th>\n",
              "      <td>[[-56.971497, -54.04003, -50.978535, -50.18958...</td>\n",
              "      <td>ac</td>\n",
              "    </tr>\n",
              "    <tr>\n",
              "      <th>3</th>\n",
              "      <td>[[-52.74346, -53.065823, -51.06662, -52.909985...</td>\n",
              "      <td>ac</td>\n",
              "    </tr>\n",
              "    <tr>\n",
              "      <th>4</th>\n",
              "      <td>[[-80.0, -67.5182, -59.17415, -57.237083, -54....</td>\n",
              "      <td>ac</td>\n",
              "    </tr>\n",
              "  </tbody>\n",
              "</table>\n",
              "</div>\n",
              "      <button class=\"colab-df-convert\" onclick=\"convertToInteractive('df-e9ad651e-2e3b-40a8-aaad-e33f61cb3a30')\"\n",
              "              title=\"Convert this dataframe to an interactive table.\"\n",
              "              style=\"display:none;\">\n",
              "        \n",
              "  <svg xmlns=\"http://www.w3.org/2000/svg\" height=\"24px\"viewBox=\"0 0 24 24\"\n",
              "       width=\"24px\">\n",
              "    <path d=\"M0 0h24v24H0V0z\" fill=\"none\"/>\n",
              "    <path d=\"M18.56 5.44l.94 2.06.94-2.06 2.06-.94-2.06-.94-.94-2.06-.94 2.06-2.06.94zm-11 1L8.5 8.5l.94-2.06 2.06-.94-2.06-.94L8.5 2.5l-.94 2.06-2.06.94zm10 10l.94 2.06.94-2.06 2.06-.94-2.06-.94-.94-2.06-.94 2.06-2.06.94z\"/><path d=\"M17.41 7.96l-1.37-1.37c-.4-.4-.92-.59-1.43-.59-.52 0-1.04.2-1.43.59L10.3 9.45l-7.72 7.72c-.78.78-.78 2.05 0 2.83L4 21.41c.39.39.9.59 1.41.59.51 0 1.02-.2 1.41-.59l7.78-7.78 2.81-2.81c.8-.78.8-2.07 0-2.86zM5.41 20L4 18.59l7.72-7.72 1.47 1.35L5.41 20z\"/>\n",
              "  </svg>\n",
              "      </button>\n",
              "      \n",
              "  <style>\n",
              "    .colab-df-container {\n",
              "      display:flex;\n",
              "      flex-wrap:wrap;\n",
              "      gap: 12px;\n",
              "    }\n",
              "\n",
              "    .colab-df-convert {\n",
              "      background-color: #E8F0FE;\n",
              "      border: none;\n",
              "      border-radius: 50%;\n",
              "      cursor: pointer;\n",
              "      display: none;\n",
              "      fill: #1967D2;\n",
              "      height: 32px;\n",
              "      padding: 0 0 0 0;\n",
              "      width: 32px;\n",
              "    }\n",
              "\n",
              "    .colab-df-convert:hover {\n",
              "      background-color: #E2EBFA;\n",
              "      box-shadow: 0px 1px 2px rgba(60, 64, 67, 0.3), 0px 1px 3px 1px rgba(60, 64, 67, 0.15);\n",
              "      fill: #174EA6;\n",
              "    }\n",
              "\n",
              "    [theme=dark] .colab-df-convert {\n",
              "      background-color: #3B4455;\n",
              "      fill: #D2E3FC;\n",
              "    }\n",
              "\n",
              "    [theme=dark] .colab-df-convert:hover {\n",
              "      background-color: #434B5C;\n",
              "      box-shadow: 0px 1px 3px 1px rgba(0, 0, 0, 0.15);\n",
              "      filter: drop-shadow(0px 1px 2px rgba(0, 0, 0, 0.3));\n",
              "      fill: #FFFFFF;\n",
              "    }\n",
              "  </style>\n",
              "\n",
              "      <script>\n",
              "        const buttonEl =\n",
              "          document.querySelector('#df-e9ad651e-2e3b-40a8-aaad-e33f61cb3a30 button.colab-df-convert');\n",
              "        buttonEl.style.display =\n",
              "          google.colab.kernel.accessAllowed ? 'block' : 'none';\n",
              "\n",
              "        async function convertToInteractive(key) {\n",
              "          const element = document.querySelector('#df-e9ad651e-2e3b-40a8-aaad-e33f61cb3a30');\n",
              "          const dataTable =\n",
              "            await google.colab.kernel.invokeFunction('convertToInteractive',\n",
              "                                                     [key], {});\n",
              "          if (!dataTable) return;\n",
              "\n",
              "          const docLinkHtml = 'Like what you see? Visit the ' +\n",
              "            '<a target=\"_blank\" href=https://colab.research.google.com/notebooks/data_table.ipynb>data table notebook</a>'\n",
              "            + ' to learn more about interactive tables.';\n",
              "          element.innerHTML = '';\n",
              "          dataTable['output_type'] = 'display_data';\n",
              "          await google.colab.output.renderOutput(dataTable, element);\n",
              "          const docLink = document.createElement('div');\n",
              "          docLink.innerHTML = docLinkHtml;\n",
              "          element.appendChild(docLink);\n",
              "        }\n",
              "      </script>\n",
              "    </div>\n",
              "  </div>\n",
              "  "
            ],
            "text/plain": [
              "                                      melspectrogram word\n",
              "0  [[-42.529427, -46.076447, -55.382362, -53.8832...   ac\n",
              "1  [[-70.20584, -53.14595, -46.734535, -47.519524...   ac\n",
              "2  [[-56.971497, -54.04003, -50.978535, -50.18958...   ac\n",
              "3  [[-52.74346, -53.065823, -51.06662, -52.909985...   ac\n",
              "4  [[-80.0, -67.5182, -59.17415, -57.237083, -54....   ac"
            ]
          },
          "execution_count": 69,
          "metadata": {},
          "output_type": "execute_result"
        }
      ],
      "source": [
        "extracted_feataures_dataframe= pd.DataFrame(extracted_feataures, columns=[\"melspectrogram\", \"word\"])\n",
        "extracted_feataures_dataframe.head()"
      ]
    },
    {
      "cell_type": "code",
      "execution_count": 70,
      "metadata": {
        "colab": {
          "base_uri": "https://localhost:8080/"
        },
        "id": "ZJl5iGMd1pNI",
        "outputId": "965e3064-7b56-4f35-eeb4-fa1899b56466"
      },
      "outputs": [
        {
          "data": {
            "text/plain": [
              "ac        1952\n",
              "baslat    1876\n",
              "asagi     1867\n",
              "Name: word, dtype: int64"
            ]
          },
          "execution_count": 70,
          "metadata": {},
          "output_type": "execute_result"
        }
      ],
      "source": [
        "extracted_feataures_dataframe['word'].value_counts()"
      ]
    },
    {
      "cell_type": "code",
      "execution_count": 71,
      "metadata": {
        "id": "7a3gepi70YFX"
      },
      "outputs": [],
      "source": [
        "X=np.array(extracted_feataures_dataframe['melspectrogram'].tolist())\n",
        "Y=np.array(extracted_feataures_dataframe['word'].tolist())"
      ]
    },
    {
      "cell_type": "code",
      "execution_count": 72,
      "metadata": {
        "id": "7-csRJAU0eLG"
      },
      "outputs": [],
      "source": [
        "from tensorflow.keras.utils import to_categorical\n",
        "from sklearn.preprocessing import LabelEncoder\n",
        "labelencoder=LabelEncoder()\n",
        "Y_numerical=to_categorical(labelencoder.fit_transform(Y))"
      ]
    },
    {
      "cell_type": "code",
      "execution_count": 73,
      "metadata": {
        "id": "5Ol13TMC0ihu"
      },
      "outputs": [],
      "source": [
        "from sklearn.model_selection import train_test_split\n",
        "X_train, X_test, Y_train, Y_test= train_test_split(X,Y_numerical, test_size=0.2, random_state=0)"
      ]
    },
    {
      "cell_type": "code",
      "execution_count": 100,
      "metadata": {
        "id": "IBoLhSu81c1_"
      },
      "outputs": [],
      "source": [
        "#INPUT_SHAPE=X_train.shape\n",
        "INPUT_SHAPE=(128,44,1)"
      ]
    },
    {
      "cell_type": "code",
      "execution_count": 75,
      "metadata": {
        "colab": {
          "base_uri": "https://localhost:8080/"
        },
        "id": "Cjp3VYX_1i4B",
        "outputId": "ee49ee98-981c-40ac-fa09-2633dd54101c"
      },
      "outputs": [
        {
          "data": {
            "text/plain": [
              "(1139, 128, 44)"
            ]
          },
          "execution_count": 75,
          "metadata": {},
          "output_type": "execute_result"
        }
      ],
      "source": [
        "X_test.shape"
      ]
    },
    {
      "cell_type": "markdown",
      "metadata": {
        "id": "TAmFuwni0ln_"
      },
      "source": [
        "**CNN MODEL**"
      ]
    },
    {
      "cell_type": "code",
      "execution_count": 76,
      "metadata": {
        "id": "N4geHZyn0rO7"
      },
      "outputs": [],
      "source": [
        "import tensorflow as tf\n",
        "from tensorflow.keras.callbacks import ModelCheckpoint, EarlyStopping,CSVLogger\n",
        "from tensorflow.keras.models import Sequential, load_model\n",
        "from tensorflow.keras.layers import Dense,Dropout,Activation,Flatten, Conv2D, MaxPooling2D\n",
        "from tensorflow.keras.optimizers import Adam\n",
        "from sklearn import metrics"
      ]
    },
    {
      "cell_type": "code",
      "execution_count": 158,
      "metadata": {
        "id": "CcFDCWDX2rdM"
      },
      "outputs": [],
      "source": [
        "model = Sequential()\n",
        "model.add(Conv2D(32, (3, 3), activation='relu', input_shape=(128,44,1)))\n",
        "model.add(MaxPooling2D((2, 2)))\n",
        "model.add(Conv2D(64, (3, 3), activation='relu', input_shape=(128,44,1)))\n",
        "model.add(MaxPooling2D((2, 2)))\n",
        "model.add(Conv2D(64, (3, 3), activation='relu', input_shape=(128,44,1)))\n",
        "\n",
        "\n",
        "model.add(Flatten())\n",
        "model.add(Dense(64, activation='relu'))\n",
        "model.add(Dense(Y_numerical.shape[1],activation='softmax'))"
      ]
    },
    {
      "cell_type": "code",
      "execution_count": 151,
      "metadata": {
        "colab": {
          "base_uri": "https://localhost:8080/"
        },
        "id": "zvlT7JGK3n7m",
        "outputId": "24a3a3fa-6065-4532-f0ba-1f2b65c84a55"
      },
      "outputs": [
        {
          "name": "stdout",
          "output_type": "stream",
          "text": [
            "Model: \"sequential_22\"\n",
            "_________________________________________________________________\n",
            " Layer (type)                Output Shape              Param #   \n",
            "=================================================================\n",
            " conv2d_66 (Conv2D)          (None, 126, 42, 32)       320       \n",
            "                                                                 \n",
            " max_pooling2d_37 (MaxPoolin  (None, 63, 21, 32)       0         \n",
            " g2D)                                                            \n",
            "                                                                 \n",
            " conv2d_67 (Conv2D)          (None, 61, 19, 64)        18496     \n",
            "                                                                 \n",
            " max_pooling2d_38 (MaxPoolin  (None, 30, 9, 64)        0         \n",
            " g2D)                                                            \n",
            "                                                                 \n",
            " conv2d_68 (Conv2D)          (None, 28, 7, 64)         36928     \n",
            "                                                                 \n",
            " flatten_18 (Flatten)        (None, 12544)             0         \n",
            "                                                                 \n",
            " dense_36 (Dense)            (None, 64)                802880    \n",
            "                                                                 \n",
            " dense_37 (Dense)            (None, 3)                 195       \n",
            "                                                                 \n",
            "=================================================================\n",
            "Total params: 858,819\n",
            "Trainable params: 858,819\n",
            "Non-trainable params: 0\n",
            "_________________________________________________________________\n"
          ]
        }
      ],
      "source": [
        "model.summary()"
      ]
    },
    {
      "cell_type": "code",
      "execution_count": 159,
      "metadata": {
        "id": "NBlOFnYnU9RT"
      },
      "outputs": [],
      "source": [
        "from tensorflow.keras.optimizers import RMSprop\n",
        "model.compile(loss='categorical_crossentropy',metrics=['accuracy'],optimizer=Adam(learning_rate=0.001))"
      ]
    },
    {
      "cell_type": "code",
      "execution_count": 160,
      "metadata": {
        "colab": {
          "base_uri": "https://localhost:8080/"
        },
        "id": "JzBVXES0VSbB",
        "outputId": "8f56e023-7f74-4c64-98cd-9f74eb58078b"
      },
      "outputs": [
        {
          "name": "stdout",
          "output_type": "stream",
          "text": [
            "Epoch 1/10\n",
            "143/143 - 26s - loss: 0.5789 - accuracy: 0.8944 - val_loss: 0.0781 - val_accuracy: 0.9789 - 26s/epoch - 181ms/step\n",
            "Epoch 2/10\n",
            "143/143 - 26s - loss: 0.0839 - accuracy: 0.9756 - val_loss: 0.0440 - val_accuracy: 0.9868 - 26s/epoch - 181ms/step\n",
            "Epoch 3/10\n",
            "143/143 - 26s - loss: 0.0595 - accuracy: 0.9822 - val_loss: 0.0808 - val_accuracy: 0.9701 - 26s/epoch - 185ms/step\n",
            "Epoch 4/10\n",
            "143/143 - 25s - loss: 0.0435 - accuracy: 0.9879 - val_loss: 0.0393 - val_accuracy: 0.9877 - 25s/epoch - 177ms/step\n",
            "Epoch 5/10\n",
            "143/143 - 25s - loss: 0.0349 - accuracy: 0.9884 - val_loss: 0.0388 - val_accuracy: 0.9877 - 25s/epoch - 177ms/step\n",
            "Epoch 6/10\n",
            "143/143 - 32s - loss: 0.0300 - accuracy: 0.9917 - val_loss: 0.0421 - val_accuracy: 0.9860 - 32s/epoch - 227ms/step\n",
            "Epoch 7/10\n",
            "143/143 - 26s - loss: 0.0243 - accuracy: 0.9925 - val_loss: 0.0452 - val_accuracy: 0.9903 - 26s/epoch - 181ms/step\n",
            "Epoch 8/10\n",
            "143/143 - 25s - loss: 0.0206 - accuracy: 0.9941 - val_loss: 0.0392 - val_accuracy: 0.9877 - 25s/epoch - 177ms/step\n",
            "Epoch 9/10\n",
            "143/143 - 25s - loss: 0.0513 - accuracy: 0.9849 - val_loss: 0.0335 - val_accuracy: 0.9903 - 25s/epoch - 176ms/step\n",
            "Epoch 10/10\n",
            "143/143 - 25s - loss: 0.0231 - accuracy: 0.9939 - val_loss: 0.0439 - val_accuracy: 0.9903 - 25s/epoch - 176ms/step\n"
          ]
        }
      ],
      "source": [
        "history=model.fit(X_train, Y_train, epochs=10, validation_data=(X_test, Y_test), verbose=2)"
      ]
    },
    {
      "cell_type": "code",
      "execution_count": 175,
      "metadata": {
        "colab": {
          "base_uri": "https://localhost:8080/",
          "height": 300
        },
        "id": "AnYabaTtYPZv",
        "outputId": "419fc48a-e809-42c4-ed70-cde4bdf4280e"
      },
      "outputs": [
        {
          "data": {
            "text/plain": [
              "<matplotlib.legend.Legend at 0x7f948a8e9ad0>"
            ]
          },
          "execution_count": 175,
          "metadata": {},
          "output_type": "execute_result"
        },
        {
          "data": {
            "image/png": "[encoded data removed]",
            "text/plain": [
              "<Figure size 432x288 with 1 Axes>"
            ]
          },
          "metadata": {
            "needs_background": "light"
          },
          "output_type": "display_data"
        }
      ],
      "source": [
        "plt.plot(history.history['accuracy'], label='accuracy')\n",
        "plt.plot(history.history['val_accuracy'], label = 'val_accuracy')\n",
        "plt.xlabel('Epoch')\n",
        "plt.ylabel('Accuracy')\n",
        "plt.ylim([0.875, 1])\n",
        "plt.legend(loc='lower right')"
      ]
    },
    {
      "cell_type": "code",
      "execution_count": 164,
      "metadata": {
        "colab": {
          "base_uri": "https://localhost:8080/"
        },
        "id": "3c-pyrIPVhMM",
        "outputId": "47bbb6c0-cd46-4718-e18e-1b782f59ce41"
      },
      "outputs": [
        {
          "name": "stdout",
          "output_type": "stream",
          "text": [
            "36/36 [==============================] - 2s 53ms/step - loss: 0.0439 - accuracy: 0.9903\n",
            "Test Score:  [0.043857429176568985, 0.990342378616333]\n",
            "143/143 [==============================] - 8s 59ms/step - loss: 0.0188 - accuracy: 0.9943\n",
            "Train Score:  [0.018814222887158394, 0.994293212890625]\n"
          ]
        }
      ],
      "source": [
        "print(\"Test Score: \", model.evaluate(X_test,Y_test))\n",
        "print(\"Train Score: \", model.evaluate(X_train,Y_train))"
      ]
    },
    {
      "cell_type": "markdown",
      "metadata": {
        "id": "SHTKznZ_l11M"
      },
      "source": [
        "**PREDICTION WITH DATA**"
      ]
    },
    {
      "cell_type": "code",
      "execution_count": 170,
      "metadata": {
        "id": "L3lnLQvbkzgt"
      },
      "outputs": [],
      "source": [
        "predictiondata_feataures =[]\n",
        "counter_true=0\n",
        "for root, directories, files in os.walk(\"C:/Users/sarib/Desktop/Gohm/SpeechRecognition/RecordsFromDataset\"): \n",
        "    for file_names in files:\n",
        "        if root is not root_path:\n",
        "            #print(os.path.join(root,file_names) )\n",
        "            r = get_spectrogram(os.path.join(root,file_names))\n",
        "            #rl=r.reshape(1,-1)\n",
        "            rl = r[np.newaxis, ...]\n",
        "            predicted_label=np.argmax(model.predict(rl), axis=1)\n",
        "            prediction_class = labelencoder.inverse_transform(predicted_label) \n",
        "            predictiondata_feataures.append([os.path.basename(os.path.normpath(root)), prediction_class, predicted_label])\n",
        "            if os.path.basename(os.path.normpath(root))==prediction_class:\n",
        "                counter_true+=1"
      ]
    },
    {
      "cell_type": "code",
      "execution_count": 171,
      "metadata": {
        "colab": {
          "base_uri": "https://localhost:8080/",
          "height": 349
        },
        "id": "_ISvdv7Xkznp",
        "outputId": "0c65a571-766f-426a-a6d3-beb4815dec59"
      },
      "outputs": [
        {
          "name": "stdout",
          "output_type": "stream",
          "text": [
            "The percantage of the true predicted data:  88.88888888888889 %\n"
          ]
        },
        {
          "data": {
            "text/html": [
              "\n",
              "  <div id=\"df-ec34d2a1-a0e8-456c-a22f-52415e8d5a07\">\n",
              "    <div class=\"colab-df-container\">\n",
              "      <div>\n",
              "<style scoped>\n",
              "    .dataframe tbody tr th:only-of-type {\n",
              "        vertical-align: middle;\n",
              "    }\n",
              "\n",
              "    .dataframe tbody tr th {\n",
              "        vertical-align: top;\n",
              "    }\n",
              "\n",
              "    .dataframe thead th {\n",
              "        text-align: right;\n",
              "    }\n",
              "</style>\n",
              "<table border=\"1\" class=\"dataframe\">\n",
              "  <thead>\n",
              "    <tr style=\"text-align: right;\">\n",
              "      <th></th>\n",
              "      <th>actual data</th>\n",
              "      <th>predicted data</th>\n",
              "      <th>predicted data code</th>\n",
              "    </tr>\n",
              "  </thead>\n",
              "  <tbody>\n",
              "    <tr>\n",
              "      <th>0</th>\n",
              "      <td>asagi</td>\n",
              "      <td>[asagi]</td>\n",
              "      <td>[1]</td>\n",
              "    </tr>\n",
              "    <tr>\n",
              "      <th>1</th>\n",
              "      <td>asagi</td>\n",
              "      <td>[asagi]</td>\n",
              "      <td>[1]</td>\n",
              "    </tr>\n",
              "    <tr>\n",
              "      <th>2</th>\n",
              "      <td>asagi</td>\n",
              "      <td>[asagi]</td>\n",
              "      <td>[1]</td>\n",
              "    </tr>\n",
              "    <tr>\n",
              "      <th>3</th>\n",
              "      <td>ac</td>\n",
              "      <td>[ac]</td>\n",
              "      <td>[0]</td>\n",
              "    </tr>\n",
              "    <tr>\n",
              "      <th>4</th>\n",
              "      <td>ac</td>\n",
              "      <td>[ac]</td>\n",
              "      <td>[0]</td>\n",
              "    </tr>\n",
              "    <tr>\n",
              "      <th>5</th>\n",
              "      <td>ac</td>\n",
              "      <td>[ac]</td>\n",
              "      <td>[0]</td>\n",
              "    </tr>\n",
              "    <tr>\n",
              "      <th>6</th>\n",
              "      <td>baslat</td>\n",
              "      <td>[baslat]</td>\n",
              "      <td>[2]</td>\n",
              "    </tr>\n",
              "    <tr>\n",
              "      <th>7</th>\n",
              "      <td>baslat</td>\n",
              "      <td>[baslat]</td>\n",
              "      <td>[2]</td>\n",
              "    </tr>\n",
              "    <tr>\n",
              "      <th>8</th>\n",
              "      <td>baslat</td>\n",
              "      <td>[asagi]</td>\n",
              "      <td>[1]</td>\n",
              "    </tr>\n",
              "  </tbody>\n",
              "</table>\n",
              "</div>\n",
              "      <button class=\"colab-df-convert\" onclick=\"convertToInteractive('df-ec34d2a1-a0e8-456c-a22f-52415e8d5a07')\"\n",
              "              title=\"Convert this dataframe to an interactive table.\"\n",
              "              style=\"display:none;\">\n",
              "        \n",
              "  <svg xmlns=\"http://www.w3.org/2000/svg\" height=\"24px\"viewBox=\"0 0 24 24\"\n",
              "       width=\"24px\">\n",
              "    <path d=\"M0 0h24v24H0V0z\" fill=\"none\"/>\n",
              "    <path d=\"M18.56 5.44l.94 2.06.94-2.06 2.06-.94-2.06-.94-.94-2.06-.94 2.06-2.06.94zm-11 1L8.5 8.5l.94-2.06 2.06-.94-2.06-.94L8.5 2.5l-.94 2.06-2.06.94zm10 10l.94 2.06.94-2.06 2.06-.94-2.06-.94-.94-2.06-.94 2.06-2.06.94z\"/><path d=\"M17.41 7.96l-1.37-1.37c-.4-.4-.92-.59-1.43-.59-.52 0-1.04.2-1.43.59L10.3 9.45l-7.72 7.72c-.78.78-.78 2.05 0 2.83L4 21.41c.39.39.9.59 1.41.59.51 0 1.02-.2 1.41-.59l7.78-7.78 2.81-2.81c.8-.78.8-2.07 0-2.86zM5.41 20L4 18.59l7.72-7.72 1.47 1.35L5.41 20z\"/>\n",
              "  </svg>\n",
              "      </button>\n",
              "      \n",
              "  <style>\n",
              "    .colab-df-container {\n",
              "      display:flex;\n",
              "      flex-wrap:wrap;\n",
              "      gap: 12px;\n",
              "    }\n",
              "\n",
              "    .colab-df-convert {\n",
              "      background-color: #E8F0FE;\n",
              "      border: none;\n",
              "      border-radius: 50%;\n",
              "      cursor: pointer;\n",
              "      display: none;\n",
              "      fill: #1967D2;\n",
              "      height: 32px;\n",
              "      padding: 0 0 0 0;\n",
              "      width: 32px;\n",
              "    }\n",
              "\n",
              "    .colab-df-convert:hover {\n",
              "      background-color: #E2EBFA;\n",
              "      box-shadow: 0px 1px 2px rgba(60, 64, 67, 0.3), 0px 1px 3px 1px rgba(60, 64, 67, 0.15);\n",
              "      fill: #174EA6;\n",
              "    }\n",
              "\n",
              "    [theme=dark] .colab-df-convert {\n",
              "      background-color: #3B4455;\n",
              "      fill: #D2E3FC;\n",
              "    }\n",
              "\n",
              "    [theme=dark] .colab-df-convert:hover {\n",
              "      background-color: #434B5C;\n",
              "      box-shadow: 0px 1px 3px 1px rgba(0, 0, 0, 0.15);\n",
              "      filter: drop-shadow(0px 1px 2px rgba(0, 0, 0, 0.3));\n",
              "      fill: #FFFFFF;\n",
              "    }\n",
              "  </style>\n",
              "\n",
              "      <script>\n",
              "        const buttonEl =\n",
              "          document.querySelector('#df-ec34d2a1-a0e8-456c-a22f-52415e8d5a07 button.colab-df-convert');\n",
              "        buttonEl.style.display =\n",
              "          google.colab.kernel.accessAllowed ? 'block' : 'none';\n",
              "\n",
              "        async function convertToInteractive(key) {\n",
              "          const element = document.querySelector('#df-ec34d2a1-a0e8-456c-a22f-52415e8d5a07');\n",
              "          const dataTable =\n",
              "            await google.colab.kernel.invokeFunction('convertToInteractive',\n",
              "                                                     [key], {});\n",
              "          if (!dataTable) return;\n",
              "\n",
              "          const docLinkHtml = 'Like what you see? Visit the ' +\n",
              "            '<a target=\"_blank\" href=https://colab.research.google.com/notebooks/data_table.ipynb>data table notebook</a>'\n",
              "            + ' to learn more about interactive tables.';\n",
              "          element.innerHTML = '';\n",
              "          dataTable['output_type'] = 'display_data';\n",
              "          await google.colab.output.renderOutput(dataTable, element);\n",
              "          const docLink = document.createElement('div');\n",
              "          docLink.innerHTML = docLinkHtml;\n",
              "          element.appendChild(docLink);\n",
              "        }\n",
              "      </script>\n",
              "    </div>\n",
              "  </div>\n",
              "  "
            ],
            "text/plain": [
              "  actual data predicted data predicted data code\n",
              "0       asagi        [asagi]                 [1]\n",
              "1       asagi        [asagi]                 [1]\n",
              "2       asagi        [asagi]                 [1]\n",
              "3          ac           [ac]                 [0]\n",
              "4          ac           [ac]                 [0]\n",
              "5          ac           [ac]                 [0]\n",
              "6      baslat       [baslat]                 [2]\n",
              "7      baslat       [baslat]                 [2]\n",
              "8      baslat        [asagi]                 [1]"
            ]
          },
          "execution_count": 171,
          "metadata": {},
          "output_type": "execute_result"
        }
      ],
      "source": [
        "predictiondata_feataures_dataframe= pd.DataFrame(predictiondata_feataures, columns=[\"actual data\", \"predicted data\", \"predicted data code\"])\n",
        "percentage= (counter_true/len(predictiondata_feataures))*100\n",
        "print(\"The percantage of the true predicted data: \", percentage,\"%\")\n",
        "#predictiondata_feataures_dataframe.to_csv(\"output.csv\")\n",
        "predictiondata_feataures_dataframe"
      ]
    }
  ],
  "metadata": {
    "colab": {
      "name": "CNN.ipynb",
      "provenance": []
    },
    "kernelspec": {
      "display_name": "Python 3",
      "name": "python3"
    },
    "language_info": {
      "name": "python"
    }
  },
  "nbformat": 4,
  "nbformat_minor": 0
}
