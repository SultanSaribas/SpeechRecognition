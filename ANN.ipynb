{
 "cells": [
  {
   "cell_type": "code",
   "execution_count": 1,
   "metadata": {},
   "outputs": [],
   "source": [
    "import matplotlib.pyplot as plt\n",
    "import librosa\n",
    "import numpy as np\n",
    "import pandas as pd\n",
    "import os\n",
    "import IPython.display as ipd\n",
    "from IPython.display import clear_output\n",
    "%matplotlib inline"
   ]
  },
  {
   "cell_type": "code",
   "execution_count": 2,
   "metadata": {},
   "outputs": [],
   "source": [
    "root_path=\"C:/Users/sarib/Desktop/Gohm/SpeechRecognition/database\""
   ]
  },
  {
   "cell_type": "code",
   "execution_count": 3,
   "metadata": {},
   "outputs": [],
   "source": [
    "def mfcc_extractor(file):\n",
    "    signal, sample_rate = librosa.load(file)\n",
    "    ipd.Audio(file)\n",
    "    mfccs_features = librosa.feature.mfcc(y=signal, sr=sample_rate, n_mfcc=40)\n",
    "    mfccs_scaled_features = np.mean(mfccs_features.T, axis=0)\n",
    "    \n",
    "    return mfccs_scaled_features"
   ]
  },
  {
   "cell_type": "code",
   "execution_count": 4,
   "metadata": {},
   "outputs": [],
   "source": [
    "#NOT USED\n",
    "def fft_extractor(file):\n",
    "    signal, sample_rate = librosa.load(file)\n",
    "    ipd.Audio(file)\n",
    "    fft = np.fft.fft(signal)\n",
    "    \n",
    "    return fft"
   ]
  },
  {
   "cell_type": "code",
   "execution_count": 5,
   "metadata": {},
   "outputs": [
    {
     "data": {
      "text/plain": [
       "array([ 3.96959355+0.j        , -1.57368256-0.43014124j,\n",
       "       -0.5562213 +0.51962332j, ...,  0.00995858+0.12657352j,\n",
       "       -0.5562213 -0.51962332j, -1.57368256+0.43014124j])"
      ]
     },
     "execution_count": 5,
     "metadata": {},
     "output_type": "execute_result"
    }
   ],
   "source": [
    "#NOT USED\n",
    "signal, sample_rate = librosa.load('database/ac/ac_AHCG_FSRPNCW.wav')\n",
    "ipd.Audio('database/ac/ac_AHCG_FSRPNCW.wav')\n",
    "fft = np.fft.fft(signal)\n",
    "fft"
   ]
  },
  {
   "cell_type": "code",
   "execution_count": 6,
   "metadata": {},
   "outputs": [
    {
     "data": {
      "text/plain": [
       "(40, 44)"
      ]
     },
     "execution_count": 6,
     "metadata": {},
     "output_type": "execute_result"
    }
   ],
   "source": [
    "#NOT USED\n",
    "signal, sample_rate = librosa.load('database\\sol\\sol_AKZI_FAWCVUT.wav' )\n",
    "ipd.Audio('database\\sol\\sol_AKZI_FAWCVUT.wav' )\n",
    "mfccs_features = librosa.feature.mfcc(y=signal, sr=sample_rate, n_mfcc=40)\n",
    "mfccs_features.shape"
   ]
  },
  {
   "cell_type": "code",
   "execution_count": 7,
   "metadata": {},
   "outputs": [],
   "source": [
    "\"\"\"from tqdm import tqdm\n",
    "import time\"\"\"\n",
    "extracted_feataures =[]\n",
    "for root, directories, files in os.walk(root_path):\n",
    "    for file_names in files:\n",
    "        if root is not root_path:\n",
    "            #print(os.path.join(root,file_names))\n",
    "            data = mfcc_extractor(os.path.join(root,file_names))\n",
    "            extracted_feataures.append([data,os.path.basename(os.path.normpath(root))])\n",
    "\n",
    "    \"\"\"for i in tqdm (range (100), desc=\"Loading...\"):\n",
    "        time.sleep(3)\"\"\""
   ]
  },
  {
   "cell_type": "code",
   "execution_count": 8,
   "metadata": {},
   "outputs": [
    {
     "data": {
      "text/html": [
       "<div>\n",
       "<style scoped>\n",
       "    .dataframe tbody tr th:only-of-type {\n",
       "        vertical-align: middle;\n",
       "    }\n",
       "\n",
       "    .dataframe tbody tr th {\n",
       "        vertical-align: top;\n",
       "    }\n",
       "\n",
       "    .dataframe thead th {\n",
       "        text-align: right;\n",
       "    }\n",
       "</style>\n",
       "<table border=\"1\" class=\"dataframe\">\n",
       "  <thead>\n",
       "    <tr style=\"text-align: right;\">\n",
       "      <th></th>\n",
       "      <th>mfcc</th>\n",
       "      <th>word</th>\n",
       "    </tr>\n",
       "  </thead>\n",
       "  <tbody>\n",
       "    <tr>\n",
       "      <th>0</th>\n",
       "      <td>[-483.0338, 62.193104, -10.424236, 17.89255, -...</td>\n",
       "      <td>ac</td>\n",
       "    </tr>\n",
       "    <tr>\n",
       "      <th>1</th>\n",
       "      <td>[-393.0876, 61.467396, -20.944004, 18.326431, ...</td>\n",
       "      <td>ac</td>\n",
       "    </tr>\n",
       "    <tr>\n",
       "      <th>2</th>\n",
       "      <td>[-557.86304, 99.75818, -6.094904, 0.65864086, ...</td>\n",
       "      <td>ac</td>\n",
       "    </tr>\n",
       "    <tr>\n",
       "      <th>3</th>\n",
       "      <td>[-518.9073, 52.873825, -3.625966, 5.807297, -9...</td>\n",
       "      <td>ac</td>\n",
       "    </tr>\n",
       "    <tr>\n",
       "      <th>4</th>\n",
       "      <td>[-539.5348, 84.21058, -6.7271714, 4.8634925, -...</td>\n",
       "      <td>ac</td>\n",
       "    </tr>\n",
       "  </tbody>\n",
       "</table>\n",
       "</div>"
      ],
      "text/plain": [
       "                                                mfcc word\n",
       "0  [-483.0338, 62.193104, -10.424236, 17.89255, -...   ac\n",
       "1  [-393.0876, 61.467396, -20.944004, 18.326431, ...   ac\n",
       "2  [-557.86304, 99.75818, -6.094904, 0.65864086, ...   ac\n",
       "3  [-518.9073, 52.873825, -3.625966, 5.807297, -9...   ac\n",
       "4  [-539.5348, 84.21058, -6.7271714, 4.8634925, -...   ac"
      ]
     },
     "execution_count": 8,
     "metadata": {},
     "output_type": "execute_result"
    }
   ],
   "source": [
    "extracted_feataures_dataframe= pd.DataFrame(extracted_feataures, columns=[\"mfcc\", \"word\"])\n",
    "extracted_feataures_dataframe.head()"
   ]
  },
  {
   "cell_type": "code",
   "execution_count": 9,
   "metadata": {},
   "outputs": [],
   "source": [
    "X=np.array(extracted_feataures_dataframe['mfcc'].tolist())\n",
    "Y=np.array(extracted_feataures_dataframe['word'].tolist())"
   ]
  },
  {
   "cell_type": "code",
   "execution_count": 10,
   "metadata": {},
   "outputs": [],
   "source": [
    "from tensorflow.keras.utils import to_categorical\n",
    "from sklearn.preprocessing import LabelEncoder\n",
    "labelencoder=LabelEncoder()\n",
    "Y_numerical=to_categorical(labelencoder.fit_transform(Y))"
   ]
  },
  {
   "cell_type": "code",
   "execution_count": 11,
   "metadata": {},
   "outputs": [],
   "source": [
    "from sklearn.model_selection import train_test_split\n",
    "X_train, X_test, Y_train, Y_test= train_test_split(X,Y_numerical, test_size=0.2, random_state=0)"
   ]
  },
  {
   "cell_type": "code",
   "execution_count": 12,
   "metadata": {},
   "outputs": [
    {
     "data": {
      "text/plain": [
       "(21153, 40)"
      ]
     },
     "execution_count": 12,
     "metadata": {},
     "output_type": "execute_result"
    }
   ],
   "source": [
    "#NOT USED\n",
    "X_train.shape"
   ]
  },
  {
   "cell_type": "code",
   "execution_count": 13,
   "metadata": {},
   "outputs": [
    {
     "data": {
      "text/plain": [
       "5289"
      ]
     },
     "execution_count": 13,
     "metadata": {},
     "output_type": "execute_result"
    }
   ],
   "source": [
    "#NOT USED\n",
    "len(Y_test)"
   ]
  },
  {
   "cell_type": "markdown",
   "metadata": {},
   "source": [
    "ANN Model"
   ]
  },
  {
   "cell_type": "code",
   "execution_count": 72,
   "metadata": {},
   "outputs": [],
   "source": [
    "import tensorflow as tf\n",
    "from tensorflow.keras.callbacks import ModelCheckpoint, EarlyStopping,CSVLogger\n",
    "from tensorflow.keras.models import Sequential\n",
    "from tensorflow.keras.layers import Dense,Dropout,Activation,Flatten\n",
    "from tensorflow.keras.optimizers import Adam\n",
    "from sklearn import metrics"
   ]
  },
  {
   "cell_type": "code",
   "execution_count": 73,
   "metadata": {},
   "outputs": [
    {
     "data": {
      "text/plain": [
       "\"\\nmodel.add(Dense(200, input_shape=(40,)))\\nmodel.add(Activation('relu'))\\n\\nmodel.add(Dense(300))\\nmodel.add(Activation('relu'))\\n\\nmodel.add(Dense(50))\\nmodel.add(Activation('relu'))\\n\\nmodel.add(Dense(Y_numerical.shape[1]))\\nmodel.add(Activation('sigmoid'))\""
      ]
     },
     "execution_count": 73,
     "metadata": {},
     "output_type": "execute_result"
    }
   ],
   "source": [
    "def createmodel():\n",
    "    model= Sequential()\n",
    "\n",
    "    model.add(Flatten(input_shape=(40, )))\n",
    "    model.add(Dense(300, Activation('relu')))\n",
    "    model.add(Dropout(0.2))\n",
    "    model.add(Dense(300, Activation('relu')))\n",
    "    model.add(Dense(Y_numerical.shape[1], Activation('softmax')))\n",
    "\n",
    "    return model\n",
    "\n",
    "model=createmodel()\n",
    "model\n",
    "\n",
    "\"\"\"\n",
    "model.add(Dense(200, input_shape=(40,)))\n",
    "model.add(Activation('relu'))\n",
    "\n",
    "model.add(Dense(300))\n",
    "model.add(Activation('relu'))\n",
    "\n",
    "model.add(Dense(50))\n",
    "model.add(Activation('relu'))\n",
    "\n",
    "model.add(Dense(Y_numerical.shape[1]))\n",
    "model.add(Activation('sigmoid'))\"\"\""
   ]
  },
  {
   "cell_type": "code",
   "execution_count": 74,
   "metadata": {},
   "outputs": [
    {
     "name": "stdout",
     "output_type": "stream",
     "text": [
      "Model: \"sequential_6\"\n",
      "_________________________________________________________________\n",
      " Layer (type)                Output Shape              Param #   \n",
      "=================================================================\n",
      " flatten_6 (Flatten)         (None, 40)                0         \n",
      "                                                                 \n",
      " dense_18 (Dense)            (None, 300)               12300     \n",
      "                                                                 \n",
      " dropout_6 (Dropout)         (None, 300)               0         \n",
      "                                                                 \n",
      " dense_19 (Dense)            (None, 300)               90300     \n",
      "                                                                 \n",
      " dense_20 (Dense)            (None, 14)                4214      \n",
      "                                                                 \n",
      "=================================================================\n",
      "Total params: 106,814\n",
      "Trainable params: 106,814\n",
      "Non-trainable params: 0\n",
      "_________________________________________________________________\n"
     ]
    }
   ],
   "source": [
    "model.summary()"
   ]
  },
  {
   "cell_type": "code",
   "execution_count": 75,
   "metadata": {},
   "outputs": [],
   "source": [
    "model.compile(loss='categorical_crossentropy',metrics=['accuracy'],optimizer=Adam())"
   ]
  },
  {
   "cell_type": "code",
   "execution_count": 76,
   "metadata": {},
   "outputs": [
    {
     "name": "stdout",
     "output_type": "stream",
     "text": [
      "Epoch 1/200\n",
      "\n",
      "Epoch 1: val_accuracy improved from -inf to 0.49026, saving model to training3\\cp.ckpt\n"
     ]
    },
    {
     "name": "stderr",
     "output_type": "stream",
     "text": [
      "WARNING:absl:Found untraced functions such as activation_18_layer_call_fn, activation_18_layer_call_and_return_conditional_losses, activation_19_layer_call_fn, activation_19_layer_call_and_return_conditional_losses, activation_20_layer_call_fn while saving (showing 5 of 6). These functions will not be directly callable after loading.\n"
     ]
    },
    {
     "name": "stdout",
     "output_type": "stream",
     "text": [
      "INFO:tensorflow:Assets written to: training3\\cp.ckpt\\assets\n"
     ]
    },
    {
     "name": "stderr",
     "output_type": "stream",
     "text": [
      "INFO:tensorflow:Assets written to: training3\\cp.ckpt\\assets\n"
     ]
    },
    {
     "name": "stdout",
     "output_type": "stream",
     "text": [
      "662/662 - 3s - loss: 3.9532 - accuracy: 0.2879 - val_loss: 1.5166 - val_accuracy: 0.4903 - 3s/epoch - 5ms/step\n",
      "Epoch 2/200\n",
      "\n",
      "Epoch 2: val_accuracy improved from 0.49026 to 0.51484, saving model to training3\\cp.ckpt\n"
     ]
    },
    {
     "name": "stderr",
     "output_type": "stream",
     "text": [
      "WARNING:absl:Found untraced functions such as activation_18_layer_call_fn, activation_18_layer_call_and_return_conditional_losses, activation_19_layer_call_fn, activation_19_layer_call_and_return_conditional_losses, activation_20_layer_call_fn while saving (showing 5 of 6). These functions will not be directly callable after loading.\n"
     ]
    },
    {
     "name": "stdout",
     "output_type": "stream",
     "text": [
      "INFO:tensorflow:Assets written to: training3\\cp.ckpt\\assets\n"
     ]
    },
    {
     "name": "stderr",
     "output_type": "stream",
     "text": [
      "INFO:tensorflow:Assets written to: training3\\cp.ckpt\\assets\n"
     ]
    },
    {
     "name": "stdout",
     "output_type": "stream",
     "text": [
      "662/662 - 4s - loss: 1.6096 - accuracy: 0.4464 - val_loss: 1.4092 - val_accuracy: 0.5148 - 4s/epoch - 6ms/step\n",
      "Epoch 3/200\n",
      "\n",
      "Epoch 3: val_accuracy improved from 0.51484 to 0.56854, saving model to training3\\cp.ckpt\n"
     ]
    },
    {
     "name": "stderr",
     "output_type": "stream",
     "text": [
      "WARNING:absl:Found untraced functions such as activation_18_layer_call_fn, activation_18_layer_call_and_return_conditional_losses, activation_19_layer_call_fn, activation_19_layer_call_and_return_conditional_losses, activation_20_layer_call_fn while saving (showing 5 of 6). These functions will not be directly callable after loading.\n"
     ]
    },
    {
     "name": "stdout",
     "output_type": "stream",
     "text": [
      "INFO:tensorflow:Assets written to: training3\\cp.ckpt\\assets\n"
     ]
    },
    {
     "name": "stderr",
     "output_type": "stream",
     "text": [
      "INFO:tensorflow:Assets written to: training3\\cp.ckpt\\assets\n"
     ]
    },
    {
     "name": "stdout",
     "output_type": "stream",
     "text": [
      "662/662 - 4s - loss: 1.4412 - accuracy: 0.4978 - val_loss: 1.2688 - val_accuracy: 0.5685 - 4s/epoch - 6ms/step\n",
      "Epoch 4/200\n",
      "\n",
      "Epoch 4: val_accuracy improved from 0.56854 to 0.59028, saving model to training3\\cp.ckpt\n"
     ]
    },
    {
     "name": "stderr",
     "output_type": "stream",
     "text": [
      "WARNING:absl:Found untraced functions such as activation_18_layer_call_fn, activation_18_layer_call_and_return_conditional_losses, activation_19_layer_call_fn, activation_19_layer_call_and_return_conditional_losses, activation_20_layer_call_fn while saving (showing 5 of 6). These functions will not be directly callable after loading.\n"
     ]
    },
    {
     "name": "stdout",
     "output_type": "stream",
     "text": [
      "INFO:tensorflow:Assets written to: training3\\cp.ckpt\\assets\n"
     ]
    },
    {
     "name": "stderr",
     "output_type": "stream",
     "text": [
      "INFO:tensorflow:Assets written to: training3\\cp.ckpt\\assets\n"
     ]
    },
    {
     "name": "stdout",
     "output_type": "stream",
     "text": [
      "662/662 - 3s - loss: 1.3349 - accuracy: 0.5365 - val_loss: 1.2047 - val_accuracy: 0.5903 - 3s/epoch - 5ms/step\n",
      "Epoch 5/200\n",
      "\n",
      "Epoch 5: val_accuracy improved from 0.59028 to 0.60938, saving model to training3\\cp.ckpt\n"
     ]
    },
    {
     "name": "stderr",
     "output_type": "stream",
     "text": [
      "WARNING:absl:Found untraced functions such as activation_18_layer_call_fn, activation_18_layer_call_and_return_conditional_losses, activation_19_layer_call_fn, activation_19_layer_call_and_return_conditional_losses, activation_20_layer_call_fn while saving (showing 5 of 6). These functions will not be directly callable after loading.\n"
     ]
    },
    {
     "name": "stdout",
     "output_type": "stream",
     "text": [
      "INFO:tensorflow:Assets written to: training3\\cp.ckpt\\assets\n"
     ]
    },
    {
     "name": "stderr",
     "output_type": "stream",
     "text": [
      "INFO:tensorflow:Assets written to: training3\\cp.ckpt\\assets\n"
     ]
    },
    {
     "name": "stdout",
     "output_type": "stream",
     "text": [
      "662/662 - 3s - loss: 1.2721 - accuracy: 0.5560 - val_loss: 1.1481 - val_accuracy: 0.6094 - 3s/epoch - 5ms/step\n",
      "Epoch 6/200\n",
      "\n",
      "Epoch 6: val_accuracy improved from 0.60938 to 0.61070, saving model to training3\\cp.ckpt\n"
     ]
    },
    {
     "name": "stderr",
     "output_type": "stream",
     "text": [
      "WARNING:absl:Found untraced functions such as activation_18_layer_call_fn, activation_18_layer_call_and_return_conditional_losses, activation_19_layer_call_fn, activation_19_layer_call_and_return_conditional_losses, activation_20_layer_call_fn while saving (showing 5 of 6). These functions will not be directly callable after loading.\n"
     ]
    },
    {
     "name": "stdout",
     "output_type": "stream",
     "text": [
      "INFO:tensorflow:Assets written to: training3\\cp.ckpt\\assets\n"
     ]
    },
    {
     "name": "stderr",
     "output_type": "stream",
     "text": [
      "INFO:tensorflow:Assets written to: training3\\cp.ckpt\\assets\n"
     ]
    },
    {
     "name": "stdout",
     "output_type": "stream",
     "text": [
      "662/662 - 3s - loss: 1.2184 - accuracy: 0.5738 - val_loss: 1.1240 - val_accuracy: 0.6107 - 3s/epoch - 4ms/step\n",
      "Epoch 7/200\n",
      "\n",
      "Epoch 7: val_accuracy improved from 0.61070 to 0.63925, saving model to training3\\cp.ckpt\n"
     ]
    },
    {
     "name": "stderr",
     "output_type": "stream",
     "text": [
      "WARNING:absl:Found untraced functions such as activation_18_layer_call_fn, activation_18_layer_call_and_return_conditional_losses, activation_19_layer_call_fn, activation_19_layer_call_and_return_conditional_losses, activation_20_layer_call_fn while saving (showing 5 of 6). These functions will not be directly callable after loading.\n"
     ]
    },
    {
     "name": "stdout",
     "output_type": "stream",
     "text": [
      "INFO:tensorflow:Assets written to: training3\\cp.ckpt\\assets\n"
     ]
    },
    {
     "name": "stderr",
     "output_type": "stream",
     "text": [
      "INFO:tensorflow:Assets written to: training3\\cp.ckpt\\assets\n"
     ]
    },
    {
     "name": "stdout",
     "output_type": "stream",
     "text": [
      "662/662 - 3s - loss: 1.1696 - accuracy: 0.5924 - val_loss: 1.0685 - val_accuracy: 0.6393 - 3s/epoch - 4ms/step\n",
      "Epoch 8/200\n",
      "\n",
      "Epoch 8: val_accuracy improved from 0.63925 to 0.64379, saving model to training3\\cp.ckpt\n"
     ]
    },
    {
     "name": "stderr",
     "output_type": "stream",
     "text": [
      "WARNING:absl:Found untraced functions such as activation_18_layer_call_fn, activation_18_layer_call_and_return_conditional_losses, activation_19_layer_call_fn, activation_19_layer_call_and_return_conditional_losses, activation_20_layer_call_fn while saving (showing 5 of 6). These functions will not be directly callable after loading.\n"
     ]
    },
    {
     "name": "stdout",
     "output_type": "stream",
     "text": [
      "INFO:tensorflow:Assets written to: training3\\cp.ckpt\\assets\n"
     ]
    },
    {
     "name": "stderr",
     "output_type": "stream",
     "text": [
      "INFO:tensorflow:Assets written to: training3\\cp.ckpt\\assets\n"
     ]
    },
    {
     "name": "stdout",
     "output_type": "stream",
     "text": [
      "662/662 - 3s - loss: 1.1285 - accuracy: 0.6063 - val_loss: 1.0318 - val_accuracy: 0.6438 - 3s/epoch - 4ms/step\n",
      "Epoch 9/200\n",
      "\n",
      "Epoch 9: val_accuracy improved from 0.64379 to 0.65343, saving model to training3\\cp.ckpt\n"
     ]
    },
    {
     "name": "stderr",
     "output_type": "stream",
     "text": [
      "WARNING:absl:Found untraced functions such as activation_18_layer_call_fn, activation_18_layer_call_and_return_conditional_losses, activation_19_layer_call_fn, activation_19_layer_call_and_return_conditional_losses, activation_20_layer_call_fn while saving (showing 5 of 6). These functions will not be directly callable after loading.\n"
     ]
    },
    {
     "name": "stdout",
     "output_type": "stream",
     "text": [
      "INFO:tensorflow:Assets written to: training3\\cp.ckpt\\assets\n"
     ]
    },
    {
     "name": "stderr",
     "output_type": "stream",
     "text": [
      "INFO:tensorflow:Assets written to: training3\\cp.ckpt\\assets\n"
     ]
    },
    {
     "name": "stdout",
     "output_type": "stream",
     "text": [
      "662/662 - 3s - loss: 1.0816 - accuracy: 0.6219 - val_loss: 1.0072 - val_accuracy: 0.6534 - 3s/epoch - 5ms/step\n",
      "Epoch 10/200\n",
      "\n",
      "Epoch 10: val_accuracy improved from 0.65343 to 0.65551, saving model to training3\\cp.ckpt\n"
     ]
    },
    {
     "name": "stderr",
     "output_type": "stream",
     "text": [
      "WARNING:absl:Found untraced functions such as activation_18_layer_call_fn, activation_18_layer_call_and_return_conditional_losses, activation_19_layer_call_fn, activation_19_layer_call_and_return_conditional_losses, activation_20_layer_call_fn while saving (showing 5 of 6). These functions will not be directly callable after loading.\n"
     ]
    },
    {
     "name": "stdout",
     "output_type": "stream",
     "text": [
      "INFO:tensorflow:Assets written to: training3\\cp.ckpt\\assets\n"
     ]
    },
    {
     "name": "stderr",
     "output_type": "stream",
     "text": [
      "INFO:tensorflow:Assets written to: training3\\cp.ckpt\\assets\n"
     ]
    },
    {
     "name": "stdout",
     "output_type": "stream",
     "text": [
      "662/662 - 3s - loss: 1.0614 - accuracy: 0.6297 - val_loss: 0.9950 - val_accuracy: 0.6555 - 3s/epoch - 4ms/step\n",
      "Epoch 11/200\n",
      "\n",
      "Epoch 11: val_accuracy improved from 0.65551 to 0.66572, saving model to training3\\cp.ckpt\n"
     ]
    },
    {
     "name": "stderr",
     "output_type": "stream",
     "text": [
      "WARNING:absl:Found untraced functions such as activation_18_layer_call_fn, activation_18_layer_call_and_return_conditional_losses, activation_19_layer_call_fn, activation_19_layer_call_and_return_conditional_losses, activation_20_layer_call_fn while saving (showing 5 of 6). These functions will not be directly callable after loading.\n"
     ]
    },
    {
     "name": "stdout",
     "output_type": "stream",
     "text": [
      "INFO:tensorflow:Assets written to: training3\\cp.ckpt\\assets\n"
     ]
    },
    {
     "name": "stderr",
     "output_type": "stream",
     "text": [
      "INFO:tensorflow:Assets written to: training3\\cp.ckpt\\assets\n"
     ]
    },
    {
     "name": "stdout",
     "output_type": "stream",
     "text": [
      "662/662 - 3s - loss: 1.0103 - accuracy: 0.6447 - val_loss: 0.9774 - val_accuracy: 0.6657 - 3s/epoch - 5ms/step\n",
      "Epoch 12/200\n",
      "\n",
      "Epoch 12: val_accuracy improved from 0.66572 to 0.68425, saving model to training3\\cp.ckpt\n"
     ]
    },
    {
     "name": "stderr",
     "output_type": "stream",
     "text": [
      "WARNING:absl:Found untraced functions such as activation_18_layer_call_fn, activation_18_layer_call_and_return_conditional_losses, activation_19_layer_call_fn, activation_19_layer_call_and_return_conditional_losses, activation_20_layer_call_fn while saving (showing 5 of 6). These functions will not be directly callable after loading.\n"
     ]
    },
    {
     "name": "stdout",
     "output_type": "stream",
     "text": [
      "INFO:tensorflow:Assets written to: training3\\cp.ckpt\\assets\n"
     ]
    },
    {
     "name": "stderr",
     "output_type": "stream",
     "text": [
      "INFO:tensorflow:Assets written to: training3\\cp.ckpt\\assets\n"
     ]
    },
    {
     "name": "stdout",
     "output_type": "stream",
     "text": [
      "662/662 - 3s - loss: 0.9739 - accuracy: 0.6605 - val_loss: 0.9390 - val_accuracy: 0.6843 - 3s/epoch - 5ms/step\n",
      "Epoch 13/200\n",
      "\n",
      "Epoch 13: val_accuracy did not improve from 0.68425\n",
      "662/662 - 2s - loss: 0.9518 - accuracy: 0.6644 - val_loss: 0.9366 - val_accuracy: 0.6759 - 2s/epoch - 3ms/step\n",
      "Epoch 14/200\n",
      "\n",
      "Epoch 14: val_accuracy improved from 0.68425 to 0.68746, saving model to training3\\cp.ckpt\n"
     ]
    },
    {
     "name": "stderr",
     "output_type": "stream",
     "text": [
      "WARNING:absl:Found untraced functions such as activation_18_layer_call_fn, activation_18_layer_call_and_return_conditional_losses, activation_19_layer_call_fn, activation_19_layer_call_and_return_conditional_losses, activation_20_layer_call_fn while saving (showing 5 of 6). These functions will not be directly callable after loading.\n"
     ]
    },
    {
     "name": "stdout",
     "output_type": "stream",
     "text": [
      "INFO:tensorflow:Assets written to: training3\\cp.ckpt\\assets\n"
     ]
    },
    {
     "name": "stderr",
     "output_type": "stream",
     "text": [
      "INFO:tensorflow:Assets written to: training3\\cp.ckpt\\assets\n"
     ]
    },
    {
     "name": "stdout",
     "output_type": "stream",
     "text": [
      "662/662 - 3s - loss: 0.9202 - accuracy: 0.6782 - val_loss: 0.9378 - val_accuracy: 0.6875 - 3s/epoch - 4ms/step\n",
      "Epoch 15/200\n",
      "\n",
      "Epoch 15: val_accuracy did not improve from 0.68746\n",
      "662/662 - 2s - loss: 0.8881 - accuracy: 0.6868 - val_loss: 0.9180 - val_accuracy: 0.6865 - 2s/epoch - 3ms/step\n",
      "Epoch 16/200\n",
      "\n",
      "Epoch 16: val_accuracy improved from 0.68746 to 0.70694, saving model to training3\\cp.ckpt\n"
     ]
    },
    {
     "name": "stderr",
     "output_type": "stream",
     "text": [
      "WARNING:absl:Found untraced functions such as activation_18_layer_call_fn, activation_18_layer_call_and_return_conditional_losses, activation_19_layer_call_fn, activation_19_layer_call_and_return_conditional_losses, activation_20_layer_call_fn while saving (showing 5 of 6). These functions will not be directly callable after loading.\n"
     ]
    },
    {
     "name": "stdout",
     "output_type": "stream",
     "text": [
      "INFO:tensorflow:Assets written to: training3\\cp.ckpt\\assets\n"
     ]
    },
    {
     "name": "stderr",
     "output_type": "stream",
     "text": [
      "INFO:tensorflow:Assets written to: training3\\cp.ckpt\\assets\n"
     ]
    },
    {
     "name": "stdout",
     "output_type": "stream",
     "text": [
      "662/662 - 3s - loss: 0.8694 - accuracy: 0.6928 - val_loss: 0.8701 - val_accuracy: 0.7069 - 3s/epoch - 4ms/step\n",
      "Epoch 17/200\n",
      "\n",
      "Epoch 17: val_accuracy did not improve from 0.70694\n",
      "662/662 - 2s - loss: 0.8429 - accuracy: 0.7028 - val_loss: 0.8881 - val_accuracy: 0.6990 - 2s/epoch - 3ms/step\n",
      "Epoch 18/200\n",
      "\n",
      "Epoch 18: val_accuracy did not improve from 0.70694\n",
      "662/662 - 2s - loss: 0.8259 - accuracy: 0.7116 - val_loss: 0.8952 - val_accuracy: 0.7050 - 2s/epoch - 3ms/step\n",
      "Epoch 19/200\n",
      "\n",
      "Epoch 19: val_accuracy improved from 0.70694 to 0.71129, saving model to training3\\cp.ckpt\n"
     ]
    },
    {
     "name": "stderr",
     "output_type": "stream",
     "text": [
      "WARNING:absl:Found untraced functions such as activation_18_layer_call_fn, activation_18_layer_call_and_return_conditional_losses, activation_19_layer_call_fn, activation_19_layer_call_and_return_conditional_losses, activation_20_layer_call_fn while saving (showing 5 of 6). These functions will not be directly callable after loading.\n"
     ]
    },
    {
     "name": "stdout",
     "output_type": "stream",
     "text": [
      "INFO:tensorflow:Assets written to: training3\\cp.ckpt\\assets\n"
     ]
    },
    {
     "name": "stderr",
     "output_type": "stream",
     "text": [
      "INFO:tensorflow:Assets written to: training3\\cp.ckpt\\assets\n"
     ]
    },
    {
     "name": "stdout",
     "output_type": "stream",
     "text": [
      "662/662 - 3s - loss: 0.8033 - accuracy: 0.7185 - val_loss: 0.8506 - val_accuracy: 0.7113 - 3s/epoch - 4ms/step\n",
      "Epoch 20/200\n",
      "\n",
      "Epoch 20: val_accuracy improved from 0.71129 to 0.71734, saving model to training3\\cp.ckpt\n"
     ]
    },
    {
     "name": "stderr",
     "output_type": "stream",
     "text": [
      "WARNING:absl:Found untraced functions such as activation_18_layer_call_fn, activation_18_layer_call_and_return_conditional_losses, activation_19_layer_call_fn, activation_19_layer_call_and_return_conditional_losses, activation_20_layer_call_fn while saving (showing 5 of 6). These functions will not be directly callable after loading.\n"
     ]
    },
    {
     "name": "stdout",
     "output_type": "stream",
     "text": [
      "INFO:tensorflow:Assets written to: training3\\cp.ckpt\\assets\n"
     ]
    },
    {
     "name": "stderr",
     "output_type": "stream",
     "text": [
      "INFO:tensorflow:Assets written to: training3\\cp.ckpt\\assets\n"
     ]
    },
    {
     "name": "stdout",
     "output_type": "stream",
     "text": [
      "662/662 - 3s - loss: 0.7894 - accuracy: 0.7249 - val_loss: 0.8686 - val_accuracy: 0.7173 - 3s/epoch - 5ms/step\n",
      "Epoch 21/200\n",
      "\n",
      "Epoch 21: val_accuracy did not improve from 0.71734\n",
      "662/662 - 2s - loss: 0.7616 - accuracy: 0.7334 - val_loss: 0.8533 - val_accuracy: 0.7160 - 2s/epoch - 4ms/step\n",
      "Epoch 22/200\n",
      "\n",
      "Epoch 22: val_accuracy did not improve from 0.71734\n",
      "662/662 - 2s - loss: 0.7599 - accuracy: 0.7329 - val_loss: 0.8716 - val_accuracy: 0.7147 - 2s/epoch - 3ms/step\n",
      "Epoch 23/200\n",
      "\n",
      "Epoch 23: val_accuracy improved from 0.71734 to 0.72849, saving model to training3\\cp.ckpt\n"
     ]
    },
    {
     "name": "stderr",
     "output_type": "stream",
     "text": [
      "WARNING:absl:Found untraced functions such as activation_18_layer_call_fn, activation_18_layer_call_and_return_conditional_losses, activation_19_layer_call_fn, activation_19_layer_call_and_return_conditional_losses, activation_20_layer_call_fn while saving (showing 5 of 6). These functions will not be directly callable after loading.\n"
     ]
    },
    {
     "name": "stdout",
     "output_type": "stream",
     "text": [
      "INFO:tensorflow:Assets written to: training3\\cp.ckpt\\assets\n"
     ]
    },
    {
     "name": "stderr",
     "output_type": "stream",
     "text": [
      "INFO:tensorflow:Assets written to: training3\\cp.ckpt\\assets\n"
     ]
    },
    {
     "name": "stdout",
     "output_type": "stream",
     "text": [
      "662/662 - 3s - loss: 0.7462 - accuracy: 0.7379 - val_loss: 0.8422 - val_accuracy: 0.7285 - 3s/epoch - 4ms/step\n",
      "Epoch 24/200\n",
      "\n",
      "Epoch 24: val_accuracy did not improve from 0.72849\n",
      "662/662 - 2s - loss: 0.7300 - accuracy: 0.7407 - val_loss: 0.8286 - val_accuracy: 0.7215 - 2s/epoch - 3ms/step\n",
      "Epoch 25/200\n",
      "\n",
      "Epoch 25: val_accuracy improved from 0.72849 to 0.73057, saving model to training3\\cp.ckpt\n"
     ]
    },
    {
     "name": "stderr",
     "output_type": "stream",
     "text": [
      "WARNING:absl:Found untraced functions such as activation_18_layer_call_fn, activation_18_layer_call_and_return_conditional_losses, activation_19_layer_call_fn, activation_19_layer_call_and_return_conditional_losses, activation_20_layer_call_fn while saving (showing 5 of 6). These functions will not be directly callable after loading.\n"
     ]
    },
    {
     "name": "stdout",
     "output_type": "stream",
     "text": [
      "INFO:tensorflow:Assets written to: training3\\cp.ckpt\\assets\n"
     ]
    },
    {
     "name": "stderr",
     "output_type": "stream",
     "text": [
      "INFO:tensorflow:Assets written to: training3\\cp.ckpt\\assets\n"
     ]
    },
    {
     "name": "stdout",
     "output_type": "stream",
     "text": [
      "662/662 - 3s - loss: 0.7209 - accuracy: 0.7484 - val_loss: 0.8158 - val_accuracy: 0.7306 - 3s/epoch - 4ms/step\n",
      "Epoch 26/200\n",
      "\n",
      "Epoch 26: val_accuracy did not improve from 0.73057\n",
      "662/662 - 2s - loss: 0.6991 - accuracy: 0.7504 - val_loss: 0.8554 - val_accuracy: 0.7289 - 2s/epoch - 3ms/step\n",
      "Epoch 27/200\n",
      "\n",
      "Epoch 27: val_accuracy did not improve from 0.73057\n",
      "662/662 - 2s - loss: 0.7013 - accuracy: 0.7512 - val_loss: 0.8659 - val_accuracy: 0.7185 - 2s/epoch - 3ms/step\n",
      "Epoch 28/200\n",
      "\n",
      "Epoch 28: val_accuracy did not improve from 0.73057\n",
      "662/662 - 2s - loss: 0.7089 - accuracy: 0.7495 - val_loss: 0.8494 - val_accuracy: 0.7291 - 2s/epoch - 3ms/step\n",
      "Epoch 29/200\n",
      "\n",
      "Epoch 29: val_accuracy did not improve from 0.73057\n",
      "662/662 - 2s - loss: 0.6633 - accuracy: 0.7609 - val_loss: 0.8416 - val_accuracy: 0.7291 - 2s/epoch - 3ms/step\n",
      "Epoch 30/200\n",
      "\n",
      "Epoch 30: val_accuracy improved from 0.73057 to 0.73662, saving model to training3\\cp.ckpt\n"
     ]
    },
    {
     "name": "stderr",
     "output_type": "stream",
     "text": [
      "WARNING:absl:Found untraced functions such as activation_18_layer_call_fn, activation_18_layer_call_and_return_conditional_losses, activation_19_layer_call_fn, activation_19_layer_call_and_return_conditional_losses, activation_20_layer_call_fn while saving (showing 5 of 6). These functions will not be directly callable after loading.\n"
     ]
    },
    {
     "name": "stdout",
     "output_type": "stream",
     "text": [
      "INFO:tensorflow:Assets written to: training3\\cp.ckpt\\assets\n"
     ]
    },
    {
     "name": "stderr",
     "output_type": "stream",
     "text": [
      "INFO:tensorflow:Assets written to: training3\\cp.ckpt\\assets\n"
     ]
    },
    {
     "name": "stdout",
     "output_type": "stream",
     "text": [
      "662/662 - 3s - loss: 0.7127 - accuracy: 0.7485 - val_loss: 0.8156 - val_accuracy: 0.7366 - 3s/epoch - 4ms/step\n",
      "Epoch 31/200\n",
      "\n",
      "Epoch 31: val_accuracy did not improve from 0.73662\n",
      "662/662 - 2s - loss: 0.6646 - accuracy: 0.7631 - val_loss: 0.8416 - val_accuracy: 0.7266 - 2s/epoch - 3ms/step\n",
      "Epoch 32/200\n",
      "\n",
      "Epoch 32: val_accuracy did not improve from 0.73662\n",
      "662/662 - 2s - loss: 0.6469 - accuracy: 0.7676 - val_loss: 0.8483 - val_accuracy: 0.7281 - 2s/epoch - 3ms/step\n",
      "Epoch 33/200\n",
      "\n",
      "Epoch 33: val_accuracy did not improve from 0.73662\n",
      "662/662 - 2s - loss: 0.6273 - accuracy: 0.7753 - val_loss: 0.8256 - val_accuracy: 0.7349 - 2s/epoch - 3ms/step\n",
      "Epoch 34/200\n",
      "\n",
      "Epoch 34: val_accuracy improved from 0.73662 to 0.73681, saving model to training3\\cp.ckpt\n"
     ]
    },
    {
     "name": "stderr",
     "output_type": "stream",
     "text": [
      "WARNING:absl:Found untraced functions such as activation_18_layer_call_fn, activation_18_layer_call_and_return_conditional_losses, activation_19_layer_call_fn, activation_19_layer_call_and_return_conditional_losses, activation_20_layer_call_fn while saving (showing 5 of 6). These functions will not be directly callable after loading.\n"
     ]
    },
    {
     "name": "stdout",
     "output_type": "stream",
     "text": [
      "INFO:tensorflow:Assets written to: training3\\cp.ckpt\\assets\n"
     ]
    },
    {
     "name": "stderr",
     "output_type": "stream",
     "text": [
      "INFO:tensorflow:Assets written to: training3\\cp.ckpt\\assets\n"
     ]
    },
    {
     "name": "stdout",
     "output_type": "stream",
     "text": [
      "662/662 - 2s - loss: 0.6241 - accuracy: 0.7779 - val_loss: 0.8304 - val_accuracy: 0.7368 - 2s/epoch - 4ms/step\n",
      "Epoch 35/200\n",
      "\n",
      "Epoch 35: val_accuracy improved from 0.73681 to 0.74456, saving model to training3\\cp.ckpt\n"
     ]
    },
    {
     "name": "stderr",
     "output_type": "stream",
     "text": [
      "WARNING:absl:Found untraced functions such as activation_18_layer_call_fn, activation_18_layer_call_and_return_conditional_losses, activation_19_layer_call_fn, activation_19_layer_call_and_return_conditional_losses, activation_20_layer_call_fn while saving (showing 5 of 6). These functions will not be directly callable after loading.\n"
     ]
    },
    {
     "name": "stdout",
     "output_type": "stream",
     "text": [
      "INFO:tensorflow:Assets written to: training3\\cp.ckpt\\assets\n"
     ]
    },
    {
     "name": "stderr",
     "output_type": "stream",
     "text": [
      "INFO:tensorflow:Assets written to: training3\\cp.ckpt\\assets\n"
     ]
    },
    {
     "name": "stdout",
     "output_type": "stream",
     "text": [
      "662/662 - 3s - loss: 0.6276 - accuracy: 0.7780 - val_loss: 0.8265 - val_accuracy: 0.7446 - 3s/epoch - 4ms/step\n",
      "Epoch 36/200\n",
      "\n",
      "Epoch 36: val_accuracy did not improve from 0.74456\n",
      "662/662 - 2s - loss: 0.6194 - accuracy: 0.7804 - val_loss: 0.8215 - val_accuracy: 0.7364 - 2s/epoch - 3ms/step\n",
      "Epoch 37/200\n",
      "\n",
      "Epoch 37: val_accuracy did not improve from 0.74456\n",
      "662/662 - 2s - loss: 0.6075 - accuracy: 0.7856 - val_loss: 0.8526 - val_accuracy: 0.7332 - 2s/epoch - 3ms/step\n",
      "Epoch 38/200\n",
      "\n",
      "Epoch 38: val_accuracy did not improve from 0.74456\n",
      "662/662 - 2s - loss: 0.6084 - accuracy: 0.7855 - val_loss: 0.8327 - val_accuracy: 0.7372 - 2s/epoch - 3ms/step\n",
      "Epoch 39/200\n",
      "\n",
      "Epoch 39: val_accuracy improved from 0.74456 to 0.74570, saving model to training3\\cp.ckpt\n"
     ]
    },
    {
     "name": "stderr",
     "output_type": "stream",
     "text": [
      "WARNING:absl:Found untraced functions such as activation_18_layer_call_fn, activation_18_layer_call_and_return_conditional_losses, activation_19_layer_call_fn, activation_19_layer_call_and_return_conditional_losses, activation_20_layer_call_fn while saving (showing 5 of 6). These functions will not be directly callable after loading.\n"
     ]
    },
    {
     "name": "stdout",
     "output_type": "stream",
     "text": [
      "INFO:tensorflow:Assets written to: training3\\cp.ckpt\\assets\n"
     ]
    },
    {
     "name": "stderr",
     "output_type": "stream",
     "text": [
      "INFO:tensorflow:Assets written to: training3\\cp.ckpt\\assets\n"
     ]
    },
    {
     "name": "stdout",
     "output_type": "stream",
     "text": [
      "662/662 - 2s - loss: 0.5910 - accuracy: 0.7882 - val_loss: 0.8167 - val_accuracy: 0.7457 - 2s/epoch - 4ms/step\n",
      "Epoch 40/200\n",
      "\n",
      "Epoch 40: val_accuracy improved from 0.74570 to 0.75024, saving model to training3\\cp.ckpt\n"
     ]
    },
    {
     "name": "stderr",
     "output_type": "stream",
     "text": [
      "WARNING:absl:Found untraced functions such as activation_18_layer_call_fn, activation_18_layer_call_and_return_conditional_losses, activation_19_layer_call_fn, activation_19_layer_call_and_return_conditional_losses, activation_20_layer_call_fn while saving (showing 5 of 6). These functions will not be directly callable after loading.\n"
     ]
    },
    {
     "name": "stdout",
     "output_type": "stream",
     "text": [
      "INFO:tensorflow:Assets written to: training3\\cp.ckpt\\assets\n"
     ]
    },
    {
     "name": "stderr",
     "output_type": "stream",
     "text": [
      "INFO:tensorflow:Assets written to: training3\\cp.ckpt\\assets\n"
     ]
    },
    {
     "name": "stdout",
     "output_type": "stream",
     "text": [
      "662/662 - 3s - loss: 0.5847 - accuracy: 0.7926 - val_loss: 0.8066 - val_accuracy: 0.7502 - 3s/epoch - 4ms/step\n",
      "Epoch 41/200\n",
      "\n",
      "Epoch 41: val_accuracy did not improve from 0.75024\n",
      "662/662 - 2s - loss: 0.5835 - accuracy: 0.7938 - val_loss: 0.8334 - val_accuracy: 0.7412 - 2s/epoch - 3ms/step\n",
      "Epoch 42/200\n",
      "\n",
      "Epoch 42: val_accuracy did not improve from 0.75024\n",
      "662/662 - 2s - loss: 0.5746 - accuracy: 0.7947 - val_loss: 0.8722 - val_accuracy: 0.7317 - 2s/epoch - 3ms/step\n",
      "Epoch 43/200\n",
      "\n",
      "Epoch 43: val_accuracy did not improve from 0.75024\n",
      "662/662 - 2s - loss: 0.5747 - accuracy: 0.7988 - val_loss: 0.8261 - val_accuracy: 0.7366 - 2s/epoch - 3ms/step\n",
      "Epoch 44/200\n",
      "\n",
      "Epoch 44: val_accuracy did not improve from 0.75024\n",
      "662/662 - 2s - loss: 0.5749 - accuracy: 0.7937 - val_loss: 0.8334 - val_accuracy: 0.7457 - 2s/epoch - 3ms/step\n",
      "Epoch 45/200\n",
      "\n",
      "Epoch 45: val_accuracy did not improve from 0.75024\n",
      "662/662 - 2s - loss: 0.5690 - accuracy: 0.7985 - val_loss: 0.8240 - val_accuracy: 0.7451 - 2s/epoch - 3ms/step\n",
      "Epoch 46/200\n",
      "\n",
      "Epoch 46: val_accuracy improved from 0.75024 to 0.75232, saving model to training3\\cp.ckpt\n"
     ]
    },
    {
     "name": "stderr",
     "output_type": "stream",
     "text": [
      "WARNING:absl:Found untraced functions such as activation_18_layer_call_fn, activation_18_layer_call_and_return_conditional_losses, activation_19_layer_call_fn, activation_19_layer_call_and_return_conditional_losses, activation_20_layer_call_fn while saving (showing 5 of 6). These functions will not be directly callable after loading.\n"
     ]
    },
    {
     "name": "stdout",
     "output_type": "stream",
     "text": [
      "INFO:tensorflow:Assets written to: training3\\cp.ckpt\\assets\n"
     ]
    },
    {
     "name": "stderr",
     "output_type": "stream",
     "text": [
      "INFO:tensorflow:Assets written to: training3\\cp.ckpt\\assets\n"
     ]
    },
    {
     "name": "stdout",
     "output_type": "stream",
     "text": [
      "662/662 - 3s - loss: 0.5610 - accuracy: 0.8001 - val_loss: 0.8258 - val_accuracy: 0.7523 - 3s/epoch - 4ms/step\n",
      "Epoch 47/200\n",
      "\n",
      "Epoch 47: val_accuracy did not improve from 0.75232\n",
      "662/662 - 2s - loss: 0.5535 - accuracy: 0.8011 - val_loss: 0.8339 - val_accuracy: 0.7485 - 2s/epoch - 3ms/step\n",
      "Epoch 48/200\n",
      "\n",
      "Epoch 48: val_accuracy did not improve from 0.75232\n",
      "662/662 - 2s - loss: 0.5471 - accuracy: 0.8071 - val_loss: 0.8336 - val_accuracy: 0.7514 - 2s/epoch - 3ms/step\n",
      "Epoch 49/200\n",
      "\n",
      "Epoch 49: val_accuracy did not improve from 0.75232\n",
      "662/662 - 2s - loss: 0.5431 - accuracy: 0.8096 - val_loss: 0.8439 - val_accuracy: 0.7459 - 2s/epoch - 3ms/step\n",
      "Epoch 50/200\n",
      "\n",
      "Epoch 50: val_accuracy did not improve from 0.75232\n",
      "662/662 - 2s - loss: 0.5323 - accuracy: 0.8101 - val_loss: 0.8492 - val_accuracy: 0.7413 - 2s/epoch - 3ms/step\n",
      "Epoch 50: early stopping\n"
     ]
    },
    {
     "data": {
      "text/plain": [
       "<keras.callbacks.History at 0x22190d48070>"
      ]
     },
     "execution_count": 76,
     "metadata": {},
     "output_type": "execute_result"
    }
   ],
   "source": [
    "#checkpointpath=\"C:/Users/sarib/Desktop/Gohm/saved_models/weights-improvement-{epoch:02d}-{val_accuracy:.2f}.hdf5\"\n",
    "checkpointpath=\"training3/cp.ckpt\"\n",
    "checkpointer = ModelCheckpoint(checkpointpath, monitor='val_accuracy',\n",
    "                               verbose=2, save_best_only=True, mode='max')\n",
    "\n",
    "early_stop = EarlyStopping(monitor='val_loss', patience=10, verbose=2)\n",
    "#log_csv = CSVLogger('csv_logs.csv', separator=',', append=False)\n",
    "#callbackList= [checkpointer, early_stop, log_csv]\n",
    "callbackList= [checkpointer, early_stop]\n",
    "#model.fit(X_train, Y_train, epochs=70, validation_data=(X_test, Y_test), callbacks=[checkpointer], verbose=2)\n",
    "model.fit(X_train, Y_train, epochs=200, validation_data=(X_test, Y_test), callbacks=callbackList, verbose=2)\n",
    "#model.save('pretrained_model.h5')\n",
    "\n"
   ]
  },
  {
   "cell_type": "code",
   "execution_count": 77,
   "metadata": {},
   "outputs": [
    {
     "name": "stdout",
     "output_type": "stream",
     "text": [
      "166/166 [==============================] - 0s 3ms/step - loss: 0.8492 - accuracy: 0.7413\n",
      "Test Score:  [0.8491846323013306, 0.741349995136261]\n",
      "662/662 [==============================] - 2s 2ms/step - loss: 0.2955 - accuracy: 0.9019\n",
      "Train Score:  [0.2955106198787689, 0.9019051790237427]\n"
     ]
    }
   ],
   "source": [
    "print(\"Test Score: \", model.evaluate(X_test,Y_test))\n",
    "print(\"Train Score: \", model.evaluate(X_train,Y_train))"
   ]
  },
  {
   "cell_type": "code",
   "execution_count": 78,
   "metadata": {},
   "outputs": [],
   "source": [
    "model.load_weights(checkpointpath)\n",
    "model.compile(loss='categorical_crossentropy',metrics=['accuracy'],optimizer=Adam())"
   ]
  },
  {
   "cell_type": "code",
   "execution_count": 79,
   "metadata": {},
   "outputs": [
    {
     "name": "stdout",
     "output_type": "stream",
     "text": [
      "166/166 [==============================] - 1s 2ms/step - loss: 0.8258 - accuracy: 0.7523\n",
      "Test Score:  [0.8257700800895691, 0.7523161172866821]\n",
      "662/662 [==============================] - 1s 2ms/step - loss: 0.2882 - accuracy: 0.9040\n",
      "Train Score:  [0.2881965637207031, 0.9039852619171143]\n"
     ]
    }
   ],
   "source": [
    "print(\"Test Score: \", model.evaluate(X_test,Y_test))\n",
    "print(\"Train Score: \", model.evaluate(X_train,Y_train))"
   ]
  },
  {
   "cell_type": "code",
   "execution_count": null,
   "metadata": {},
   "outputs": [
    {
     "data": {
      "text/plain": [
       "\"plt.plot(model.history['loss'], label='train')\\nplt.plot(model.history['val_loss'], label='test')\\nplt.legend()\\nplt.show()\""
      ]
     },
     "execution_count": 46,
     "metadata": {},
     "output_type": "execute_result"
    }
   ],
   "source": [
    "\"\"\"plt.plot(model.history['loss'], label='train')\n",
    "plt.plot(model.history['val_loss'], label='test')\n",
    "plt.legend()\n",
    "plt.show()\"\"\""
   ]
  },
  {
   "cell_type": "code",
   "execution_count": null,
   "metadata": {},
   "outputs": [],
   "source": [
    "#model.compile(loss='categorical_crossentropy',metrics=['accuracy'],optimizer=Adam())"
   ]
  },
  {
   "cell_type": "markdown",
   "metadata": {},
   "source": [
    "PREDICTION WITH DATA"
   ]
  },
  {
   "cell_type": "code",
   "execution_count": 80,
   "metadata": {},
   "outputs": [],
   "source": [
    "predictiondata_feataures =[]\n",
    "counter_true=0\n",
    "for root, directories, files in os.walk(\"C:/Users/sarib/Desktop/Gohm/SpeechRecognition/RecordsFromDataset\"): \n",
    "    for file_names in files:\n",
    "        if root is not root_path:\n",
    "            #print(os.path.join(root,file_names) )\n",
    "            r = mfcc_extractor(os.path.join(root,file_names))\n",
    "            rl=r.reshape(1,-1)\n",
    "            predicted_label=np.argmax(model.predict(rl), axis=-1)\n",
    "            prediction_class = labelencoder.inverse_transform(predicted_label) \n",
    "            predictiondata_feataures.append([os.path.basename(os.path.normpath(root)), prediction_class, predicted_label])\n",
    "            if os.path.basename(os.path.normpath(root))==prediction_class:\n",
    "                counter_true+=1"
   ]
  },
  {
   "cell_type": "code",
   "execution_count": 81,
   "metadata": {},
   "outputs": [
    {
     "name": "stdout",
     "output_type": "stream",
     "text": [
      "The percantage of the true predicted data:  66.66666666666666 %\n"
     ]
    },
    {
     "data": {
      "text/html": [
       "<div>\n",
       "<style scoped>\n",
       "    .dataframe tbody tr th:only-of-type {\n",
       "        vertical-align: middle;\n",
       "    }\n",
       "\n",
       "    .dataframe tbody tr th {\n",
       "        vertical-align: top;\n",
       "    }\n",
       "\n",
       "    .dataframe thead th {\n",
       "        text-align: right;\n",
       "    }\n",
       "</style>\n",
       "<table border=\"1\" class=\"dataframe\">\n",
       "  <thead>\n",
       "    <tr style=\"text-align: right;\">\n",
       "      <th></th>\n",
       "      <th>actual data</th>\n",
       "      <th>predicted data</th>\n",
       "      <th>predicted data code</th>\n",
       "    </tr>\n",
       "  </thead>\n",
       "  <tbody>\n",
       "    <tr>\n",
       "      <th>0</th>\n",
       "      <td>ac</td>\n",
       "      <td>[ac]</td>\n",
       "      <td>[0]</td>\n",
       "    </tr>\n",
       "    <tr>\n",
       "      <th>1</th>\n",
       "      <td>ac</td>\n",
       "      <td>[dur]</td>\n",
       "      <td>[4]</td>\n",
       "    </tr>\n",
       "    <tr>\n",
       "      <th>2</th>\n",
       "      <td>ac</td>\n",
       "      <td>[iptal]</td>\n",
       "      <td>[9]</td>\n",
       "    </tr>\n",
       "    <tr>\n",
       "      <th>3</th>\n",
       "      <td>asagi</td>\n",
       "      <td>[asagi]</td>\n",
       "      <td>[1]</td>\n",
       "    </tr>\n",
       "    <tr>\n",
       "      <th>4</th>\n",
       "      <td>asagi</td>\n",
       "      <td>[hayir]</td>\n",
       "      <td>[7]</td>\n",
       "    </tr>\n",
       "    <tr>\n",
       "      <th>5</th>\n",
       "      <td>asagi</td>\n",
       "      <td>[baslat]</td>\n",
       "      <td>[2]</td>\n",
       "    </tr>\n",
       "    <tr>\n",
       "      <th>6</th>\n",
       "      <td>baslat</td>\n",
       "      <td>[baslat]</td>\n",
       "      <td>[2]</td>\n",
       "    </tr>\n",
       "    <tr>\n",
       "      <th>7</th>\n",
       "      <td>baslat</td>\n",
       "      <td>[baslat]</td>\n",
       "      <td>[2]</td>\n",
       "    </tr>\n",
       "    <tr>\n",
       "      <th>8</th>\n",
       "      <td>baslat</td>\n",
       "      <td>[baslat]</td>\n",
       "      <td>[2]</td>\n",
       "    </tr>\n",
       "    <tr>\n",
       "      <th>9</th>\n",
       "      <td>devam</td>\n",
       "      <td>[devam]</td>\n",
       "      <td>[3]</td>\n",
       "    </tr>\n",
       "    <tr>\n",
       "      <th>10</th>\n",
       "      <td>devam</td>\n",
       "      <td>[devam]</td>\n",
       "      <td>[3]</td>\n",
       "    </tr>\n",
       "    <tr>\n",
       "      <th>11</th>\n",
       "      <td>devam</td>\n",
       "      <td>[devam]</td>\n",
       "      <td>[3]</td>\n",
       "    </tr>\n",
       "    <tr>\n",
       "      <th>12</th>\n",
       "      <td>dur</td>\n",
       "      <td>[dur]</td>\n",
       "      <td>[4]</td>\n",
       "    </tr>\n",
       "    <tr>\n",
       "      <th>13</th>\n",
       "      <td>dur</td>\n",
       "      <td>[devam]</td>\n",
       "      <td>[3]</td>\n",
       "    </tr>\n",
       "    <tr>\n",
       "      <th>14</th>\n",
       "      <td>dur</td>\n",
       "      <td>[kapa]</td>\n",
       "      <td>[10]</td>\n",
       "    </tr>\n",
       "    <tr>\n",
       "      <th>15</th>\n",
       "      <td>evet</td>\n",
       "      <td>[evet]</td>\n",
       "      <td>[5]</td>\n",
       "    </tr>\n",
       "    <tr>\n",
       "      <th>16</th>\n",
       "      <td>evet</td>\n",
       "      <td>[evet]</td>\n",
       "      <td>[5]</td>\n",
       "    </tr>\n",
       "    <tr>\n",
       "      <th>17</th>\n",
       "      <td>evet</td>\n",
       "      <td>[evet]</td>\n",
       "      <td>[5]</td>\n",
       "    </tr>\n",
       "    <tr>\n",
       "      <th>18</th>\n",
       "      <td>geri</td>\n",
       "      <td>[geri]</td>\n",
       "      <td>[6]</td>\n",
       "    </tr>\n",
       "    <tr>\n",
       "      <th>19</th>\n",
       "      <td>geri</td>\n",
       "      <td>[geri]</td>\n",
       "      <td>[6]</td>\n",
       "    </tr>\n",
       "    <tr>\n",
       "      <th>20</th>\n",
       "      <td>geri</td>\n",
       "      <td>[geri]</td>\n",
       "      <td>[6]</td>\n",
       "    </tr>\n",
       "    <tr>\n",
       "      <th>21</th>\n",
       "      <td>hayir</td>\n",
       "      <td>[evet]</td>\n",
       "      <td>[5]</td>\n",
       "    </tr>\n",
       "    <tr>\n",
       "      <th>22</th>\n",
       "      <td>hayir</td>\n",
       "      <td>[hayir]</td>\n",
       "      <td>[7]</td>\n",
       "    </tr>\n",
       "    <tr>\n",
       "      <th>23</th>\n",
       "      <td>hayir</td>\n",
       "      <td>[iptal]</td>\n",
       "      <td>[9]</td>\n",
       "    </tr>\n",
       "    <tr>\n",
       "      <th>24</th>\n",
       "      <td>ileri</td>\n",
       "      <td>[ileri]</td>\n",
       "      <td>[8]</td>\n",
       "    </tr>\n",
       "    <tr>\n",
       "      <th>25</th>\n",
       "      <td>ileri</td>\n",
       "      <td>[ileri]</td>\n",
       "      <td>[8]</td>\n",
       "    </tr>\n",
       "    <tr>\n",
       "      <th>26</th>\n",
       "      <td>ileri</td>\n",
       "      <td>[hayir]</td>\n",
       "      <td>[7]</td>\n",
       "    </tr>\n",
       "    <tr>\n",
       "      <th>27</th>\n",
       "      <td>iptal</td>\n",
       "      <td>[ileri]</td>\n",
       "      <td>[8]</td>\n",
       "    </tr>\n",
       "    <tr>\n",
       "      <th>28</th>\n",
       "      <td>iptal</td>\n",
       "      <td>[yukari]</td>\n",
       "      <td>[13]</td>\n",
       "    </tr>\n",
       "    <tr>\n",
       "      <th>29</th>\n",
       "      <td>iptal</td>\n",
       "      <td>[hayir]</td>\n",
       "      <td>[7]</td>\n",
       "    </tr>\n",
       "    <tr>\n",
       "      <th>30</th>\n",
       "      <td>kapa</td>\n",
       "      <td>[kapa]</td>\n",
       "      <td>[10]</td>\n",
       "    </tr>\n",
       "    <tr>\n",
       "      <th>31</th>\n",
       "      <td>kapa</td>\n",
       "      <td>[kapa]</td>\n",
       "      <td>[10]</td>\n",
       "    </tr>\n",
       "    <tr>\n",
       "      <th>32</th>\n",
       "      <td>kapa</td>\n",
       "      <td>[kapa]</td>\n",
       "      <td>[10]</td>\n",
       "    </tr>\n",
       "    <tr>\n",
       "      <th>33</th>\n",
       "      <td>sag</td>\n",
       "      <td>[sag]</td>\n",
       "      <td>[11]</td>\n",
       "    </tr>\n",
       "    <tr>\n",
       "      <th>34</th>\n",
       "      <td>sag</td>\n",
       "      <td>[sag]</td>\n",
       "      <td>[11]</td>\n",
       "    </tr>\n",
       "    <tr>\n",
       "      <th>35</th>\n",
       "      <td>sag</td>\n",
       "      <td>[sag]</td>\n",
       "      <td>[11]</td>\n",
       "    </tr>\n",
       "    <tr>\n",
       "      <th>36</th>\n",
       "      <td>sol</td>\n",
       "      <td>[sol]</td>\n",
       "      <td>[12]</td>\n",
       "    </tr>\n",
       "    <tr>\n",
       "      <th>37</th>\n",
       "      <td>sol</td>\n",
       "      <td>[sol]</td>\n",
       "      <td>[12]</td>\n",
       "    </tr>\n",
       "    <tr>\n",
       "      <th>38</th>\n",
       "      <td>sol</td>\n",
       "      <td>[sol]</td>\n",
       "      <td>[12]</td>\n",
       "    </tr>\n",
       "    <tr>\n",
       "      <th>39</th>\n",
       "      <td>yukari</td>\n",
       "      <td>[asagi]</td>\n",
       "      <td>[1]</td>\n",
       "    </tr>\n",
       "    <tr>\n",
       "      <th>40</th>\n",
       "      <td>yukari</td>\n",
       "      <td>[yukari]</td>\n",
       "      <td>[13]</td>\n",
       "    </tr>\n",
       "    <tr>\n",
       "      <th>41</th>\n",
       "      <td>yukari</td>\n",
       "      <td>[devam]</td>\n",
       "      <td>[3]</td>\n",
       "    </tr>\n",
       "  </tbody>\n",
       "</table>\n",
       "</div>"
      ],
      "text/plain": [
       "   actual data predicted data predicted data code\n",
       "0           ac           [ac]                 [0]\n",
       "1           ac          [dur]                 [4]\n",
       "2           ac        [iptal]                 [9]\n",
       "3        asagi        [asagi]                 [1]\n",
       "4        asagi        [hayir]                 [7]\n",
       "5        asagi       [baslat]                 [2]\n",
       "6       baslat       [baslat]                 [2]\n",
       "7       baslat       [baslat]                 [2]\n",
       "8       baslat       [baslat]                 [2]\n",
       "9        devam        [devam]                 [3]\n",
       "10       devam        [devam]                 [3]\n",
       "11       devam        [devam]                 [3]\n",
       "12         dur          [dur]                 [4]\n",
       "13         dur        [devam]                 [3]\n",
       "14         dur         [kapa]                [10]\n",
       "15        evet         [evet]                 [5]\n",
       "16        evet         [evet]                 [5]\n",
       "17        evet         [evet]                 [5]\n",
       "18        geri         [geri]                 [6]\n",
       "19        geri         [geri]                 [6]\n",
       "20        geri         [geri]                 [6]\n",
       "21       hayir         [evet]                 [5]\n",
       "22       hayir        [hayir]                 [7]\n",
       "23       hayir        [iptal]                 [9]\n",
       "24       ileri        [ileri]                 [8]\n",
       "25       ileri        [ileri]                 [8]\n",
       "26       ileri        [hayir]                 [7]\n",
       "27       iptal        [ileri]                 [8]\n",
       "28       iptal       [yukari]                [13]\n",
       "29       iptal        [hayir]                 [7]\n",
       "30        kapa         [kapa]                [10]\n",
       "31        kapa         [kapa]                [10]\n",
       "32        kapa         [kapa]                [10]\n",
       "33         sag          [sag]                [11]\n",
       "34         sag          [sag]                [11]\n",
       "35         sag          [sag]                [11]\n",
       "36         sol          [sol]                [12]\n",
       "37         sol          [sol]                [12]\n",
       "38         sol          [sol]                [12]\n",
       "39      yukari        [asagi]                 [1]\n",
       "40      yukari       [yukari]                [13]\n",
       "41      yukari        [devam]                 [3]"
      ]
     },
     "execution_count": 81,
     "metadata": {},
     "output_type": "execute_result"
    }
   ],
   "source": [
    "predictiondata_feataures_dataframe= pd.DataFrame(predictiondata_feataures, columns=[\"actual data\", \"predicted data\", \"predicted data code\"])\n",
    "percentage= (counter_true/len(predictiondata_feataures))*100\n",
    "print(\"The percantage of the true predicted data: \", percentage,\"%\")\n",
    "#predictiondata_feataures_dataframe.to_csv(\"output.csv\")\n",
    "predictiondata_feataures_dataframe\n"
   ]
  },
  {
   "cell_type": "code",
   "execution_count": 82,
   "metadata": {},
   "outputs": [],
   "source": [
    "predictiondatas_feataures =[]\n",
    "counters_true=0\n",
    "for root, directories, files in os.walk(\"C:/Users/sarib/Desktop/Gohm/SpeechRecognition/Records\"): \n",
    "    for file_names in files:\n",
    "        if root is not root_path:\n",
    "            #print(os.path.join(root,file_names) )\n",
    "            r = mfcc_extractor(os.path.join(root,file_names))\n",
    "            rl=r.reshape(1,-1)\n",
    "            predicteds_label=np.argmax(model.predict(rl), axis=-1)\n",
    "            predictions_class = labelencoder.inverse_transform(predicteds_label) \n",
    "            predictiondatas_feataures.append([os.path.basename(os.path.normpath(root)), predictions_class, predicteds_label])\n",
    "            if os.path.basename(os.path.normpath(root))==predictions_class:\n",
    "                counters_true+=1"
   ]
  },
  {
   "cell_type": "code",
   "execution_count": 83,
   "metadata": {},
   "outputs": [
    {
     "name": "stdout",
     "output_type": "stream",
     "text": [
      "The percantage of the true predicted data:  52.38095238095239 %\n"
     ]
    },
    {
     "data": {
      "text/html": [
       "<div>\n",
       "<style scoped>\n",
       "    .dataframe tbody tr th:only-of-type {\n",
       "        vertical-align: middle;\n",
       "    }\n",
       "\n",
       "    .dataframe tbody tr th {\n",
       "        vertical-align: top;\n",
       "    }\n",
       "\n",
       "    .dataframe thead th {\n",
       "        text-align: right;\n",
       "    }\n",
       "</style>\n",
       "<table border=\"1\" class=\"dataframe\">\n",
       "  <thead>\n",
       "    <tr style=\"text-align: right;\">\n",
       "      <th></th>\n",
       "      <th>actual data</th>\n",
       "      <th>predicted data</th>\n",
       "      <th>predicted data code</th>\n",
       "    </tr>\n",
       "  </thead>\n",
       "  <tbody>\n",
       "    <tr>\n",
       "      <th>0</th>\n",
       "      <td>ac</td>\n",
       "      <td>[ac]</td>\n",
       "      <td>[0]</td>\n",
       "    </tr>\n",
       "    <tr>\n",
       "      <th>1</th>\n",
       "      <td>ac</td>\n",
       "      <td>[ac]</td>\n",
       "      <td>[0]</td>\n",
       "    </tr>\n",
       "    <tr>\n",
       "      <th>2</th>\n",
       "      <td>ac</td>\n",
       "      <td>[asagi]</td>\n",
       "      <td>[1]</td>\n",
       "    </tr>\n",
       "    <tr>\n",
       "      <th>3</th>\n",
       "      <td>asagi</td>\n",
       "      <td>[asagi]</td>\n",
       "      <td>[1]</td>\n",
       "    </tr>\n",
       "    <tr>\n",
       "      <th>4</th>\n",
       "      <td>asagi</td>\n",
       "      <td>[asagi]</td>\n",
       "      <td>[1]</td>\n",
       "    </tr>\n",
       "    <tr>\n",
       "      <th>5</th>\n",
       "      <td>asagi</td>\n",
       "      <td>[asagi]</td>\n",
       "      <td>[1]</td>\n",
       "    </tr>\n",
       "    <tr>\n",
       "      <th>6</th>\n",
       "      <td>baslat</td>\n",
       "      <td>[asagi]</td>\n",
       "      <td>[1]</td>\n",
       "    </tr>\n",
       "    <tr>\n",
       "      <th>7</th>\n",
       "      <td>baslat</td>\n",
       "      <td>[baslat]</td>\n",
       "      <td>[2]</td>\n",
       "    </tr>\n",
       "    <tr>\n",
       "      <th>8</th>\n",
       "      <td>baslat</td>\n",
       "      <td>[baslat]</td>\n",
       "      <td>[2]</td>\n",
       "    </tr>\n",
       "    <tr>\n",
       "      <th>9</th>\n",
       "      <td>devam</td>\n",
       "      <td>[devam]</td>\n",
       "      <td>[3]</td>\n",
       "    </tr>\n",
       "    <tr>\n",
       "      <th>10</th>\n",
       "      <td>devam</td>\n",
       "      <td>[devam]</td>\n",
       "      <td>[3]</td>\n",
       "    </tr>\n",
       "    <tr>\n",
       "      <th>11</th>\n",
       "      <td>devam</td>\n",
       "      <td>[kapa]</td>\n",
       "      <td>[10]</td>\n",
       "    </tr>\n",
       "    <tr>\n",
       "      <th>12</th>\n",
       "      <td>dur</td>\n",
       "      <td>[dur]</td>\n",
       "      <td>[4]</td>\n",
       "    </tr>\n",
       "    <tr>\n",
       "      <th>13</th>\n",
       "      <td>dur</td>\n",
       "      <td>[dur]</td>\n",
       "      <td>[4]</td>\n",
       "    </tr>\n",
       "    <tr>\n",
       "      <th>14</th>\n",
       "      <td>dur</td>\n",
       "      <td>[dur]</td>\n",
       "      <td>[4]</td>\n",
       "    </tr>\n",
       "    <tr>\n",
       "      <th>15</th>\n",
       "      <td>evet</td>\n",
       "      <td>[evet]</td>\n",
       "      <td>[5]</td>\n",
       "    </tr>\n",
       "    <tr>\n",
       "      <th>16</th>\n",
       "      <td>evet</td>\n",
       "      <td>[evet]</td>\n",
       "      <td>[5]</td>\n",
       "    </tr>\n",
       "    <tr>\n",
       "      <th>17</th>\n",
       "      <td>evet</td>\n",
       "      <td>[evet]</td>\n",
       "      <td>[5]</td>\n",
       "    </tr>\n",
       "    <tr>\n",
       "      <th>18</th>\n",
       "      <td>geri</td>\n",
       "      <td>[ileri]</td>\n",
       "      <td>[8]</td>\n",
       "    </tr>\n",
       "    <tr>\n",
       "      <th>19</th>\n",
       "      <td>geri</td>\n",
       "      <td>[asagi]</td>\n",
       "      <td>[1]</td>\n",
       "    </tr>\n",
       "    <tr>\n",
       "      <th>20</th>\n",
       "      <td>geri</td>\n",
       "      <td>[ileri]</td>\n",
       "      <td>[8]</td>\n",
       "    </tr>\n",
       "    <tr>\n",
       "      <th>21</th>\n",
       "      <td>hayir</td>\n",
       "      <td>[asagi]</td>\n",
       "      <td>[1]</td>\n",
       "    </tr>\n",
       "    <tr>\n",
       "      <th>22</th>\n",
       "      <td>hayir</td>\n",
       "      <td>[geri]</td>\n",
       "      <td>[6]</td>\n",
       "    </tr>\n",
       "    <tr>\n",
       "      <th>23</th>\n",
       "      <td>hayir</td>\n",
       "      <td>[asagi]</td>\n",
       "      <td>[1]</td>\n",
       "    </tr>\n",
       "    <tr>\n",
       "      <th>24</th>\n",
       "      <td>ileri</td>\n",
       "      <td>[ileri]</td>\n",
       "      <td>[8]</td>\n",
       "    </tr>\n",
       "    <tr>\n",
       "      <th>25</th>\n",
       "      <td>ileri</td>\n",
       "      <td>[geri]</td>\n",
       "      <td>[6]</td>\n",
       "    </tr>\n",
       "    <tr>\n",
       "      <th>26</th>\n",
       "      <td>ileri</td>\n",
       "      <td>[asagi]</td>\n",
       "      <td>[1]</td>\n",
       "    </tr>\n",
       "    <tr>\n",
       "      <th>27</th>\n",
       "      <td>iptal</td>\n",
       "      <td>[asagi]</td>\n",
       "      <td>[1]</td>\n",
       "    </tr>\n",
       "    <tr>\n",
       "      <th>28</th>\n",
       "      <td>iptal</td>\n",
       "      <td>[geri]</td>\n",
       "      <td>[6]</td>\n",
       "    </tr>\n",
       "    <tr>\n",
       "      <th>29</th>\n",
       "      <td>iptal</td>\n",
       "      <td>[iptal]</td>\n",
       "      <td>[9]</td>\n",
       "    </tr>\n",
       "    <tr>\n",
       "      <th>30</th>\n",
       "      <td>kapa</td>\n",
       "      <td>[kapa]</td>\n",
       "      <td>[10]</td>\n",
       "    </tr>\n",
       "    <tr>\n",
       "      <th>31</th>\n",
       "      <td>kapa</td>\n",
       "      <td>[kapa]</td>\n",
       "      <td>[10]</td>\n",
       "    </tr>\n",
       "    <tr>\n",
       "      <th>32</th>\n",
       "      <td>kapa</td>\n",
       "      <td>[sag]</td>\n",
       "      <td>[11]</td>\n",
       "    </tr>\n",
       "    <tr>\n",
       "      <th>33</th>\n",
       "      <td>sağ</td>\n",
       "      <td>[sag]</td>\n",
       "      <td>[11]</td>\n",
       "    </tr>\n",
       "    <tr>\n",
       "      <th>34</th>\n",
       "      <td>sağ</td>\n",
       "      <td>[ac]</td>\n",
       "      <td>[0]</td>\n",
       "    </tr>\n",
       "    <tr>\n",
       "      <th>35</th>\n",
       "      <td>sağ</td>\n",
       "      <td>[sag]</td>\n",
       "      <td>[11]</td>\n",
       "    </tr>\n",
       "    <tr>\n",
       "      <th>36</th>\n",
       "      <td>sol</td>\n",
       "      <td>[sol]</td>\n",
       "      <td>[12]</td>\n",
       "    </tr>\n",
       "    <tr>\n",
       "      <th>37</th>\n",
       "      <td>sol</td>\n",
       "      <td>[sol]</td>\n",
       "      <td>[12]</td>\n",
       "    </tr>\n",
       "    <tr>\n",
       "      <th>38</th>\n",
       "      <td>sol</td>\n",
       "      <td>[sol]</td>\n",
       "      <td>[12]</td>\n",
       "    </tr>\n",
       "    <tr>\n",
       "      <th>39</th>\n",
       "      <td>yukarı</td>\n",
       "      <td>[asagi]</td>\n",
       "      <td>[1]</td>\n",
       "    </tr>\n",
       "    <tr>\n",
       "      <th>40</th>\n",
       "      <td>yukarı</td>\n",
       "      <td>[asagi]</td>\n",
       "      <td>[1]</td>\n",
       "    </tr>\n",
       "    <tr>\n",
       "      <th>41</th>\n",
       "      <td>yukarı</td>\n",
       "      <td>[asagi]</td>\n",
       "      <td>[1]</td>\n",
       "    </tr>\n",
       "  </tbody>\n",
       "</table>\n",
       "</div>"
      ],
      "text/plain": [
       "   actual data predicted data predicted data code\n",
       "0           ac           [ac]                 [0]\n",
       "1           ac           [ac]                 [0]\n",
       "2           ac        [asagi]                 [1]\n",
       "3        asagi        [asagi]                 [1]\n",
       "4        asagi        [asagi]                 [1]\n",
       "5        asagi        [asagi]                 [1]\n",
       "6       baslat        [asagi]                 [1]\n",
       "7       baslat       [baslat]                 [2]\n",
       "8       baslat       [baslat]                 [2]\n",
       "9        devam        [devam]                 [3]\n",
       "10       devam        [devam]                 [3]\n",
       "11       devam         [kapa]                [10]\n",
       "12         dur          [dur]                 [4]\n",
       "13         dur          [dur]                 [4]\n",
       "14         dur          [dur]                 [4]\n",
       "15        evet         [evet]                 [5]\n",
       "16        evet         [evet]                 [5]\n",
       "17        evet         [evet]                 [5]\n",
       "18        geri        [ileri]                 [8]\n",
       "19        geri        [asagi]                 [1]\n",
       "20        geri        [ileri]                 [8]\n",
       "21       hayir        [asagi]                 [1]\n",
       "22       hayir         [geri]                 [6]\n",
       "23       hayir        [asagi]                 [1]\n",
       "24       ileri        [ileri]                 [8]\n",
       "25       ileri         [geri]                 [6]\n",
       "26       ileri        [asagi]                 [1]\n",
       "27       iptal        [asagi]                 [1]\n",
       "28       iptal         [geri]                 [6]\n",
       "29       iptal        [iptal]                 [9]\n",
       "30        kapa         [kapa]                [10]\n",
       "31        kapa         [kapa]                [10]\n",
       "32        kapa          [sag]                [11]\n",
       "33         sağ          [sag]                [11]\n",
       "34         sağ           [ac]                 [0]\n",
       "35         sağ          [sag]                [11]\n",
       "36         sol          [sol]                [12]\n",
       "37         sol          [sol]                [12]\n",
       "38         sol          [sol]                [12]\n",
       "39      yukarı        [asagi]                 [1]\n",
       "40      yukarı        [asagi]                 [1]\n",
       "41      yukarı        [asagi]                 [1]"
      ]
     },
     "execution_count": 83,
     "metadata": {},
     "output_type": "execute_result"
    }
   ],
   "source": [
    "predictiondatas_feataures_dataframe= pd.DataFrame(predictiondatas_feataures, columns=[\"actual data\", \"predicted data\", \"predicted data code\"])\n",
    "percentages= (counters_true/len(predictiondatas_feataures))*100\n",
    "print(\"The percantage of the true predicted data: \", percentages,\"%\")\n",
    "#predictiondata_feataures_dataframe.to_csv(\"output.csv\")\n",
    "predictiondatas_feataures_dataframe\n"
   ]
  },
  {
   "cell_type": "code",
   "execution_count": null,
   "metadata": {},
   "outputs": [
    {
     "data": {
      "text/plain": [
       "'filename=\"predictionData/dursultan.wav\"\\nr=mfcc_extractor(filename)\\nprint(r)\\nrl=r.reshape(1,-1)\\nprint(rl)\\nprint(rl.shape)\\npredicted_label=np.argmax(model.predict(rl), axis=-1)\\n\\nprint(predicted_label)\\nprediction_class = labelencoder.inverse_transform(predicted_label) \\nprediction_class'"
      ]
     },
     "execution_count": 52,
     "metadata": {},
     "output_type": "execute_result"
    }
   ],
   "source": [
    "\"\"\"filename=\"predictionData/dursultan.wav\"\n",
    "r=mfcc_extractor(filename)\n",
    "print(r)\n",
    "rl=r.reshape(1,-1)\n",
    "print(rl)\n",
    "print(rl.shape)\n",
    "predicted_label=np.argmax(model.predict(rl), axis=-1)\n",
    "\n",
    "print(predicted_label)\n",
    "prediction_class = labelencoder.inverse_transform(predicted_label) \n",
    "prediction_class\"\"\""
   ]
  }
 ],
 "metadata": {
  "interpreter": {
   "hash": "c6a6491075cbccedefb4110fe2052018f189f753e660964e246b6a74ce56a9ef"
  },
  "kernelspec": {
   "display_name": "Python 3.9.9 64-bit",
   "language": "python",
   "name": "python3"
  },
  "language_info": {
   "codemirror_mode": {
    "name": "ipython",
    "version": 3
   },
   "file_extension": ".py",
   "mimetype": "text/x-python",
   "name": "python",
   "nbconvert_exporter": "python",
   "pygments_lexer": "ipython3",
   "version": "3.8.10"
  },
  "orig_nbformat": 4
 },
 "nbformat": 4,
 "nbformat_minor": 2
}
