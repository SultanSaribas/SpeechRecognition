{
 "cells": [
  {
   "cell_type": "code",
   "execution_count": 21,
   "metadata": {},
   "outputs": [],
   "source": [
    "import matplotlib.pyplot as plt\n",
    "import tensorflow as tf\n",
    "import librosa\n",
    "import librosa.display\n",
    "import numpy as np\n",
    "import pandas as pd\n",
    "import os\n",
    "from tensorflow import keras\n",
    "import IPython.display as ipd\n",
    "from IPython.display import clear_output\n",
    "from sklearn.model_selection import train_test_split\n",
    "from tensorflow.keras.utils import to_categorical\n",
    "from sklearn.preprocessing import LabelEncoder\n",
    "from sklearn import preprocessing\n",
    "%matplotlib inline"
   ]
  },
  {
   "cell_type": "code",
   "execution_count": 22,
   "metadata": {},
   "outputs": [],
   "source": [
    "from tensorflow import keras\n",
    "from warnings import simplefilter\n",
    "simplefilter(action='ignore', category=FutureWarning)"
   ]
  },
  {
   "cell_type": "code",
   "execution_count": 46,
   "metadata": {},
   "outputs": [],
   "source": [
    "root_path=\"C:/Users/sarib/Desktop/Gohm/SpeechRecognition/database\""
   ]
  },
  {
   "cell_type": "code",
   "execution_count": 47,
   "metadata": {},
   "outputs": [],
   "source": [
    "allpaths=[]\n",
    "for root, directories, files in os.walk(root_path):\n",
    "    for file_names in files:\n",
    "        if root is not root_path:\n",
    "            allpaths.append(os.path.join(root,file_names))"
   ]
  },
  {
   "cell_type": "code",
   "execution_count": 48,
   "metadata": {},
   "outputs": [],
   "source": [
    "dataframe= pd.DataFrame(allpaths, columns=[\"paths\"])\n",
    "np.random.shuffle(dataframe.values)"
   ]
  },
  {
   "cell_type": "code",
   "execution_count": 49,
   "metadata": {},
   "outputs": [],
   "source": [
    "train_data = dataframe[:21188]\n",
    "valid_data = dataframe[21188:23836:]\n",
    "test_data= dataframe[23836:]"
   ]
  },
  {
   "cell_type": "code",
   "execution_count": 50,
   "metadata": {},
   "outputs": [],
   "source": [
    "train_paths=np.array(train_data['paths'].tolist())\n",
    "valid_paths=np.array(valid_data['paths'].tolist())\n",
    "test_paths=np.array(test_data['paths'].tolist())"
   ]
  },
  {
   "cell_type": "code",
   "execution_count": 57,
   "metadata": {},
   "outputs": [],
   "source": [
    "class prefit(tf.keras.utils.Sequence):\n",
    "    worddict = {\n",
    "            \"ac\": 0,\n",
    "            \"asagi\": 1,\n",
    "            \"baslat\": 2,\n",
    "            \"devam\": 3,\n",
    "            \"dur\": 4,\n",
    "            \"evet\": 5,\n",
    "            \"geri\":6,\n",
    "            \"hayir\": 7,\n",
    "            \"ileri\": 8,\n",
    "            \"iptal\": 9,\n",
    "            \"kapa\":10,\n",
    "            \"sag\":11,\n",
    "            \"sol\": 12,\n",
    "            \"yukari\":13\n",
    "\n",
    "            }\n",
    "\n",
    "    def __init__(self, path):\n",
    "        self.shuffle=True\n",
    "        self.paths=path\n",
    "        \n",
    "    def __mfcc_extractor(self,file):\n",
    "        signal, sample_rate = librosa.load(file)\n",
    "        ipd.Audio(file)\n",
    "        mfccs_features = librosa.feature.mfcc(y=signal, sr=sample_rate, n_mfcc=40)\n",
    "        mfccs_scaled_features = np.mean(mfccs_features.T, axis=0)\n",
    "        \n",
    "        return mfccs_scaled_features\n",
    "\n",
    "    def __getitem__(self, index):\n",
    "        data = self.__mfcc_extractor(self.paths[index])/10\n",
    "        labelY=os.path.basename(os.path.dirname(self.paths[index]))\n",
    "        extracted_feataures=[]\n",
    "        extracted_feataures.append([data,labelY])\n",
    "        extracted_feataures_dataframe= pd.DataFrame(extracted_feataures, columns=[\"melspectrogram\", \"word\"])\n",
    "        X=np.array(extracted_feataures_dataframe['melspectrogram'].tolist())\n",
    "        y = np.empty((0,14), dtype=int)\n",
    "        y_class = keras.utils.to_categorical(self.worddict[labelY], num_classes=14) #TODO: worde göre yapılacak\n",
    "        y_data = []\n",
    "        y_data.append(y_class)\n",
    "        y = np.concatenate((y, np.array(y_data)))\n",
    "        return X, y\n",
    "\n",
    "\n",
    "    def on_epoch_end(self):\n",
    "        if self.shuffle:\n",
    "            np.random.shuffle(self.paths)\n",
    "\n",
    "\n",
    "    def __len__(self):\n",
    "        return len(self.paths)\n",
    "        #pass"
   ]
  },
  {
   "cell_type": "code",
   "execution_count": 58,
   "metadata": {},
   "outputs": [],
   "source": [
    "train_prefit = prefit(path=train_paths)\n",
    "valid_prefit = prefit(path=valid_paths)\n",
    "test_prefit= prefit(path=test_paths)"
   ]
  },
  {
   "cell_type": "code",
   "execution_count": 227,
   "metadata": {},
   "outputs": [
    {
     "name": "stdout",
     "output_type": "stream",
     "text": [
      "X:  (1, 40) y:  [[1. 0. 0. 0. 0. 0. 0. 0. 0. 0. 0. 0. 0. 0.]]\n"
     ]
    },
    {
     "data": {
      "text/plain": [
       "(array([[-4.8303381e+02,  6.2193104e+01, -1.0424236e+01,  1.7892550e+01,\n",
       "         -1.6628336e+01,  6.8580014e-01, -2.7435713e+00, -5.7047033e+00,\n",
       "         -3.4347045e+00,  2.6712301e+00,  2.5144095e+00, -1.0999187e+01,\n",
       "         -1.5599624e+00, -9.3215141e+00, -7.0484557e+00, -8.8117450e-01,\n",
       "         -2.5051367e+00,  2.2852225e+00, -1.1657153e+00, -7.5033289e-01,\n",
       "         -1.5244908e+00, -4.9222836e+00, -7.7779412e-01,  8.2982373e-01,\n",
       "         -5.5398746e+00, -1.1497967e+00,  4.5375552e+00, -1.0562915e+00,\n",
       "          7.4132216e-01,  3.2517126e+00, -1.2010108e+00, -1.4040219e+00,\n",
       "         -2.3793812e-01, -2.0607519e+00, -3.4266241e+00, -3.2657182e+00,\n",
       "         -3.3512824e+00, -1.8446364e+00,  2.2689734e+00,  2.0459657e+00]],\n",
       "       dtype=float32),\n",
       " array([[1., 0., 0., 0., 0., 0., 0., 0., 0., 0., 0., 0., 0., 0.]]))"
      ]
     },
     "execution_count": 227,
     "metadata": {},
     "output_type": "execute_result"
    }
   ],
   "source": [
    "train_prefit"
   ]
  },
  {
   "cell_type": "code",
   "execution_count": 26,
   "metadata": {},
   "outputs": [],
   "source": [
    "import tensorflow as tf\n",
    "from tensorflow.keras.callbacks import ModelCheckpoint, EarlyStopping,CSVLogger\n",
    "from tensorflow.keras.models import Sequential, load_model, Model\n",
    "from tensorflow.keras.layers import Dense,Dropout,Activation,Flatten, Conv2D, MaxPooling2D\n",
    "from tensorflow.keras.optimizers import Adam\n",
    "from sklearn import metrics"
   ]
  },
  {
   "cell_type": "code",
   "execution_count": 59,
   "metadata": {},
   "outputs": [],
   "source": [
    "def create_model():\n",
    "    model= Sequential()\n",
    "\n",
    "    model.add(Flatten(input_shape=(40, )))\n",
    "    model.add(Dense(300, Activation('relu')))\n",
    "    model.add(Dropout(0.2))\n",
    "    model.add(Dense(300, Activation('relu')))\n",
    "    model.add(Dense(14, Activation('softmax')))\n",
    "    model.compile(loss='categorical_crossentropy',metrics=['accuracy'],optimizer=Adam())\n",
    "    return model"
   ]
  },
  {
   "cell_type": "code",
   "execution_count": 60,
   "metadata": {},
   "outputs": [],
   "source": [
    "model=create_model()"
   ]
  },
  {
   "cell_type": "code",
   "execution_count": 61,
   "metadata": {},
   "outputs": [
    {
     "name": "stdout",
     "output_type": "stream",
     "text": [
      "Epoch 1/200\n",
      "661/662 [============================>.] - ETA: 0s - loss: 3.0556 - accuracy: 0.1135\n",
      "Epoch 1: val_accuracy improved from -inf to 0.20468, saving model to checkpoint\\cp.ckpt\n"
     ]
    },
    {
     "name": "stderr",
     "output_type": "stream",
     "text": [
      "WARNING:absl:Found untraced functions such as activation_6_layer_call_fn, activation_6_layer_call_and_return_conditional_losses, activation_7_layer_call_fn, activation_7_layer_call_and_return_conditional_losses, activation_8_layer_call_fn while saving (showing 5 of 6). These functions will not be directly callable after loading.\n"
     ]
    },
    {
     "name": "stdout",
     "output_type": "stream",
     "text": [
      "INFO:tensorflow:Assets written to: checkpoint\\cp.ckpt\\assets\n"
     ]
    },
    {
     "name": "stderr",
     "output_type": "stream",
     "text": [
      "INFO:tensorflow:Assets written to: checkpoint\\cp.ckpt\\assets\n"
     ]
    },
    {
     "name": "stdout",
     "output_type": "stream",
     "text": [
      "662/662 [==============================] - 124s 187ms/step - loss: 3.0557 - accuracy: 0.1133 - val_loss: 2.3568 - val_accuracy: 0.2047\n",
      "Epoch 2/200\n",
      "662/662 [==============================] - ETA: 0s - loss: 2.2627 - accuracy: 0.2251\n",
      "Epoch 2: val_accuracy improved from 0.20468 to 0.25566, saving model to checkpoint\\cp.ckpt\n"
     ]
    },
    {
     "name": "stderr",
     "output_type": "stream",
     "text": [
      "WARNING:absl:Found untraced functions such as activation_6_layer_call_fn, activation_6_layer_call_and_return_conditional_losses, activation_7_layer_call_fn, activation_7_layer_call_and_return_conditional_losses, activation_8_layer_call_fn while saving (showing 5 of 6). These functions will not be directly callable after loading.\n"
     ]
    },
    {
     "name": "stdout",
     "output_type": "stream",
     "text": [
      "INFO:tensorflow:Assets written to: checkpoint\\cp.ckpt\\assets\n"
     ]
    },
    {
     "name": "stderr",
     "output_type": "stream",
     "text": [
      "INFO:tensorflow:Assets written to: checkpoint\\cp.ckpt\\assets\n"
     ]
    },
    {
     "name": "stdout",
     "output_type": "stream",
     "text": [
      "662/662 [==============================] - 135s 204ms/step - loss: 2.2627 - accuracy: 0.2251 - val_loss: 2.0875 - val_accuracy: 0.2557\n",
      "Epoch 3/200\n",
      "662/662 [==============================] - ETA: 0s - loss: 2.0790 - accuracy: 0.2704\n",
      "Epoch 3: val_accuracy improved from 0.25566 to 0.31722, saving model to checkpoint\\cp.ckpt\n"
     ]
    },
    {
     "name": "stderr",
     "output_type": "stream",
     "text": [
      "WARNING:absl:Found untraced functions such as activation_6_layer_call_fn, activation_6_layer_call_and_return_conditional_losses, activation_7_layer_call_fn, activation_7_layer_call_and_return_conditional_losses, activation_8_layer_call_fn while saving (showing 5 of 6). These functions will not be directly callable after loading.\n"
     ]
    },
    {
     "name": "stdout",
     "output_type": "stream",
     "text": [
      "INFO:tensorflow:Assets written to: checkpoint\\cp.ckpt\\assets\n"
     ]
    },
    {
     "name": "stderr",
     "output_type": "stream",
     "text": [
      "INFO:tensorflow:Assets written to: checkpoint\\cp.ckpt\\assets\n"
     ]
    },
    {
     "name": "stdout",
     "output_type": "stream",
     "text": [
      "662/662 [==============================] - 126s 190ms/step - loss: 2.0790 - accuracy: 0.2704 - val_loss: 1.9701 - val_accuracy: 0.3172\n",
      "Epoch 4/200\n",
      "662/662 [==============================] - ETA: 0s - loss: 1.9710 - accuracy: 0.3202\n",
      "Epoch 4: val_accuracy improved from 0.31722 to 0.36971, saving model to checkpoint\\cp.ckpt\n"
     ]
    },
    {
     "name": "stderr",
     "output_type": "stream",
     "text": [
      "WARNING:absl:Found untraced functions such as activation_6_layer_call_fn, activation_6_layer_call_and_return_conditional_losses, activation_7_layer_call_fn, activation_7_layer_call_and_return_conditional_losses, activation_8_layer_call_fn while saving (showing 5 of 6). These functions will not be directly callable after loading.\n"
     ]
    },
    {
     "name": "stdout",
     "output_type": "stream",
     "text": [
      "INFO:tensorflow:Assets written to: checkpoint\\cp.ckpt\\assets\n"
     ]
    },
    {
     "name": "stderr",
     "output_type": "stream",
     "text": [
      "INFO:tensorflow:Assets written to: checkpoint\\cp.ckpt\\assets\n"
     ]
    },
    {
     "name": "stdout",
     "output_type": "stream",
     "text": [
      "662/662 [==============================] - 123s 186ms/step - loss: 1.9710 - accuracy: 0.3202 - val_loss: 1.8495 - val_accuracy: 0.3697\n",
      "Epoch 5/200\n",
      "661/662 [============================>.] - ETA: 0s - loss: 1.9153 - accuracy: 0.3495\n",
      "Epoch 5: val_accuracy did not improve from 0.36971\n",
      "662/662 [==============================] - 120s 182ms/step - loss: 1.9159 - accuracy: 0.3489 - val_loss: 1.8394 - val_accuracy: 0.3656\n",
      "Epoch 6/200\n",
      "662/662 [==============================] - ETA: 0s - loss: 1.8675 - accuracy: 0.3716\n",
      "Epoch 6: val_accuracy did not improve from 0.36971\n",
      "662/662 [==============================] - 117s 178ms/step - loss: 1.8675 - accuracy: 0.3716 - val_loss: 1.8510 - val_accuracy: 0.3240\n",
      "Epoch 7/200\n",
      "662/662 [==============================] - ETA: 0s - loss: 1.8490 - accuracy: 0.3656\n",
      "Epoch 7: val_accuracy improved from 0.36971 to 0.39162, saving model to checkpoint\\cp.ckpt\n"
     ]
    },
    {
     "name": "stderr",
     "output_type": "stream",
     "text": [
      "WARNING:absl:Found untraced functions such as activation_6_layer_call_fn, activation_6_layer_call_and_return_conditional_losses, activation_7_layer_call_fn, activation_7_layer_call_and_return_conditional_losses, activation_8_layer_call_fn while saving (showing 5 of 6). These functions will not be directly callable after loading.\n"
     ]
    },
    {
     "name": "stdout",
     "output_type": "stream",
     "text": [
      "INFO:tensorflow:Assets written to: checkpoint\\cp.ckpt\\assets\n"
     ]
    },
    {
     "name": "stderr",
     "output_type": "stream",
     "text": [
      "INFO:tensorflow:Assets written to: checkpoint\\cp.ckpt\\assets\n"
     ]
    },
    {
     "name": "stdout",
     "output_type": "stream",
     "text": [
      "662/662 [==============================] - 116s 175ms/step - loss: 1.8490 - accuracy: 0.3656 - val_loss: 1.7219 - val_accuracy: 0.3916\n",
      "Epoch 8/200\n",
      "662/662 [==============================] - ETA: 0s - loss: 1.8863 - accuracy: 0.3550\n",
      "Epoch 8: val_accuracy improved from 0.39162 to 0.41767, saving model to checkpoint\\cp.ckpt\n"
     ]
    },
    {
     "name": "stderr",
     "output_type": "stream",
     "text": [
      "WARNING:absl:Found untraced functions such as activation_6_layer_call_fn, activation_6_layer_call_and_return_conditional_losses, activation_7_layer_call_fn, activation_7_layer_call_and_return_conditional_losses, activation_8_layer_call_fn while saving (showing 5 of 6). These functions will not be directly callable after loading.\n"
     ]
    },
    {
     "name": "stdout",
     "output_type": "stream",
     "text": [
      "INFO:tensorflow:Assets written to: checkpoint\\cp.ckpt\\assets\n"
     ]
    },
    {
     "name": "stderr",
     "output_type": "stream",
     "text": [
      "INFO:tensorflow:Assets written to: checkpoint\\cp.ckpt\\assets\n"
     ]
    },
    {
     "name": "stdout",
     "output_type": "stream",
     "text": [
      "662/662 [==============================] - 122s 185ms/step - loss: 1.8863 - accuracy: 0.3550 - val_loss: 1.7098 - val_accuracy: 0.4177\n",
      "Epoch 9/200\n",
      "662/662 [==============================] - ETA: 0s - loss: 1.8294 - accuracy: 0.3580\n",
      "Epoch 9: val_accuracy did not improve from 0.41767\n",
      "662/662 [==============================] - 116s 175ms/step - loss: 1.8294 - accuracy: 0.3580 - val_loss: 1.7232 - val_accuracy: 0.4101\n",
      "Epoch 10/200\n",
      "661/662 [============================>.] - ETA: 0s - loss: 1.8408 - accuracy: 0.3616\n",
      "Epoch 10: val_accuracy did not improve from 0.41767\n",
      "662/662 [==============================] - 123s 186ms/step - loss: 1.8401 - accuracy: 0.3625 - val_loss: 1.7258 - val_accuracy: 0.4018\n",
      "Epoch 11/200\n",
      "661/662 [============================>.] - ETA: 0s - loss: 1.7920 - accuracy: 0.3661\n",
      "Epoch 11: val_accuracy improved from 0.41767 to 0.42145, saving model to checkpoint\\cp.ckpt\n"
     ]
    },
    {
     "name": "stderr",
     "output_type": "stream",
     "text": [
      "WARNING:absl:Found untraced functions such as activation_6_layer_call_fn, activation_6_layer_call_and_return_conditional_losses, activation_7_layer_call_fn, activation_7_layer_call_and_return_conditional_losses, activation_8_layer_call_fn while saving (showing 5 of 6). These functions will not be directly callable after loading.\n"
     ]
    },
    {
     "name": "stdout",
     "output_type": "stream",
     "text": [
      "INFO:tensorflow:Assets written to: checkpoint\\cp.ckpt\\assets\n"
     ]
    },
    {
     "name": "stderr",
     "output_type": "stream",
     "text": [
      "INFO:tensorflow:Assets written to: checkpoint\\cp.ckpt\\assets\n"
     ]
    },
    {
     "name": "stdout",
     "output_type": "stream",
     "text": [
      "662/662 [==============================] - 121s 182ms/step - loss: 1.7898 - accuracy: 0.3671 - val_loss: 1.6537 - val_accuracy: 0.4215\n",
      "Epoch 12/200\n",
      "661/662 [============================>.] - ETA: 0s - loss: 1.6898 - accuracy: 0.4327\n",
      "Epoch 12: val_accuracy did not improve from 0.42145\n",
      "662/662 [==============================] - 115s 174ms/step - loss: 1.6923 - accuracy: 0.4320 - val_loss: 1.6922 - val_accuracy: 0.4192\n",
      "Epoch 13/200\n",
      "662/662 [==============================] - ETA: 0s - loss: 1.7274 - accuracy: 0.4124\n",
      "Epoch 13: val_accuracy improved from 0.42145 to 0.44184, saving model to checkpoint\\cp.ckpt\n"
     ]
    },
    {
     "name": "stderr",
     "output_type": "stream",
     "text": [
      "WARNING:absl:Found untraced functions such as activation_6_layer_call_fn, activation_6_layer_call_and_return_conditional_losses, activation_7_layer_call_fn, activation_7_layer_call_and_return_conditional_losses, activation_8_layer_call_fn while saving (showing 5 of 6). These functions will not be directly callable after loading.\n"
     ]
    },
    {
     "name": "stdout",
     "output_type": "stream",
     "text": [
      "INFO:tensorflow:Assets written to: checkpoint\\cp.ckpt\\assets\n"
     ]
    },
    {
     "name": "stderr",
     "output_type": "stream",
     "text": [
      "INFO:tensorflow:Assets written to: checkpoint\\cp.ckpt\\assets\n"
     ]
    },
    {
     "name": "stdout",
     "output_type": "stream",
     "text": [
      "662/662 [==============================] - 113s 171ms/step - loss: 1.7274 - accuracy: 0.4124 - val_loss: 1.6247 - val_accuracy: 0.4418\n",
      "Epoch 14/200\n",
      "662/662 [==============================] - ETA: 0s - loss: 1.7707 - accuracy: 0.4033\n",
      "Epoch 14: val_accuracy did not improve from 0.44184\n",
      "662/662 [==============================] - 115s 175ms/step - loss: 1.7707 - accuracy: 0.4033 - val_loss: 1.6624 - val_accuracy: 0.4199\n",
      "Epoch 15/200\n",
      "662/662 [==============================] - ETA: 0s - loss: 1.6351 - accuracy: 0.4215\n",
      "Epoch 15: val_accuracy did not improve from 0.44184\n",
      "662/662 [==============================] - 115s 174ms/step - loss: 1.6351 - accuracy: 0.4215 - val_loss: 1.6282 - val_accuracy: 0.4384\n",
      "Epoch 16/200\n",
      "661/662 [============================>.] - ETA: 0s - loss: 1.6619 - accuracy: 0.4191\n",
      "Epoch 16: val_accuracy did not improve from 0.44184\n",
      "662/662 [==============================] - 120s 181ms/step - loss: 1.6629 - accuracy: 0.4184 - val_loss: 1.6412 - val_accuracy: 0.4158\n",
      "Epoch 17/200\n",
      "662/662 [==============================] - ETA: 0s - loss: 1.6234 - accuracy: 0.4517\n",
      "Epoch 17: val_accuracy improved from 0.44184 to 0.44524, saving model to checkpoint\\cp.ckpt\n"
     ]
    },
    {
     "name": "stderr",
     "output_type": "stream",
     "text": [
      "WARNING:absl:Found untraced functions such as activation_6_layer_call_fn, activation_6_layer_call_and_return_conditional_losses, activation_7_layer_call_fn, activation_7_layer_call_and_return_conditional_losses, activation_8_layer_call_fn while saving (showing 5 of 6). These functions will not be directly callable after loading.\n"
     ]
    },
    {
     "name": "stdout",
     "output_type": "stream",
     "text": [
      "INFO:tensorflow:Assets written to: checkpoint\\cp.ckpt\\assets\n"
     ]
    },
    {
     "name": "stderr",
     "output_type": "stream",
     "text": [
      "INFO:tensorflow:Assets written to: checkpoint\\cp.ckpt\\assets\n"
     ]
    },
    {
     "name": "stdout",
     "output_type": "stream",
     "text": [
      "662/662 [==============================] - 118s 178ms/step - loss: 1.6234 - accuracy: 0.4517 - val_loss: 1.5620 - val_accuracy: 0.4452\n",
      "Epoch 18/200\n",
      "661/662 [============================>.] - ETA: 0s - loss: 1.7064 - accuracy: 0.4070\n",
      "Epoch 18: val_accuracy did not improve from 0.44524\n",
      "662/662 [==============================] - 124s 188ms/step - loss: 1.7044 - accuracy: 0.4079 - val_loss: 1.6808 - val_accuracy: 0.4237\n",
      "Epoch 19/200\n",
      "661/662 [============================>.] - ETA: 0s - loss: 1.6857 - accuracy: 0.3933\n",
      "Epoch 19: val_accuracy improved from 0.44524 to 0.44637, saving model to checkpoint\\cp.ckpt\n"
     ]
    },
    {
     "name": "stderr",
     "output_type": "stream",
     "text": [
      "WARNING:absl:Found untraced functions such as activation_6_layer_call_fn, activation_6_layer_call_and_return_conditional_losses, activation_7_layer_call_fn, activation_7_layer_call_and_return_conditional_losses, activation_8_layer_call_fn while saving (showing 5 of 6). These functions will not be directly callable after loading.\n"
     ]
    },
    {
     "name": "stdout",
     "output_type": "stream",
     "text": [
      "INFO:tensorflow:Assets written to: checkpoint\\cp.ckpt\\assets\n"
     ]
    },
    {
     "name": "stderr",
     "output_type": "stream",
     "text": [
      "INFO:tensorflow:Assets written to: checkpoint\\cp.ckpt\\assets\n"
     ]
    },
    {
     "name": "stdout",
     "output_type": "stream",
     "text": [
      "662/662 [==============================] - 121s 183ms/step - loss: 1.6840 - accuracy: 0.3943 - val_loss: 1.6006 - val_accuracy: 0.4464\n",
      "Epoch 20/200\n",
      "662/662 [==============================] - ETA: 0s - loss: 1.6378 - accuracy: 0.4441\n",
      "Epoch 20: val_accuracy improved from 0.44637 to 0.46261, saving model to checkpoint\\cp.ckpt\n"
     ]
    },
    {
     "name": "stderr",
     "output_type": "stream",
     "text": [
      "WARNING:absl:Found untraced functions such as activation_6_layer_call_fn, activation_6_layer_call_and_return_conditional_losses, activation_7_layer_call_fn, activation_7_layer_call_and_return_conditional_losses, activation_8_layer_call_fn while saving (showing 5 of 6). These functions will not be directly callable after loading.\n"
     ]
    },
    {
     "name": "stdout",
     "output_type": "stream",
     "text": [
      "INFO:tensorflow:Assets written to: checkpoint\\cp.ckpt\\assets\n"
     ]
    },
    {
     "name": "stderr",
     "output_type": "stream",
     "text": [
      "INFO:tensorflow:Assets written to: checkpoint\\cp.ckpt\\assets\n"
     ]
    },
    {
     "name": "stdout",
     "output_type": "stream",
     "text": [
      "662/662 [==============================] - 124s 187ms/step - loss: 1.6378 - accuracy: 0.4441 - val_loss: 1.5429 - val_accuracy: 0.4626\n",
      "Epoch 21/200\n",
      "662/662 [==============================] - ETA: 0s - loss: 1.5726 - accuracy: 0.4834\n",
      "Epoch 21: val_accuracy did not improve from 0.46261\n",
      "662/662 [==============================] - 127s 192ms/step - loss: 1.5726 - accuracy: 0.4834 - val_loss: 1.5866 - val_accuracy: 0.4373\n",
      "Epoch 22/200\n",
      "661/662 [============================>.] - ETA: 0s - loss: 1.6870 - accuracy: 0.4054\n",
      "Epoch 22: val_accuracy did not improve from 0.46261\n",
      "662/662 [==============================] - 123s 186ms/step - loss: 1.6883 - accuracy: 0.4048 - val_loss: 1.5468 - val_accuracy: 0.4554\n",
      "Epoch 23/200\n",
      "662/662 [==============================] - ETA: 0s - loss: 1.5409 - accuracy: 0.4471\n",
      "Epoch 23: val_accuracy improved from 0.46261 to 0.47054, saving model to checkpoint\\cp.ckpt\n"
     ]
    },
    {
     "name": "stderr",
     "output_type": "stream",
     "text": [
      "WARNING:absl:Found untraced functions such as activation_6_layer_call_fn, activation_6_layer_call_and_return_conditional_losses, activation_7_layer_call_fn, activation_7_layer_call_and_return_conditional_losses, activation_8_layer_call_fn while saving (showing 5 of 6). These functions will not be directly callable after loading.\n"
     ]
    },
    {
     "name": "stdout",
     "output_type": "stream",
     "text": [
      "INFO:tensorflow:Assets written to: checkpoint\\cp.ckpt\\assets\n"
     ]
    },
    {
     "name": "stderr",
     "output_type": "stream",
     "text": [
      "INFO:tensorflow:Assets written to: checkpoint\\cp.ckpt\\assets\n"
     ]
    },
    {
     "name": "stdout",
     "output_type": "stream",
     "text": [
      "662/662 [==============================] - 120s 181ms/step - loss: 1.5409 - accuracy: 0.4471 - val_loss: 1.4975 - val_accuracy: 0.4705\n",
      "Epoch 24/200\n",
      "661/662 [============================>.] - ETA: 0s - loss: 1.5458 - accuracy: 0.4690\n",
      "Epoch 24: val_accuracy did not improve from 0.47054\n",
      "662/662 [==============================] - 118s 179ms/step - loss: 1.5483 - accuracy: 0.4683 - val_loss: 1.5967 - val_accuracy: 0.4464\n",
      "Epoch 25/200\n",
      "662/662 [==============================] - ETA: 0s - loss: 1.6549 - accuracy: 0.4245\n",
      "Epoch 25: val_accuracy did not improve from 0.47054\n",
      "662/662 [==============================] - 120s 181ms/step - loss: 1.6549 - accuracy: 0.4245 - val_loss: 1.5916 - val_accuracy: 0.4468\n",
      "Epoch 26/200\n",
      "661/662 [============================>.] - ETA: 0s - loss: 1.6141 - accuracy: 0.4644\n",
      "Epoch 26: val_accuracy improved from 0.47054 to 0.47281, saving model to checkpoint\\cp.ckpt\n"
     ]
    },
    {
     "name": "stderr",
     "output_type": "stream",
     "text": [
      "WARNING:absl:Found untraced functions such as activation_6_layer_call_fn, activation_6_layer_call_and_return_conditional_losses, activation_7_layer_call_fn, activation_7_layer_call_and_return_conditional_losses, activation_8_layer_call_fn while saving (showing 5 of 6). These functions will not be directly callable after loading.\n"
     ]
    },
    {
     "name": "stdout",
     "output_type": "stream",
     "text": [
      "INFO:tensorflow:Assets written to: checkpoint\\cp.ckpt\\assets\n"
     ]
    },
    {
     "name": "stderr",
     "output_type": "stream",
     "text": [
      "INFO:tensorflow:Assets written to: checkpoint\\cp.ckpt\\assets\n"
     ]
    },
    {
     "name": "stdout",
     "output_type": "stream",
     "text": [
      "662/662 [==============================] - 121s 183ms/step - loss: 1.6174 - accuracy: 0.4637 - val_loss: 1.5006 - val_accuracy: 0.4728\n",
      "Epoch 27/200\n",
      "662/662 [==============================] - ETA: 0s - loss: 1.5750 - accuracy: 0.4456\n",
      "Epoch 27: val_accuracy improved from 0.47281 to 0.48150, saving model to checkpoint\\cp.ckpt\n"
     ]
    },
    {
     "name": "stderr",
     "output_type": "stream",
     "text": [
      "WARNING:absl:Found untraced functions such as activation_6_layer_call_fn, activation_6_layer_call_and_return_conditional_losses, activation_7_layer_call_fn, activation_7_layer_call_and_return_conditional_losses, activation_8_layer_call_fn while saving (showing 5 of 6). These functions will not be directly callable after loading.\n"
     ]
    },
    {
     "name": "stdout",
     "output_type": "stream",
     "text": [
      "INFO:tensorflow:Assets written to: checkpoint\\cp.ckpt\\assets\n"
     ]
    },
    {
     "name": "stderr",
     "output_type": "stream",
     "text": [
      "INFO:tensorflow:Assets written to: checkpoint\\cp.ckpt\\assets\n"
     ]
    },
    {
     "name": "stdout",
     "output_type": "stream",
     "text": [
      "662/662 [==============================] - 122s 184ms/step - loss: 1.5750 - accuracy: 0.4456 - val_loss: 1.4952 - val_accuracy: 0.4815\n",
      "Epoch 28/200\n",
      "661/662 [============================>.] - ETA: 0s - loss: 1.5572 - accuracy: 0.4644\n",
      "Epoch 28: val_accuracy did not improve from 0.48150\n",
      "662/662 [==============================] - 122s 184ms/step - loss: 1.5565 - accuracy: 0.4637 - val_loss: 1.5443 - val_accuracy: 0.4569\n",
      "Epoch 29/200\n",
      "661/662 [============================>.] - ETA: 0s - loss: 1.5918 - accuracy: 0.4402\n",
      "Epoch 29: val_accuracy improved from 0.48150 to 0.50378, saving model to checkpoint\\cp.ckpt\n"
     ]
    },
    {
     "name": "stderr",
     "output_type": "stream",
     "text": [
      "WARNING:absl:Found untraced functions such as activation_6_layer_call_fn, activation_6_layer_call_and_return_conditional_losses, activation_7_layer_call_fn, activation_7_layer_call_and_return_conditional_losses, activation_8_layer_call_fn while saving (showing 5 of 6). These functions will not be directly callable after loading.\n"
     ]
    },
    {
     "name": "stdout",
     "output_type": "stream",
     "text": [
      "INFO:tensorflow:Assets written to: checkpoint\\cp.ckpt\\assets\n"
     ]
    },
    {
     "name": "stderr",
     "output_type": "stream",
     "text": [
      "INFO:tensorflow:Assets written to: checkpoint\\cp.ckpt\\assets\n"
     ]
    },
    {
     "name": "stdout",
     "output_type": "stream",
     "text": [
      "662/662 [==============================] - 120s 182ms/step - loss: 1.5898 - accuracy: 0.4411 - val_loss: 1.4444 - val_accuracy: 0.5038\n",
      "Epoch 30/200\n",
      "661/662 [============================>.] - ETA: 0s - loss: 1.6212 - accuracy: 0.4357\n",
      "Epoch 30: val_accuracy did not improve from 0.50378\n",
      "662/662 [==============================] - 121s 184ms/step - loss: 1.6199 - accuracy: 0.4366 - val_loss: 1.5464 - val_accuracy: 0.4615\n",
      "Epoch 31/200\n",
      "661/662 [============================>.] - ETA: 0s - loss: 1.6192 - accuracy: 0.4629\n",
      "Epoch 31: val_accuracy did not improve from 0.50378\n",
      "662/662 [==============================] - 120s 182ms/step - loss: 1.6174 - accuracy: 0.4637 - val_loss: 1.4386 - val_accuracy: 0.4974\n",
      "Epoch 32/200\n",
      "662/662 [==============================] - ETA: 0s - loss: 1.6408 - accuracy: 0.4366\n",
      "Epoch 32: val_accuracy did not improve from 0.50378\n",
      "662/662 [==============================] - 122s 185ms/step - loss: 1.6408 - accuracy: 0.4366 - val_loss: 1.5535 - val_accuracy: 0.4547\n",
      "Epoch 33/200\n",
      "661/662 [============================>.] - ETA: 0s - loss: 1.5692 - accuracy: 0.4796\n",
      "Epoch 33: val_accuracy did not improve from 0.50378\n",
      "662/662 [==============================] - 114s 172ms/step - loss: 1.5670 - accuracy: 0.4804 - val_loss: 1.5151 - val_accuracy: 0.4600\n",
      "Epoch 34/200\n",
      "662/662 [==============================] - ETA: 0s - loss: 1.5265 - accuracy: 0.4804\n",
      "Epoch 34: val_accuracy did not improve from 0.50378\n",
      "662/662 [==============================] - 116s 176ms/step - loss: 1.5265 - accuracy: 0.4804 - val_loss: 1.5409 - val_accuracy: 0.4664\n",
      "Epoch 35/200\n",
      "661/662 [============================>.] - ETA: 0s - loss: 1.5701 - accuracy: 0.4720\n",
      "Epoch 35: val_accuracy did not improve from 0.50378\n",
      "662/662 [==============================] - 115s 174ms/step - loss: 1.5695 - accuracy: 0.4728 - val_loss: 1.4459 - val_accuracy: 0.4989\n",
      "Epoch 36/200\n",
      "661/662 [============================>.] - ETA: 0s - loss: 1.5609 - accuracy: 0.4418\n",
      "Epoch 36: val_accuracy did not improve from 0.50378\n",
      "662/662 [==============================] - 117s 176ms/step - loss: 1.5609 - accuracy: 0.4411 - val_loss: 1.5035 - val_accuracy: 0.4637\n",
      "Epoch 37/200\n",
      "662/662 [==============================] - ETA: 0s - loss: 1.5107 - accuracy: 0.4743\n",
      "Epoch 37: val_accuracy did not improve from 0.50378\n",
      "662/662 [==============================] - 114s 172ms/step - loss: 1.5107 - accuracy: 0.4743 - val_loss: 1.4771 - val_accuracy: 0.4717\n",
      "Epoch 38/200\n",
      "661/662 [============================>.] - ETA: 0s - loss: 1.4754 - accuracy: 0.4463\n",
      "Epoch 38: val_accuracy did not improve from 0.50378\n",
      "662/662 [==============================] - 113s 171ms/step - loss: 1.4735 - accuracy: 0.4471 - val_loss: 1.4449 - val_accuracy: 0.4868\n",
      "Epoch 39/200\n",
      "662/662 [==============================] - ETA: 0s - loss: 1.5729 - accuracy: 0.4622\n",
      "Epoch 39: val_accuracy did not improve from 0.50378\n",
      "662/662 [==============================] - 115s 173ms/step - loss: 1.5729 - accuracy: 0.4622 - val_loss: 1.4795 - val_accuracy: 0.4792\n",
      "Epoch 40/200\n",
      "662/662 [==============================] - ETA: 0s - loss: 1.5312 - accuracy: 0.4773\n",
      "Epoch 40: val_accuracy did not improve from 0.50378\n",
      "662/662 [==============================] - 119s 180ms/step - loss: 1.5312 - accuracy: 0.4773 - val_loss: 1.4562 - val_accuracy: 0.4868\n",
      "Epoch 41/200\n",
      "662/662 [==============================] - ETA: 0s - loss: 1.5325 - accuracy: 0.4819\n",
      "Epoch 41: val_accuracy did not improve from 0.50378\n",
      "662/662 [==============================] - 116s 175ms/step - loss: 1.5325 - accuracy: 0.4819 - val_loss: 1.4938 - val_accuracy: 0.4709\n",
      "Epoch 42/200\n",
      "662/662 [==============================] - ETA: 0s - loss: 1.5665 - accuracy: 0.4773\n",
      "Epoch 42: val_accuracy did not improve from 0.50378\n",
      "662/662 [==============================] - 118s 178ms/step - loss: 1.5665 - accuracy: 0.4773 - val_loss: 1.5102 - val_accuracy: 0.4615\n",
      "Epoch 43/200\n",
      "661/662 [============================>.] - ETA: 0s - loss: 1.5046 - accuracy: 0.4871\n",
      "Epoch 43: val_accuracy did not improve from 0.50378\n",
      "662/662 [==============================] - 116s 176ms/step - loss: 1.5048 - accuracy: 0.4879 - val_loss: 1.4581 - val_accuracy: 0.4932\n",
      "Epoch 44/200\n",
      "661/662 [============================>.] - ETA: 0s - loss: 1.5327 - accuracy: 0.4781\n",
      "Epoch 44: val_accuracy did not improve from 0.50378\n",
      "662/662 [==============================] - 116s 176ms/step - loss: 1.5315 - accuracy: 0.4789 - val_loss: 1.4711 - val_accuracy: 0.4773\n",
      "Epoch 45/200\n",
      "662/662 [==============================] - ETA: 0s - loss: 1.4970 - accuracy: 0.4728\n",
      "Epoch 45: val_accuracy did not improve from 0.50378\n",
      "662/662 [==============================] - 113s 170ms/step - loss: 1.4970 - accuracy: 0.4728 - val_loss: 1.4685 - val_accuracy: 0.4883\n",
      "Epoch 46/200\n",
      "661/662 [============================>.] - ETA: 0s - loss: 1.5240 - accuracy: 0.4750\n",
      "Epoch 46: val_accuracy did not improve from 0.50378\n",
      "662/662 [==============================] - 114s 172ms/step - loss: 1.5240 - accuracy: 0.4743 - val_loss: 1.4907 - val_accuracy: 0.4785\n",
      "Epoch 47/200\n",
      "662/662 [==============================] - ETA: 0s - loss: 1.5413 - accuracy: 0.4441\n",
      "Epoch 47: val_accuracy did not improve from 0.50378\n",
      "662/662 [==============================] - 113s 171ms/step - loss: 1.5413 - accuracy: 0.4441 - val_loss: 1.4217 - val_accuracy: 0.4932\n",
      "Epoch 48/200\n",
      "662/662 [==============================] - ETA: 0s - loss: 1.5683 - accuracy: 0.4668\n",
      "Epoch 48: val_accuracy did not improve from 0.50378\n",
      "662/662 [==============================] - 115s 174ms/step - loss: 1.5683 - accuracy: 0.4668 - val_loss: 1.5244 - val_accuracy: 0.4736\n",
      "Epoch 49/200\n",
      "662/662 [==============================] - ETA: 0s - loss: 1.4856 - accuracy: 0.4819\n",
      "Epoch 49: val_accuracy improved from 0.50378 to 0.50793, saving model to checkpoint\\cp.ckpt\n"
     ]
    },
    {
     "name": "stderr",
     "output_type": "stream",
     "text": [
      "WARNING:absl:Found untraced functions such as activation_6_layer_call_fn, activation_6_layer_call_and_return_conditional_losses, activation_7_layer_call_fn, activation_7_layer_call_and_return_conditional_losses, activation_8_layer_call_fn while saving (showing 5 of 6). These functions will not be directly callable after loading.\n"
     ]
    },
    {
     "name": "stdout",
     "output_type": "stream",
     "text": [
      "INFO:tensorflow:Assets written to: checkpoint\\cp.ckpt\\assets\n"
     ]
    },
    {
     "name": "stderr",
     "output_type": "stream",
     "text": [
      "INFO:tensorflow:Assets written to: checkpoint\\cp.ckpt\\assets\n"
     ]
    },
    {
     "name": "stdout",
     "output_type": "stream",
     "text": [
      "662/662 [==============================] - 114s 172ms/step - loss: 1.4856 - accuracy: 0.4819 - val_loss: 1.4127 - val_accuracy: 0.5079\n",
      "Epoch 50/200\n",
      "662/662 [==============================] - ETA: 0s - loss: 1.5096 - accuracy: 0.4804\n",
      "Epoch 50: val_accuracy improved from 0.50793 to 0.52644, saving model to checkpoint\\cp.ckpt\n"
     ]
    },
    {
     "name": "stderr",
     "output_type": "stream",
     "text": [
      "WARNING:absl:Found untraced functions such as activation_6_layer_call_fn, activation_6_layer_call_and_return_conditional_losses, activation_7_layer_call_fn, activation_7_layer_call_and_return_conditional_losses, activation_8_layer_call_fn while saving (showing 5 of 6). These functions will not be directly callable after loading.\n"
     ]
    },
    {
     "name": "stdout",
     "output_type": "stream",
     "text": [
      "INFO:tensorflow:Assets written to: checkpoint\\cp.ckpt\\assets\n"
     ]
    },
    {
     "name": "stderr",
     "output_type": "stream",
     "text": [
      "INFO:tensorflow:Assets written to: checkpoint\\cp.ckpt\\assets\n"
     ]
    },
    {
     "name": "stdout",
     "output_type": "stream",
     "text": [
      "662/662 [==============================] - 115s 174ms/step - loss: 1.5096 - accuracy: 0.4804 - val_loss: 1.3734 - val_accuracy: 0.5264\n",
      "Epoch 51/200\n",
      "661/662 [============================>.] - ETA: 0s - loss: 1.4966 - accuracy: 0.4826\n",
      "Epoch 51: val_accuracy did not improve from 0.52644\n",
      "662/662 [==============================] - 115s 173ms/step - loss: 1.4947 - accuracy: 0.4834 - val_loss: 1.4327 - val_accuracy: 0.4868\n",
      "Epoch 52/200\n",
      "662/662 [==============================] - ETA: 0s - loss: 1.4995 - accuracy: 0.4864\n",
      "Epoch 52: val_accuracy did not improve from 0.52644\n",
      "662/662 [==============================] - 112s 169ms/step - loss: 1.4995 - accuracy: 0.4864 - val_loss: 1.3848 - val_accuracy: 0.5091\n",
      "Epoch 53/200\n",
      "661/662 [============================>.] - ETA: 0s - loss: 1.4170 - accuracy: 0.5053\n",
      "Epoch 53: val_accuracy did not improve from 0.52644\n",
      "662/662 [==============================] - 113s 170ms/step - loss: 1.4154 - accuracy: 0.5060 - val_loss: 1.4185 - val_accuracy: 0.5019\n",
      "Epoch 54/200\n",
      "662/662 [==============================] - ETA: 0s - loss: 1.5096 - accuracy: 0.4985\n",
      "Epoch 54: val_accuracy did not improve from 0.52644\n",
      "662/662 [==============================] - 112s 170ms/step - loss: 1.5096 - accuracy: 0.4985 - val_loss: 1.4557 - val_accuracy: 0.5000\n",
      "Epoch 55/200\n",
      "661/662 [============================>.] - ETA: 0s - loss: 1.5330 - accuracy: 0.4902\n",
      "Epoch 55: val_accuracy did not improve from 0.52644\n",
      "662/662 [==============================] - 113s 171ms/step - loss: 1.5310 - accuracy: 0.4909 - val_loss: 1.4047 - val_accuracy: 0.5004\n",
      "Epoch 56/200\n",
      "661/662 [============================>.] - ETA: 0s - loss: 1.4293 - accuracy: 0.5159\n",
      "Epoch 56: val_accuracy did not improve from 0.52644\n",
      "662/662 [==============================] - 115s 174ms/step - loss: 1.4273 - accuracy: 0.5166 - val_loss: 1.4656 - val_accuracy: 0.4789\n",
      "Epoch 57/200\n",
      "661/662 [============================>.] - ETA: 0s - loss: 1.4734 - accuracy: 0.4902\n",
      "Epoch 57: val_accuracy did not improve from 0.52644\n",
      "662/662 [==============================] - 112s 170ms/step - loss: 1.4762 - accuracy: 0.4894 - val_loss: 1.3878 - val_accuracy: 0.5162\n",
      "Epoch 58/200\n",
      "662/662 [==============================] - ETA: 0s - loss: 1.5098 - accuracy: 0.4909\n",
      "Epoch 58: val_accuracy did not improve from 0.52644\n",
      "662/662 [==============================] - 114s 173ms/step - loss: 1.5098 - accuracy: 0.4909 - val_loss: 1.4070 - val_accuracy: 0.5049\n",
      "Epoch 59/200\n",
      "662/662 [==============================] - ETA: 0s - loss: 1.5726 - accuracy: 0.4728\n",
      "Epoch 59: val_accuracy did not improve from 0.52644\n",
      "662/662 [==============================] - 114s 172ms/step - loss: 1.5726 - accuracy: 0.4728 - val_loss: 1.3735 - val_accuracy: 0.5132\n",
      "Epoch 60/200\n",
      "661/662 [============================>.] - ETA: 0s - loss: 1.5206 - accuracy: 0.4811\n",
      "Epoch 60: val_accuracy did not improve from 0.52644\n",
      "662/662 [==============================] - 118s 178ms/step - loss: 1.5207 - accuracy: 0.4804 - val_loss: 1.3695 - val_accuracy: 0.5211\n",
      "Epoch 61/200\n",
      "662/662 [==============================] - ETA: 0s - loss: 1.3787 - accuracy: 0.5166\n",
      "Epoch 61: val_accuracy improved from 0.52644 to 0.53134, saving model to checkpoint\\cp.ckpt\n"
     ]
    },
    {
     "name": "stderr",
     "output_type": "stream",
     "text": [
      "WARNING:absl:Found untraced functions such as activation_6_layer_call_fn, activation_6_layer_call_and_return_conditional_losses, activation_7_layer_call_fn, activation_7_layer_call_and_return_conditional_losses, activation_8_layer_call_fn while saving (showing 5 of 6). These functions will not be directly callable after loading.\n"
     ]
    },
    {
     "name": "stdout",
     "output_type": "stream",
     "text": [
      "INFO:tensorflow:Assets written to: checkpoint\\cp.ckpt\\assets\n"
     ]
    },
    {
     "name": "stderr",
     "output_type": "stream",
     "text": [
      "INFO:tensorflow:Assets written to: checkpoint\\cp.ckpt\\assets\n"
     ]
    },
    {
     "name": "stdout",
     "output_type": "stream",
     "text": [
      "662/662 [==============================] - 115s 174ms/step - loss: 1.3787 - accuracy: 0.5166 - val_loss: 1.3591 - val_accuracy: 0.5313\n",
      "Epoch 62/200\n",
      "662/662 [==============================] - ETA: 0s - loss: 1.4744 - accuracy: 0.5015\n",
      "Epoch 62: val_accuracy did not improve from 0.53134\n",
      "662/662 [==============================] - 113s 171ms/step - loss: 1.4744 - accuracy: 0.5015 - val_loss: 1.4135 - val_accuracy: 0.5015\n",
      "Epoch 63/200\n",
      "662/662 [==============================] - ETA: 0s - loss: 1.4866 - accuracy: 0.4970\n",
      "Epoch 63: val_accuracy did not improve from 0.53134\n",
      "662/662 [==============================] - 111s 167ms/step - loss: 1.4866 - accuracy: 0.4970 - val_loss: 1.3593 - val_accuracy: 0.5177\n",
      "Epoch 64/200\n",
      "662/662 [==============================] - ETA: 0s - loss: 1.5208 - accuracy: 0.4713\n",
      "Epoch 64: val_accuracy did not improve from 0.53134\n",
      "662/662 [==============================] - 113s 171ms/step - loss: 1.5208 - accuracy: 0.4713 - val_loss: 1.4685 - val_accuracy: 0.4909\n",
      "Epoch 65/200\n",
      "662/662 [==============================] - ETA: 0s - loss: 1.4504 - accuracy: 0.4864\n",
      "Epoch 65: val_accuracy did not improve from 0.53134\n",
      "662/662 [==============================] - 111s 168ms/step - loss: 1.4504 - accuracy: 0.4864 - val_loss: 1.3708 - val_accuracy: 0.5249\n",
      "Epoch 66/200\n",
      "661/662 [============================>.] - ETA: 0s - loss: 1.5253 - accuracy: 0.4932\n",
      "Epoch 66: val_accuracy did not improve from 0.53134\n",
      "662/662 [==============================] - 112s 169ms/step - loss: 1.5232 - accuracy: 0.4940 - val_loss: 1.3688 - val_accuracy: 0.5174\n",
      "Epoch 67/200\n",
      "662/662 [==============================] - ETA: 0s - loss: 1.5320 - accuracy: 0.4924\n",
      "Epoch 67: val_accuracy did not improve from 0.53134\n",
      "662/662 [==============================] - 112s 169ms/step - loss: 1.5320 - accuracy: 0.4924 - val_loss: 1.4490 - val_accuracy: 0.4902\n",
      "Epoch 68/200\n",
      "661/662 [============================>.] - ETA: 0s - loss: 1.5229 - accuracy: 0.4932\n",
      "Epoch 68: val_accuracy did not improve from 0.53134\n",
      "662/662 [==============================] - 113s 171ms/step - loss: 1.5221 - accuracy: 0.4940 - val_loss: 1.4398 - val_accuracy: 0.5038\n",
      "Epoch 69/200\n",
      "662/662 [==============================] - ETA: 0s - loss: 1.5216 - accuracy: 0.4864\n",
      "Epoch 69: val_accuracy did not improve from 0.53134\n",
      "662/662 [==============================] - 112s 170ms/step - loss: 1.5216 - accuracy: 0.4864 - val_loss: 1.4009 - val_accuracy: 0.5185\n",
      "Epoch 70/200\n",
      "661/662 [============================>.] - ETA: 0s - loss: 1.4631 - accuracy: 0.5113\n",
      "Epoch 70: val_accuracy did not improve from 0.53134\n",
      "662/662 [==============================] - 114s 172ms/step - loss: 1.4662 - accuracy: 0.5106 - val_loss: 1.4845 - val_accuracy: 0.4879\n",
      "Epoch 71/200\n",
      "662/662 [==============================] - ETA: 0s - loss: 1.5022 - accuracy: 0.5030\n",
      "Epoch 71: val_accuracy did not improve from 0.53134\n",
      "662/662 [==============================] - 114s 172ms/step - loss: 1.5022 - accuracy: 0.5030 - val_loss: 1.3659 - val_accuracy: 0.5238\n",
      "Epoch 72/200\n",
      "662/662 [==============================] - ETA: 0s - loss: 1.4474 - accuracy: 0.5227\n",
      "Epoch 72: val_accuracy did not improve from 0.53134\n",
      "662/662 [==============================] - 113s 171ms/step - loss: 1.4474 - accuracy: 0.5227 - val_loss: 1.4215 - val_accuracy: 0.5042\n",
      "Epoch 73/200\n",
      "662/662 [==============================] - ETA: 0s - loss: 1.3473 - accuracy: 0.5408\n",
      "Epoch 73: val_accuracy did not improve from 0.53134\n",
      "662/662 [==============================] - 122s 185ms/step - loss: 1.3473 - accuracy: 0.5408 - val_loss: 1.4741 - val_accuracy: 0.4898\n",
      "Epoch 74/200\n",
      "661/662 [============================>.] - ETA: 0s - loss: 1.4768 - accuracy: 0.5008\n",
      "Epoch 74: val_accuracy did not improve from 0.53134\n",
      "662/662 [==============================] - 114s 173ms/step - loss: 1.4777 - accuracy: 0.5000 - val_loss: 1.3670 - val_accuracy: 0.5276\n",
      "Epoch 75/200\n",
      "662/662 [==============================] - ETA: 0s - loss: 1.4523 - accuracy: 0.5076\n",
      "Epoch 75: val_accuracy improved from 0.53134 to 0.54116, saving model to checkpoint\\cp.ckpt\n"
     ]
    },
    {
     "name": "stderr",
     "output_type": "stream",
     "text": [
      "WARNING:absl:Found untraced functions such as activation_6_layer_call_fn, activation_6_layer_call_and_return_conditional_losses, activation_7_layer_call_fn, activation_7_layer_call_and_return_conditional_losses, activation_8_layer_call_fn while saving (showing 5 of 6). These functions will not be directly callable after loading.\n"
     ]
    },
    {
     "name": "stdout",
     "output_type": "stream",
     "text": [
      "INFO:tensorflow:Assets written to: checkpoint\\cp.ckpt\\assets\n"
     ]
    },
    {
     "name": "stderr",
     "output_type": "stream",
     "text": [
      "INFO:tensorflow:Assets written to: checkpoint\\cp.ckpt\\assets\n"
     ]
    },
    {
     "name": "stdout",
     "output_type": "stream",
     "text": [
      "662/662 [==============================] - 114s 172ms/step - loss: 1.4523 - accuracy: 0.5076 - val_loss: 1.3298 - val_accuracy: 0.5412\n",
      "Epoch 76/200\n",
      "662/662 [==============================] - ETA: 0s - loss: 1.5628 - accuracy: 0.4532\n",
      "Epoch 76: val_accuracy did not improve from 0.54116\n",
      "662/662 [==============================] - 122s 184ms/step - loss: 1.5628 - accuracy: 0.4532 - val_loss: 1.3516 - val_accuracy: 0.5245\n",
      "Epoch 77/200\n",
      "662/662 [==============================] - ETA: 0s - loss: 1.4200 - accuracy: 0.4879\n",
      "Epoch 77: val_accuracy did not improve from 0.54116\n",
      "662/662 [==============================] - 116s 175ms/step - loss: 1.4200 - accuracy: 0.4879 - val_loss: 1.3728 - val_accuracy: 0.5313\n",
      "Epoch 78/200\n",
      "661/662 [============================>.] - ETA: 0s - loss: 1.3886 - accuracy: 0.5083\n",
      "Epoch 78: val_accuracy did not improve from 0.54116\n",
      "662/662 [==============================] - 116s 175ms/step - loss: 1.3883 - accuracy: 0.5091 - val_loss: 1.3552 - val_accuracy: 0.5347\n",
      "Epoch 79/200\n",
      "661/662 [============================>.] - ETA: 0s - loss: 1.4921 - accuracy: 0.4902\n",
      "Epoch 79: val_accuracy did not improve from 0.54116\n",
      "662/662 [==============================] - 116s 175ms/step - loss: 1.4949 - accuracy: 0.4894 - val_loss: 1.3441 - val_accuracy: 0.5317\n",
      "Epoch 80/200\n",
      "662/662 [==============================] - ETA: 0s - loss: 1.4191 - accuracy: 0.5151\n",
      "Epoch 80: val_accuracy improved from 0.54116 to 0.55476, saving model to checkpoint\\cp.ckpt\n"
     ]
    },
    {
     "name": "stderr",
     "output_type": "stream",
     "text": [
      "WARNING:absl:Found untraced functions such as activation_6_layer_call_fn, activation_6_layer_call_and_return_conditional_losses, activation_7_layer_call_fn, activation_7_layer_call_and_return_conditional_losses, activation_8_layer_call_fn while saving (showing 5 of 6). These functions will not be directly callable after loading.\n"
     ]
    },
    {
     "name": "stdout",
     "output_type": "stream",
     "text": [
      "INFO:tensorflow:Assets written to: checkpoint\\cp.ckpt\\assets\n"
     ]
    },
    {
     "name": "stderr",
     "output_type": "stream",
     "text": [
      "INFO:tensorflow:Assets written to: checkpoint\\cp.ckpt\\assets\n"
     ]
    },
    {
     "name": "stdout",
     "output_type": "stream",
     "text": [
      "662/662 [==============================] - 117s 176ms/step - loss: 1.4191 - accuracy: 0.5151 - val_loss: 1.3042 - val_accuracy: 0.5548\n",
      "Epoch 81/200\n",
      "662/662 [==============================] - ETA: 0s - loss: 1.4794 - accuracy: 0.5091\n",
      "Epoch 81: val_accuracy did not improve from 0.55476\n",
      "662/662 [==============================] - 120s 181ms/step - loss: 1.4794 - accuracy: 0.5091 - val_loss: 1.3052 - val_accuracy: 0.5344\n",
      "Epoch 82/200\n",
      "662/662 [==============================] - ETA: 0s - loss: 1.3894 - accuracy: 0.5483\n",
      "Epoch 82: val_accuracy did not improve from 0.55476\n",
      "662/662 [==============================] - 117s 176ms/step - loss: 1.3894 - accuracy: 0.5483 - val_loss: 1.2947 - val_accuracy: 0.5483\n",
      "Epoch 83/200\n",
      "662/662 [==============================] - ETA: 0s - loss: 1.3898 - accuracy: 0.5136\n",
      "Epoch 83: val_accuracy did not improve from 0.55476\n",
      "662/662 [==============================] - 115s 174ms/step - loss: 1.3898 - accuracy: 0.5136 - val_loss: 1.3579 - val_accuracy: 0.5366\n",
      "Epoch 84/200\n",
      "662/662 [==============================] - ETA: 0s - loss: 1.4450 - accuracy: 0.5257\n",
      "Epoch 84: val_accuracy did not improve from 0.55476\n",
      "662/662 [==============================] - 117s 178ms/step - loss: 1.4450 - accuracy: 0.5257 - val_loss: 1.4223 - val_accuracy: 0.5117\n",
      "Epoch 85/200\n",
      "661/662 [============================>.] - ETA: 0s - loss: 1.4002 - accuracy: 0.5008\n",
      "Epoch 85: val_accuracy did not improve from 0.55476\n",
      "662/662 [==============================] - 116s 175ms/step - loss: 1.4003 - accuracy: 0.5000 - val_loss: 1.3311 - val_accuracy: 0.5389\n",
      "Epoch 86/200\n",
      "661/662 [============================>.] - ETA: 0s - loss: 1.4450 - accuracy: 0.5356\n",
      "Epoch 86: val_accuracy did not improve from 0.55476\n",
      "662/662 [==============================] - 117s 177ms/step - loss: 1.4439 - accuracy: 0.5363 - val_loss: 1.3797 - val_accuracy: 0.5045\n",
      "Epoch 87/200\n",
      "661/662 [============================>.] - ETA: 0s - loss: 1.5448 - accuracy: 0.4554\n",
      "Epoch 87: val_accuracy did not improve from 0.55476\n",
      "662/662 [==============================] - 118s 178ms/step - loss: 1.5451 - accuracy: 0.4547 - val_loss: 1.3406 - val_accuracy: 0.5389\n",
      "Epoch 88/200\n",
      "662/662 [==============================] - ETA: 0s - loss: 1.4147 - accuracy: 0.5076\n",
      "Epoch 88: val_accuracy did not improve from 0.55476\n",
      "662/662 [==============================] - 117s 178ms/step - loss: 1.4147 - accuracy: 0.5076 - val_loss: 1.3300 - val_accuracy: 0.5302\n",
      "Epoch 89/200\n",
      "662/662 [==============================] - ETA: 0s - loss: 1.4017 - accuracy: 0.5106\n",
      "Epoch 89: val_accuracy did not improve from 0.55476\n",
      "662/662 [==============================] - 116s 176ms/step - loss: 1.4017 - accuracy: 0.5106 - val_loss: 1.3512 - val_accuracy: 0.5264\n",
      "Epoch 90/200\n",
      "662/662 [==============================] - ETA: 0s - loss: 1.5187 - accuracy: 0.4773\n",
      "Epoch 90: val_accuracy improved from 0.55476 to 0.55551, saving model to checkpoint\\cp.ckpt\n"
     ]
    },
    {
     "name": "stderr",
     "output_type": "stream",
     "text": [
      "WARNING:absl:Found untraced functions such as activation_6_layer_call_fn, activation_6_layer_call_and_return_conditional_losses, activation_7_layer_call_fn, activation_7_layer_call_and_return_conditional_losses, activation_8_layer_call_fn while saving (showing 5 of 6). These functions will not be directly callable after loading.\n"
     ]
    },
    {
     "name": "stdout",
     "output_type": "stream",
     "text": [
      "INFO:tensorflow:Assets written to: checkpoint\\cp.ckpt\\assets\n"
     ]
    },
    {
     "name": "stderr",
     "output_type": "stream",
     "text": [
      "INFO:tensorflow:Assets written to: checkpoint\\cp.ckpt\\assets\n"
     ]
    },
    {
     "name": "stdout",
     "output_type": "stream",
     "text": [
      "662/662 [==============================] - 118s 179ms/step - loss: 1.5187 - accuracy: 0.4773 - val_loss: 1.2923 - val_accuracy: 0.5555\n",
      "Epoch 91/200\n",
      "662/662 [==============================] - ETA: 0s - loss: 1.3694 - accuracy: 0.5257\n",
      "Epoch 91: val_accuracy did not improve from 0.55551\n",
      "662/662 [==============================] - 116s 175ms/step - loss: 1.3694 - accuracy: 0.5257 - val_loss: 1.3061 - val_accuracy: 0.5397\n",
      "Epoch 92/200\n",
      "661/662 [============================>.] - ETA: 0s - loss: 1.5069 - accuracy: 0.5159\n",
      "Epoch 92: val_accuracy did not improve from 0.55551\n",
      "662/662 [==============================] - 114s 172ms/step - loss: 1.5054 - accuracy: 0.5166 - val_loss: 1.3594 - val_accuracy: 0.5166\n",
      "Epoch 93/200\n",
      "662/662 [==============================] - ETA: 0s - loss: 1.3580 - accuracy: 0.5272\n",
      "Epoch 93: val_accuracy did not improve from 0.55551\n",
      "662/662 [==============================] - 114s 173ms/step - loss: 1.3580 - accuracy: 0.5272 - val_loss: 1.3145 - val_accuracy: 0.5427\n",
      "Epoch 94/200\n",
      "661/662 [============================>.] - ETA: 0s - loss: 1.4127 - accuracy: 0.5219\n",
      "Epoch 94: val_accuracy did not improve from 0.55551\n",
      "662/662 [==============================] - 115s 175ms/step - loss: 1.4119 - accuracy: 0.5211 - val_loss: 1.3422 - val_accuracy: 0.5400\n",
      "Epoch 95/200\n",
      "662/662 [==============================] - ETA: 0s - loss: 1.3970 - accuracy: 0.5302\n",
      "Epoch 95: val_accuracy did not improve from 0.55551\n",
      "662/662 [==============================] - 114s 172ms/step - loss: 1.3970 - accuracy: 0.5302 - val_loss: 1.3226 - val_accuracy: 0.5302\n",
      "Epoch 96/200\n",
      "662/662 [==============================] - ETA: 0s - loss: 1.4846 - accuracy: 0.5030\n",
      "Epoch 96: val_accuracy did not improve from 0.55551\n",
      "662/662 [==============================] - 118s 178ms/step - loss: 1.4846 - accuracy: 0.5030 - val_loss: 1.2981 - val_accuracy: 0.5434\n",
      "Epoch 97/200\n",
      "662/662 [==============================] - ETA: 0s - loss: 1.3465 - accuracy: 0.5242\n",
      "Epoch 97: val_accuracy did not improve from 0.55551\n",
      "662/662 [==============================] - 114s 173ms/step - loss: 1.3465 - accuracy: 0.5242 - val_loss: 1.3345 - val_accuracy: 0.5245\n",
      "Epoch 98/200\n",
      "662/662 [==============================] - ETA: 0s - loss: 1.3679 - accuracy: 0.5393\n",
      "Epoch 98: val_accuracy did not improve from 0.55551\n",
      "662/662 [==============================] - 115s 173ms/step - loss: 1.3679 - accuracy: 0.5393 - val_loss: 1.2813 - val_accuracy: 0.5427\n",
      "Epoch 99/200\n",
      "662/662 [==============================] - ETA: 0s - loss: 1.4713 - accuracy: 0.4909\n",
      "Epoch 99: val_accuracy did not improve from 0.55551\n",
      "662/662 [==============================] - 114s 173ms/step - loss: 1.4713 - accuracy: 0.4909 - val_loss: 1.3146 - val_accuracy: 0.5483\n",
      "Epoch 100/200\n",
      "662/662 [==============================] - ETA: 0s - loss: 1.4548 - accuracy: 0.5181\n",
      "Epoch 100: val_accuracy did not improve from 0.55551\n",
      "662/662 [==============================] - 118s 179ms/step - loss: 1.4548 - accuracy: 0.5181 - val_loss: 1.3104 - val_accuracy: 0.5393\n",
      "Epoch 101/200\n",
      "662/662 [==============================] - ETA: 0s - loss: 1.4182 - accuracy: 0.5211\n",
      "Epoch 101: val_accuracy did not improve from 0.55551\n",
      "662/662 [==============================] - 116s 175ms/step - loss: 1.4182 - accuracy: 0.5211 - val_loss: 1.4338 - val_accuracy: 0.4951\n",
      "Epoch 102/200\n",
      "662/662 [==============================] - ETA: 0s - loss: 1.3952 - accuracy: 0.5045\n",
      "Epoch 102: val_accuracy did not improve from 0.55551\n",
      "662/662 [==============================] - 116s 176ms/step - loss: 1.3952 - accuracy: 0.5045 - val_loss: 1.3392 - val_accuracy: 0.5204\n",
      "Epoch 103/200\n",
      "662/662 [==============================] - ETA: 0s - loss: 1.3719 - accuracy: 0.5544\n",
      "Epoch 103: val_accuracy did not improve from 0.55551\n",
      "662/662 [==============================] - 114s 173ms/step - loss: 1.3719 - accuracy: 0.5544 - val_loss: 1.3283 - val_accuracy: 0.5480\n",
      "Epoch 104/200\n",
      "662/662 [==============================] - ETA: 0s - loss: 1.4146 - accuracy: 0.5045\n",
      "Epoch 104: val_accuracy did not improve from 0.55551\n",
      "662/662 [==============================] - 116s 175ms/step - loss: 1.4146 - accuracy: 0.5045 - val_loss: 1.3513 - val_accuracy: 0.5419\n",
      "Epoch 105/200\n",
      "662/662 [==============================] - ETA: 0s - loss: 1.3988 - accuracy: 0.5181\n",
      "Epoch 105: val_accuracy did not improve from 0.55551\n",
      "662/662 [==============================] - 115s 173ms/step - loss: 1.3988 - accuracy: 0.5181 - val_loss: 1.3159 - val_accuracy: 0.5400\n",
      "Epoch 106/200\n",
      "662/662 [==============================] - ETA: 0s - loss: 1.3777 - accuracy: 0.5272\n",
      "Epoch 106: val_accuracy did not improve from 0.55551\n",
      "662/662 [==============================] - 115s 174ms/step - loss: 1.3777 - accuracy: 0.5272 - val_loss: 1.3121 - val_accuracy: 0.5336\n",
      "Epoch 107/200\n",
      "662/662 [==============================] - ETA: 0s - loss: 1.4696 - accuracy: 0.5136\n",
      "Epoch 107: val_accuracy did not improve from 0.55551\n",
      "662/662 [==============================] - 115s 174ms/step - loss: 1.4696 - accuracy: 0.5136 - val_loss: 1.4288 - val_accuracy: 0.5211\n",
      "Epoch 108/200\n",
      "662/662 [==============================] - ETA: 0s - loss: 1.4733 - accuracy: 0.5227\n",
      "Epoch 108: val_accuracy did not improve from 0.55551\n",
      "662/662 [==============================] - 115s 174ms/step - loss: 1.4733 - accuracy: 0.5227 - val_loss: 1.4251 - val_accuracy: 0.4909\n",
      "Epoch 109/200\n",
      "661/662 [============================>.] - ETA: 0s - loss: 1.4616 - accuracy: 0.5174\n",
      "Epoch 109: val_accuracy did not improve from 0.55551\n",
      "662/662 [==============================] - 116s 176ms/step - loss: 1.4595 - accuracy: 0.5181 - val_loss: 1.3527 - val_accuracy: 0.5313\n",
      "Epoch 110/200\n",
      "662/662 [==============================] - ETA: 0s - loss: 1.4912 - accuracy: 0.5106\n",
      "Epoch 110: val_accuracy did not improve from 0.55551\n",
      "662/662 [==============================] - 114s 173ms/step - loss: 1.4912 - accuracy: 0.5106 - val_loss: 1.4033 - val_accuracy: 0.5295\n",
      "Epoch 110: early stopping\n"
     ]
    }
   ],
   "source": [
    "checkpointpath=\"checkpoint/cp.ckpt\"\n",
    "checkpointer = ModelCheckpoint(checkpointpath, monitor='val_accuracy',\n",
    "                               verbose=2, save_best_only=True, mode='max')\n",
    "early_stop = EarlyStopping(monitor='val_accuracy', patience=20, verbose=2)\n",
    "callbackList= [checkpointer, early_stop]\n",
    "history=model.fit(train_prefit, validation_data=valid_prefit, epochs=200, callbacks=callbackList, steps_per_epoch=662, verbose=1)"
   ]
  },
  {
   "cell_type": "code",
   "execution_count": 63,
   "metadata": {},
   "outputs": [
    {
     "data": {
      "text/plain": [
       "<matplotlib.legend.Legend at 0x1ca23d8c250>"
      ]
     },
     "execution_count": 63,
     "metadata": {},
     "output_type": "execute_result"
    },
    {
     "data": {
      "image/png": "[encoded data removed]",
      "text/plain": [
       "<Figure size 432x288 with 1 Axes>"
      ]
     },
     "metadata": {
      "needs_background": "light"
     },
     "output_type": "display_data"
    }
   ],
   "source": [
    "plt.plot(history.history['accuracy'], label='train')\n",
    "plt.plot(history.history['val_accuracy'], label = 'test')\n",
    "plt.xlabel('Epoch')\n",
    "plt.ylabel('Accuracy')\n",
    "plt.ylim([0, 1])\n",
    "plt.legend(loc='lower right')"
   ]
  },
  {
   "cell_type": "code",
   "execution_count": 62,
   "metadata": {},
   "outputs": [
    {
     "name": "stdout",
     "output_type": "stream",
     "text": [
      "2606/2606 [==============================] - 124s 47ms/step - loss: 1.4067 - accuracy: 0.5307\n",
      "Test Score:  [1.406658411026001, 0.5306983590126038]\n"
     ]
    }
   ],
   "source": [
    "print(\"Test Score: \", model.evaluate(test_prefit))"
   ]
  },
  {
   "cell_type": "code",
   "execution_count": 64,
   "metadata": {},
   "outputs": [
    {
     "data": {
      "text/plain": [
       "<tensorflow.python.training.tracking.util.CheckpointLoadStatus at 0x1ca23caa4f0>"
      ]
     },
     "execution_count": 64,
     "metadata": {},
     "output_type": "execute_result"
    }
   ],
   "source": [
    "model.load_weights(checkpointpath)"
   ]
  },
  {
   "cell_type": "code",
   "execution_count": 65,
   "metadata": {},
   "outputs": [
    {
     "name": "stdout",
     "output_type": "stream",
     "text": [
      "2606/2606 [==============================] - 106s 41ms/step - loss: 1.3215 - accuracy: 0.5499\n",
      "Test Score:  [1.3215107917785645, 0.5498848557472229]\n"
     ]
    }
   ],
   "source": [
    "print(\"Test Score: \", model.evaluate(test_prefit))"
   ]
  },
  {
   "cell_type": "markdown",
   "metadata": {},
   "source": [
    "ADDING SECOND DATASET"
   ]
  },
  {
   "cell_type": "code",
   "execution_count": null,
   "metadata": {},
   "outputs": [],
   "source": [
    "train2_prefit = prefit(path=train_paths)"
   ]
  },
  {
   "cell_type": "code",
   "execution_count": null,
   "metadata": {},
   "outputs": [
    {
     "name": "stdout",
     "output_type": "stream",
     "text": [
      "Epoch 1/10\n",
      "10/10 - 4s - loss: 146.7196 - accuracy: 0.0000e+00 - 4s/epoch - 386ms/step\n",
      "Epoch 2/10\n",
      "10/10 - 5s - loss: 4.4903 - accuracy: 0.0000e+00 - 5s/epoch - 467ms/step\n",
      "Epoch 3/10\n",
      "10/10 - 4s - loss: 2.8922 - accuracy: 0.1374 - 4s/epoch - 444ms/step\n",
      "Epoch 4/10\n",
      "10/10 - 5s - loss: 2.6725 - accuracy: 0.0060 - 5s/epoch - 505ms/step\n",
      "Epoch 5/10\n",
      "10/10 - 5s - loss: 2.9794 - accuracy: 0.0959 - 5s/epoch - 549ms/step\n",
      "Epoch 6/10\n",
      "10/10 - 6s - loss: 2.7908 - accuracy: 0.0000e+00 - 6s/epoch - 591ms/step\n",
      "Epoch 7/10\n",
      "10/10 - 6s - loss: 2.6360 - accuracy: 0.0988 - 6s/epoch - 599ms/step\n",
      "Epoch 8/10\n",
      "10/10 - 6s - loss: 2.6354 - accuracy: 0.2022 - 6s/epoch - 643ms/step\n",
      "Epoch 9/10\n",
      "10/10 - 7s - loss: 2.6410 - accuracy: 0.0997 - 7s/epoch - 678ms/step\n",
      "Epoch 10/10\n",
      "10/10 - 7s - loss: 2.6389 - accuracy: 0.1009 - 7s/epoch - 690ms/step\n"
     ]
    }
   ],
   "source": [
    "history=model.fit(data2, epochs=10, verbose=2)"
   ]
  },
  {
   "cell_type": "code",
   "execution_count": null,
   "metadata": {},
   "outputs": [
    {
     "name": "stdout",
     "output_type": "stream",
     "text": [
      "10/10 [==============================] - 3s 238ms/step - loss: 2.6375 - accuracy: 0.0000e+00\n",
      "Test Score:  [2.6375293731689453, 0.0]\n"
     ]
    }
   ],
   "source": [
    "print(\"Test Score: \", model.evaluate(data))"
   ]
  },
  {
   "cell_type": "code",
   "execution_count": null,
   "metadata": {},
   "outputs": [
    {
     "data": {
      "text/plain": [
       "<matplotlib.legend.Legend at 0x256516c4c40>"
      ]
     },
     "execution_count": 17,
     "metadata": {},
     "output_type": "execute_result"
    },
    {
     "data": {
      "image/png": "[encoded data removed]",
      "text/plain": [
       "<Figure size 432x288 with 1 Axes>"
      ]
     },
     "metadata": {
      "needs_background": "light"
     },
     "output_type": "display_data"
    }
   ],
   "source": [
    "plt.plot(history.history['accuracy'], label='train')\n",
    "#plt.plot(history.history['val_accuracy'], label = 'test')\n",
    "plt.xlabel('Epoch')\n",
    "plt.ylabel('Accuracy')\n",
    "plt.ylim([0, 1])\n",
    "plt.legend(loc='lower right')"
   ]
  },
  {
   "cell_type": "code",
   "execution_count": 32,
   "metadata": {},
   "outputs": [],
   "source": [
    "inverse_worddict=dict((v, k) for k, v in prefit_data.worddict.items())"
   ]
  },
  {
   "cell_type": "code",
   "execution_count": 35,
   "metadata": {},
   "outputs": [],
   "source": [
    "def mfcc_extractor(file):\n",
    "    signal, sample_rate = librosa.load(file)\n",
    "    ipd.Audio(file)\n",
    "    mfccs_features = librosa.feature.mfcc(y=signal, sr=sample_rate, n_mfcc=40)\n",
    "    mfccs_scaled_features = np.mean(mfccs_features.T, axis=0)\n",
    "    \n",
    "    return mfccs_scaled_features"
   ]
  },
  {
   "cell_type": "code",
   "execution_count": 40,
   "metadata": {},
   "outputs": [
    {
     "data": {
      "text/plain": [
       "array([-3.7937509e+02,  1.0185578e+02, -1.8799070e+01,  2.2251308e+01,\n",
       "       -7.0540333e+00, -1.2938453e+01, -1.0100121e+01, -1.1337861e+01,\n",
       "       -5.9151464e+00,  9.4830263e-01,  4.8738021e-01, -8.5327635e+00,\n",
       "       -2.0648711e+00, -7.1784778e+00, -3.9210703e+00,  1.0371338e+00,\n",
       "       -6.1326141e+00, -4.4220195e+00, -1.2640775e+01, -1.5805532e+01,\n",
       "       -3.0032020e+00, -2.5017748e+00, -9.9128670e-01,  2.4950564e+00,\n",
       "       -2.4508030e+00,  1.6640465e+00, -1.1013594e-02, -2.2699633e+00,\n",
       "        2.2324312e+00, -2.0490513e+00, -4.1297235e+00, -5.9483304e+00,\n",
       "       -9.7534809e+00, -6.2976561e+00, -1.6762021e+00, -9.3641275e-01,\n",
       "        6.8987975e+00,  1.1467242e+01,  5.5930357e+00,  8.1722374e+00],\n",
       "      dtype=float32)"
      ]
     },
     "execution_count": 40,
     "metadata": {},
     "output_type": "execute_result"
    }
   ],
   "source": [
    "ac= mfcc_extractor('C:/Users/sarib/Desktop/Gohm/SpeechRecognition/database/asagi/asagi_AHCG_WFMOQIR.wav')\n",
    "ac"
   ]
  },
  {
   "cell_type": "code",
   "execution_count": 37,
   "metadata": {},
   "outputs": [],
   "source": [
    "predictiondata_feataures =[]\n",
    "counter_true=0\n",
    "for root, directories, files in os.walk(\"C:/Users/sarib/Desktop/Gohm/SpeechRecognition/RecordsFromDataset\"): \n",
    "    for file_names in files:\n",
    "        if root is not root_path:\n",
    "            #print(os.path.join(root,file_names) )\n",
    "            r = mfcc_extractor(os.path.join(root,file_names))\n",
    "            rl=r.reshape(1,-1)\n",
    "            #rl = r[np.newaxis, ...]\n",
    "            predicted_label=tuple(np.argmax(model.predict(rl), axis=1))\n",
    "            prediction_class = inverse_worddict[predicted_label[0]]\n",
    "            predictiondata_feataures.append([os.path.basename(os.path.normpath(root)),prediction_class,predicted_label[0]])\n",
    "            if os.path.basename(os.path.normpath(root))==prediction_class:\n",
    "                counter_true+=1"
   ]
  },
  {
   "cell_type": "code",
   "execution_count": 38,
   "metadata": {},
   "outputs": [
    {
     "name": "stdout",
     "output_type": "stream",
     "text": [
      "The percantage of the true predicted data:  61.904761904761905 %\n"
     ]
    },
    {
     "data": {
      "text/html": [
       "<div>\n",
       "<style scoped>\n",
       "    .dataframe tbody tr th:only-of-type {\n",
       "        vertical-align: middle;\n",
       "    }\n",
       "\n",
       "    .dataframe tbody tr th {\n",
       "        vertical-align: top;\n",
       "    }\n",
       "\n",
       "    .dataframe thead th {\n",
       "        text-align: right;\n",
       "    }\n",
       "</style>\n",
       "<table border=\"1\" class=\"dataframe\">\n",
       "  <thead>\n",
       "    <tr style=\"text-align: right;\">\n",
       "      <th></th>\n",
       "      <th>actual data</th>\n",
       "      <th>predicted data</th>\n",
       "      <th>predicted label</th>\n",
       "    </tr>\n",
       "  </thead>\n",
       "  <tbody>\n",
       "    <tr>\n",
       "      <th>0</th>\n",
       "      <td>ac</td>\n",
       "      <td>ac</td>\n",
       "      <td>0</td>\n",
       "    </tr>\n",
       "    <tr>\n",
       "      <th>1</th>\n",
       "      <td>ac</td>\n",
       "      <td>devam</td>\n",
       "      <td>3</td>\n",
       "    </tr>\n",
       "    <tr>\n",
       "      <th>2</th>\n",
       "      <td>ac</td>\n",
       "      <td>ac</td>\n",
       "      <td>0</td>\n",
       "    </tr>\n",
       "    <tr>\n",
       "      <th>3</th>\n",
       "      <td>asagi</td>\n",
       "      <td>asagi</td>\n",
       "      <td>1</td>\n",
       "    </tr>\n",
       "    <tr>\n",
       "      <th>4</th>\n",
       "      <td>asagi</td>\n",
       "      <td>asagi</td>\n",
       "      <td>1</td>\n",
       "    </tr>\n",
       "    <tr>\n",
       "      <th>5</th>\n",
       "      <td>asagi</td>\n",
       "      <td>baslat</td>\n",
       "      <td>2</td>\n",
       "    </tr>\n",
       "    <tr>\n",
       "      <th>6</th>\n",
       "      <td>baslat</td>\n",
       "      <td>asagi</td>\n",
       "      <td>1</td>\n",
       "    </tr>\n",
       "    <tr>\n",
       "      <th>7</th>\n",
       "      <td>baslat</td>\n",
       "      <td>baslat</td>\n",
       "      <td>2</td>\n",
       "    </tr>\n",
       "    <tr>\n",
       "      <th>8</th>\n",
       "      <td>baslat</td>\n",
       "      <td>baslat</td>\n",
       "      <td>2</td>\n",
       "    </tr>\n",
       "    <tr>\n",
       "      <th>9</th>\n",
       "      <td>devam</td>\n",
       "      <td>devam</td>\n",
       "      <td>3</td>\n",
       "    </tr>\n",
       "    <tr>\n",
       "      <th>10</th>\n",
       "      <td>devam</td>\n",
       "      <td>devam</td>\n",
       "      <td>3</td>\n",
       "    </tr>\n",
       "    <tr>\n",
       "      <th>11</th>\n",
       "      <td>devam</td>\n",
       "      <td>devam</td>\n",
       "      <td>3</td>\n",
       "    </tr>\n",
       "    <tr>\n",
       "      <th>12</th>\n",
       "      <td>dur</td>\n",
       "      <td>dur</td>\n",
       "      <td>4</td>\n",
       "    </tr>\n",
       "    <tr>\n",
       "      <th>13</th>\n",
       "      <td>dur</td>\n",
       "      <td>dur</td>\n",
       "      <td>4</td>\n",
       "    </tr>\n",
       "    <tr>\n",
       "      <th>14</th>\n",
       "      <td>dur</td>\n",
       "      <td>kapa</td>\n",
       "      <td>10</td>\n",
       "    </tr>\n",
       "    <tr>\n",
       "      <th>15</th>\n",
       "      <td>evet</td>\n",
       "      <td>devam</td>\n",
       "      <td>3</td>\n",
       "    </tr>\n",
       "    <tr>\n",
       "      <th>16</th>\n",
       "      <td>evet</td>\n",
       "      <td>asagi</td>\n",
       "      <td>1</td>\n",
       "    </tr>\n",
       "    <tr>\n",
       "      <th>17</th>\n",
       "      <td>evet</td>\n",
       "      <td>evet</td>\n",
       "      <td>5</td>\n",
       "    </tr>\n",
       "    <tr>\n",
       "      <th>18</th>\n",
       "      <td>geri</td>\n",
       "      <td>geri</td>\n",
       "      <td>6</td>\n",
       "    </tr>\n",
       "    <tr>\n",
       "      <th>19</th>\n",
       "      <td>geri</td>\n",
       "      <td>geri</td>\n",
       "      <td>6</td>\n",
       "    </tr>\n",
       "    <tr>\n",
       "      <th>20</th>\n",
       "      <td>geri</td>\n",
       "      <td>geri</td>\n",
       "      <td>6</td>\n",
       "    </tr>\n",
       "    <tr>\n",
       "      <th>21</th>\n",
       "      <td>hayir</td>\n",
       "      <td>evet</td>\n",
       "      <td>5</td>\n",
       "    </tr>\n",
       "    <tr>\n",
       "      <th>22</th>\n",
       "      <td>hayir</td>\n",
       "      <td>evet</td>\n",
       "      <td>5</td>\n",
       "    </tr>\n",
       "    <tr>\n",
       "      <th>23</th>\n",
       "      <td>hayir</td>\n",
       "      <td>baslat</td>\n",
       "      <td>2</td>\n",
       "    </tr>\n",
       "    <tr>\n",
       "      <th>24</th>\n",
       "      <td>ileri</td>\n",
       "      <td>ileri</td>\n",
       "      <td>8</td>\n",
       "    </tr>\n",
       "    <tr>\n",
       "      <th>25</th>\n",
       "      <td>ileri</td>\n",
       "      <td>ileri</td>\n",
       "      <td>8</td>\n",
       "    </tr>\n",
       "    <tr>\n",
       "      <th>26</th>\n",
       "      <td>ileri</td>\n",
       "      <td>ileri</td>\n",
       "      <td>8</td>\n",
       "    </tr>\n",
       "    <tr>\n",
       "      <th>27</th>\n",
       "      <td>iptal</td>\n",
       "      <td>ileri</td>\n",
       "      <td>8</td>\n",
       "    </tr>\n",
       "    <tr>\n",
       "      <th>28</th>\n",
       "      <td>iptal</td>\n",
       "      <td>asagi</td>\n",
       "      <td>1</td>\n",
       "    </tr>\n",
       "    <tr>\n",
       "      <th>29</th>\n",
       "      <td>iptal</td>\n",
       "      <td>geri</td>\n",
       "      <td>6</td>\n",
       "    </tr>\n",
       "    <tr>\n",
       "      <th>30</th>\n",
       "      <td>kapa</td>\n",
       "      <td>devam</td>\n",
       "      <td>3</td>\n",
       "    </tr>\n",
       "    <tr>\n",
       "      <th>31</th>\n",
       "      <td>kapa</td>\n",
       "      <td>kapa</td>\n",
       "      <td>10</td>\n",
       "    </tr>\n",
       "    <tr>\n",
       "      <th>32</th>\n",
       "      <td>kapa</td>\n",
       "      <td>kapa</td>\n",
       "      <td>10</td>\n",
       "    </tr>\n",
       "    <tr>\n",
       "      <th>33</th>\n",
       "      <td>sag</td>\n",
       "      <td>sag</td>\n",
       "      <td>11</td>\n",
       "    </tr>\n",
       "    <tr>\n",
       "      <th>34</th>\n",
       "      <td>sag</td>\n",
       "      <td>sag</td>\n",
       "      <td>11</td>\n",
       "    </tr>\n",
       "    <tr>\n",
       "      <th>35</th>\n",
       "      <td>sag</td>\n",
       "      <td>kapa</td>\n",
       "      <td>10</td>\n",
       "    </tr>\n",
       "    <tr>\n",
       "      <th>36</th>\n",
       "      <td>sol</td>\n",
       "      <td>kapa</td>\n",
       "      <td>10</td>\n",
       "    </tr>\n",
       "    <tr>\n",
       "      <th>37</th>\n",
       "      <td>sol</td>\n",
       "      <td>sol</td>\n",
       "      <td>12</td>\n",
       "    </tr>\n",
       "    <tr>\n",
       "      <th>38</th>\n",
       "      <td>sol</td>\n",
       "      <td>sol</td>\n",
       "      <td>12</td>\n",
       "    </tr>\n",
       "    <tr>\n",
       "      <th>39</th>\n",
       "      <td>yukari</td>\n",
       "      <td>yukari</td>\n",
       "      <td>13</td>\n",
       "    </tr>\n",
       "    <tr>\n",
       "      <th>40</th>\n",
       "      <td>yukari</td>\n",
       "      <td>yukari</td>\n",
       "      <td>13</td>\n",
       "    </tr>\n",
       "    <tr>\n",
       "      <th>41</th>\n",
       "      <td>yukari</td>\n",
       "      <td>devam</td>\n",
       "      <td>3</td>\n",
       "    </tr>\n",
       "  </tbody>\n",
       "</table>\n",
       "</div>"
      ],
      "text/plain": [
       "   actual data predicted data  predicted label\n",
       "0           ac             ac                0\n",
       "1           ac          devam                3\n",
       "2           ac             ac                0\n",
       "3        asagi          asagi                1\n",
       "4        asagi          asagi                1\n",
       "5        asagi         baslat                2\n",
       "6       baslat          asagi                1\n",
       "7       baslat         baslat                2\n",
       "8       baslat         baslat                2\n",
       "9        devam          devam                3\n",
       "10       devam          devam                3\n",
       "11       devam          devam                3\n",
       "12         dur            dur                4\n",
       "13         dur            dur                4\n",
       "14         dur           kapa               10\n",
       "15        evet          devam                3\n",
       "16        evet          asagi                1\n",
       "17        evet           evet                5\n",
       "18        geri           geri                6\n",
       "19        geri           geri                6\n",
       "20        geri           geri                6\n",
       "21       hayir           evet                5\n",
       "22       hayir           evet                5\n",
       "23       hayir         baslat                2\n",
       "24       ileri          ileri                8\n",
       "25       ileri          ileri                8\n",
       "26       ileri          ileri                8\n",
       "27       iptal          ileri                8\n",
       "28       iptal          asagi                1\n",
       "29       iptal           geri                6\n",
       "30        kapa          devam                3\n",
       "31        kapa           kapa               10\n",
       "32        kapa           kapa               10\n",
       "33         sag            sag               11\n",
       "34         sag            sag               11\n",
       "35         sag           kapa               10\n",
       "36         sol           kapa               10\n",
       "37         sol            sol               12\n",
       "38         sol            sol               12\n",
       "39      yukari         yukari               13\n",
       "40      yukari         yukari               13\n",
       "41      yukari          devam                3"
      ]
     },
     "execution_count": 38,
     "metadata": {},
     "output_type": "execute_result"
    }
   ],
   "source": [
    "predictiondata_feataures_dataframe= pd.DataFrame(predictiondata_feataures, columns=[\"actual data\", \"predicted data\", \"predicted label\"])\n",
    "percentage= (counter_true/len(predictiondata_feataures))*100\n",
    "print(\"The percantage of the true predicted data: \", percentage,\"%\")\n",
    "predictiondata_feataures_dataframe"
   ]
  }
 ],
 "metadata": {
  "interpreter": {
   "hash": "1baa965d5efe3ac65b79dfc60c0d706280b1da80fedb7760faf2759126c4f253"
  },
  "kernelspec": {
   "display_name": "Python 3.8.10 64-bit",
   "language": "python",
   "name": "python3"
  },
  "language_info": {
   "codemirror_mode": {
    "name": "ipython",
    "version": 3
   },
   "file_extension": ".py",
   "mimetype": "text/x-python",
   "name": "python",
   "nbconvert_exporter": "python",
   "pygments_lexer": "ipython3",
   "version": "3.8.10"
  },
  "orig_nbformat": 4
 },
 "nbformat": 4,
 "nbformat_minor": 2
}
